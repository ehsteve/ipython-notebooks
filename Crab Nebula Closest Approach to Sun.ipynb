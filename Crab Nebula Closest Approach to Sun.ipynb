{
 "metadata": {
  "name": "",
  "signature": "sha256:d896ea07f6b6f3e64e8836fe730c23be76a5207520ccbb1c381f9b2a0a5b3b2d"
 },
 "nbformat": 3,
 "nbformat_minor": 0,
 "worksheets": [
  {
   "cells": [
    {
     "cell_type": "code",
     "collapsed": false,
     "input": [
      "import ephem\n",
      "import matplotlib.pyplot as plt\n",
      "import datetime\n",
      "from matplotlib.dates import date2num\n",
      "%matplotlib inline"
     ],
     "language": "python",
     "metadata": {},
     "outputs": [],
     "prompt_number": 62
    },
    {
     "cell_type": "code",
     "collapsed": false,
     "input": [
      "sun = ephem.Sun()\n",
      "crab = ephem.readdb('Crab Nebula,f|R,5:34:31.9,22:0:52,8.4,2000,360')"
     ],
     "language": "python",
     "metadata": {},
     "outputs": [],
     "prompt_number": 41
    },
    {
     "cell_type": "code",
     "collapsed": false,
     "input": [
      "t = '1996/02/10 12:00'"
     ],
     "language": "python",
     "metadata": {},
     "outputs": [],
     "prompt_number": 42
    },
    {
     "cell_type": "code",
     "collapsed": false,
     "input": [
      "sun.compute(t)\n",
      "crab.compute(t)"
     ],
     "language": "python",
     "metadata": {},
     "outputs": [],
     "prompt_number": 43
    },
    {
     "cell_type": "code",
     "collapsed": false,
     "input": [
      "print(\"%s %s\" % (sun.a_dec, sun.a_ra))"
     ],
     "language": "python",
     "metadata": {},
     "outputs": [
      {
       "output_type": "stream",
       "stream": "stdout",
       "text": [
        "-14:37:49.4 21:31:55.08\n"
       ]
      }
     ],
     "prompt_number": 44
    },
    {
     "cell_type": "code",
     "collapsed": false,
     "input": [
      "print(\"%s %s\" % (crab.a_dec, crab.a_ra))"
     ],
     "language": "python",
     "metadata": {},
     "outputs": [
      {
       "output_type": "stream",
       "stream": "stdout",
       "text": [
        "22:00:52.0 5:34:31.90\n"
       ]
      }
     ],
     "prompt_number": 45
    },
    {
     "cell_type": "code",
     "collapsed": false,
     "input": [
      "np.rad2deg(ephem.separation(sun, crab))"
     ],
     "language": "python",
     "metadata": {},
     "outputs": [
      {
       "metadata": {},
       "output_type": "pyout",
       "prompt_number": 50,
       "text": [
        "123.51479666114865"
       ]
      }
     ],
     "prompt_number": 50
    },
    {
     "cell_type": "code",
     "collapsed": false,
     "input": [
      "start_date = datetime.datetime(2001, 6, 14, 12, 0)\n",
      "dates = [start_date + datetime.timedelta(0,d,0) for d in range(1,10*6000)]\n",
      "angular_separation = []\n",
      "for d in dates:\n",
      "    crab.compute(d)\n",
      "    sun.compute(d)\n",
      "    angular_separation.append(np.rad2deg(ephem.separation(sun, crab)))\n",
      "fig = plt.figure()\n",
      "ax = plt.plot(dates, np.rad2deg(angular_separation), '-')\n",
      "plt.grid(True)\n",
      "fig.autofmt_xdate()\n",
      "plt.show()"
     ],
     "language": "python",
     "metadata": {},
     "outputs": [
      {
       "metadata": {},
       "output_type": "display_data",
       "png": "[encoded data removed]",
       "text": [
        "<matplotlib.figure.Figure at 0x106c3a6d0>"
       ]
      }
     ],
     "prompt_number": 94
    },
    {
     "cell_type": "code",
     "collapsed": false,
     "input": [],
     "language": "python",
     "metadata": {},
     "outputs": [],
     "prompt_number": 86
    },
    {
     "cell_type": "code",
     "collapsed": false,
     "input": [],
     "language": "python",
     "metadata": {},
     "outputs": []
    }
   ],
   "metadata": {}
  }
 ]
}