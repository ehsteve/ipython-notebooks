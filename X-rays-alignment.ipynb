{
 "metadata": {
  "name": "",
  "signature": "sha256:49d9841749804f1d6af754e9dd9edee66336b800a46fbcb96c54b93331e09aef"
 },
 "nbformat": 3,
 "nbformat_minor": 0,
 "worksheets": [
  {
   "cells": [
    {
     "cell_type": "heading",
     "level": 1,
     "metadata": {},
     "source": [
      "Ray tracing test for the X-rays alignment:\u00b6"
     ]
    },
    {
     "cell_type": "code",
     "collapsed": false,
     "input": [
      "import foxsisim\n",
      "from foxsisim.module import Module\n",
      "from foxsisim.detector import Detector\n",
      "from foxsisim.source import Source\n",
      "from foxsisim.plotting import scatterHist\n",
      "import matplotlib.pyplot as plt\n",
      "from foxsisim.plotting import plot\n",
      "import numpy as np\n",
      "%matplotlib inline"
     ],
     "language": "python",
     "metadata": {},
     "outputs": [],
     "prompt_number": 1
    },
    {
     "cell_type": "markdown",
     "metadata": {},
     "source": [
      "After make a complete alignment using the X-rays generator yesterday (November 10, 2014), today we are  ready to do an analysis of the how off-axis are the optical modules mounted over the foxsi meter-tube.\n",
      "\n"
     ]
    },
    {
     "cell_type": "code",
     "collapsed": false,
     "input": [
      "# create module of 7 shells\n",
      "#module = Module(radii=[5.151,4.9,4.659,4.429,4.21,4.0,3.799],\n",
      "module = Module(radii=[5.151, 3.799],\n",
      "                seglen=30.0,\n",
      "                base=[0,0,0],\n",
      "                focal=200,\n",
      "                angles=None,\n",
      "                conic=False)\n",
      "\n",
      "detector = Detector(width=2, \n",
      "                    height=2,\n",
      "                    normal=[0,0,1],\n",
      "                    center=[0,0,200.0+30.0],\n",
      "                    reso =[256,256])"
     ],
     "language": "python",
     "metadata": {},
     "outputs": [],
     "prompt_number": 2
    },
    {
     "cell_type": "code",
     "collapsed": false,
     "input": [
      "source_distance = -2187.5\n",
      "offaxis_angle_arcmin = 0.0\n",
      "source = Source(type='point',          \n",
      "                center=[ source_distance * np.sin(np.deg2rad(offaxis_angle_arcmin/60.0)) , 0.0 , source_distance ],\n",
      "                color=[0,1,1])"
     ],
     "language": "python",
     "metadata": {},
     "outputs": [],
     "prompt_number": 3
    },
    {
     "cell_type": "code",
     "collapsed": false,
     "input": [
      "rays = source.generateRays(module.targetFront, 10)\n",
      "module.passRays(rays, robust=True)\n",
      "detector.catchRays(rays)"
     ],
     "language": "python",
     "metadata": {},
     "outputs": [
      {
       "output_type": "stream",
       "stream": "stdout",
       "text": [
        "0 ray bounce number 1\n",
        "[-0.00942174 -0.01176619  0.99988639]\n",
        "0 ray bounce number 2\n",
        "[-0.01495632 -0.01867795  0.99971368]\n",
        "2 ray bounce number 1\n",
        "[ 0.00813149  0.01257094  0.99988792]\n",
        "2 ray bounce number 2\n",
        "None\n",
        "2 ray killed by reflect\n",
        "4 ray bounce number 1\n",
        "[ 0.01105836  0.01023287  0.99988649]\n",
        "4 ray bounce number 2\n",
        "[ 0.01758537  0.01627265  0.99971294]\n",
        "4 ray bounce number 3\n",
        "None\n",
        "4 ray killed by reflect\n",
        "6 ray bounce number 1\n",
        "[ -4.09627916e-02   1.28058749e-04   9.99160664e-01]\n",
        "6 ray bounce number 2\n",
        "None\n",
        "6 ray killed by reflect\n",
        "7 ray bounce number 1\n",
        "[ 0.03223915 -0.0253576   0.99915846]\n",
        "8 ray bounce number 1\n",
        "[ 0.03642411  0.01923226  0.99915134]\n",
        "8 ray bounce number 2\n",
        "None\n",
        "8 ray killed by reflect\n"
       ]
      }
     ],
     "prompt_number": 4
    },
    {
     "cell_type": "code",
     "collapsed": false,
     "input": [
      "plot(detector)"
     ],
     "language": "python",
     "metadata": {},
     "outputs": [
      {
       "metadata": {},
       "output_type": "display_data",
       "png": "[encoded data removed]",
       "text": [
        "<matplotlib.figure.Figure at 0x10445f750>"
       ]
      }
     ],
     "prompt_number": 5
    },
    {
     "cell_type": "code",
     "collapsed": false,
     "input": [
      "scatterHist(rays)"
     ],
     "language": "python",
     "metadata": {},
     "outputs": [
      {
       "metadata": {},
       "output_type": "display_data",
       "png": "[encoded data removed]",
       "text": [
        "<matplotlib.figure.Figure at 0x107b4e850>"
       ]
      }
     ],
     "prompt_number": 6
    },
    {
     "cell_type": "code",
     "collapsed": false,
     "input": [
      "for ray in rays:\n",
      "    print(\"x=%f, y=%f, bounce=%i, dead=%i\" % (ray.des[0], ray.des[1], ray.bounces, ray.dead))"
     ],
     "language": "python",
     "metadata": {},
     "outputs": [
      {
       "output_type": "stream",
       "stream": "stdout",
       "text": [
        "x=0.286698, y=0.358038, bounce=2, dead=1\n",
        "x=0.000000, y=0.000000, bounce=0, dead=0\n",
        "x=0.000000, y=0.000000, bounce=2, dead=1\n",
        "x=0.000000, y=0.000000, bounce=0, dead=0\n",
        "x=0.000000, y=0.000000, bounce=3, dead=1\n",
        "x=0.000000, y=0.000000, bounce=0, dead=0\n",
        "x=0.000000, y=0.000000, bounce=2, dead=1\n",
        "x=0.000000, y=0.000000, bounce=1, dead=0\n",
        "x=0.000000, y=0.000000, bounce=2, dead=1\n",
        "x=0.000000, y=0.000000, bounce=0, dead=0\n"
       ]
      }
     ],
     "prompt_number": 7
    },
    {
     "cell_type": "code",
     "collapsed": false,
     "input": [
      "np.sum([ray.dead for ray in rays])"
     ],
     "language": "python",
     "metadata": {},
     "outputs": [
      {
       "metadata": {},
       "output_type": "pyout",
       "prompt_number": 8,
       "text": [
        "5"
       ]
      }
     ],
     "prompt_number": 8
    },
    {
     "cell_type": "code",
     "collapsed": false,
     "input": [
      "fig = plt.figure(figsize=(7,7), dpi=100)\n",
      "\n",
      "x = np.array([ray.des[0] for ray in rays])\n",
      "y = np.array([ray.des[1] for ray in rays])\n",
      "\n",
      "# Defining colors:\n",
      "colors = []\n",
      "for ray in rays:\n",
      "        if ray.bounces == 1: col = 'r' # red\n",
      "        elif ray.bounces == 2: col = 'g' # green\n",
      "        elif ray.bounces == 3: col = 'b' # blue\n",
      "        else: col = 'k' # black\n",
      "        colors.append(col)\n",
      "\n",
      "# definitions for the axes \n",
      "left, width = 0.1, 0.8\n",
      "bottom, height = 0.1, 0.8\n",
      "rect_scatter = [left, bottom, width, height]\n",
      "axScatter = fig.add_axes(rect_scatter)\n",
      "        \n",
      "axScatter.scatter(x,y,c=colors)\n",
      "\n",
      "plt.title('X-rays alignment - simulation')\n",
      "plt.grid()\n",
      "plt.show()"
     ],
     "language": "python",
     "metadata": {},
     "outputs": [
      {
       "metadata": {},
       "output_type": "display_data",
       "png": "[encoded data removed]",
       "text": [
        "<matplotlib.figure.Figure at 0x1083bc590>"
       ]
      }
     ],
     "prompt_number": 9
    },
    {
     "cell_type": "heading",
     "level": 1,
     "metadata": {},
     "source": [
      "Testing Straight Through Flux Shield"
     ]
    },
    {
     "cell_type": "code",
     "collapsed": false,
     "input": [
      "module = Module(radii=[5.151, 3.799],\n",
      "                seglen=30.0,\n",
      "                base=[0,0,0],\n",
      "                focal=200,\n",
      "                angles=None,\n",
      "                conic=False,\n",
      "                core_radius=1.0)\n",
      "\n",
      "detector = Detector(width=2, \n",
      "                    height=2,\n",
      "                    normal=[0,0,1],\n",
      "                    center=[0,0,210.0],\n",
      "                    reso =[256,256])\n",
      "source_distance = -2187.5\n",
      "offaxis_angle_arcmin = 0.0\n",
      "source = Source(type='atinf',          \n",
      "                center=[ source_distance * np.sin(np.deg2rad(offaxis_angle_arcmin/60.0)) , 0.0 , -10 ],\n",
      "                color=[0,1,1],\n",
      "                width=15,\n",
      "                height=15)\n",
      "rays = source.generateRays(module.targetFront, 1000)\n",
      "module.passRays(rays, robust=True)\n",
      "detector.catchRays(rays)\n"
     ],
     "language": "python",
     "metadata": {},
     "outputs": [
      {
       "output_type": "stream",
       "stream": "stdout",
       "text": [
        "3 ray bounce number 1\n",
        "[-0.03801226  0.00734302  0.99925029]\n",
        "3 ray bounce number 2\n",
        "None\n",
        "3 ray killed by reflect\n",
        "5 ray bounce number 1\n",
        "[-0.00225195  0.01227078  0.99992218]\n",
        "5 ray bounce number 2\n",
        "[-0.00479586  0.0261324   0.99964699]\n",
        "9 ray bounce number 1\n",
        "[ 0.02401382 -0.0154593   0.99959209]\n",
        "9 ray bounce number 2\n",
        "None\n",
        "9 ray killed by reflect\n",
        "12 ray bounce number 1\n",
        "[-0.02103972  0.03249316  0.99925048]\n",
        "12 ray bounce number 2\n",
        "None\n",
        "12 ray killed by reflect\n",
        "13 ray bounce number 1\n",
        "[ 0.00791057  0.00973436  0.99992133]\n",
        "13 ray bounce number 2\n",
        "[ 0.0166656   0.02050787  0.99965078]\n",
        "13 ray bounce number 3\n",
        "None\n",
        "13 ray killed by reflect\n",
        "17 ray bounce number 1\n",
        "[-0.03841428 -0.0047083   0.99925081]\n",
        "17 ray bounce number 2\n",
        "None\n",
        "17 ray killed by reflect\n",
        "18 ray bounce number 1\n",
        "[ 0.03889365  0.0043495   0.99923389]\n",
        "18 ray bounce number 2\n",
        "None\n",
        "18 ray killed by reflect\n",
        "35 ray bounce number 1"
       ]
      },
      {
       "output_type": "stream",
       "stream": "stdout",
       "text": [
        "\n",
        "[ 0.02668957  0.00998925  0.99959386]\n",
        "35 ray bounce number 2\n",
        "None\n",
        "35 ray killed by reflect\n",
        "46 ray bounce number 1\n",
        "[-0.00628479 -0.0381845   0.99925094]\n",
        "46 ray bounce number 2\n",
        "None\n",
        "46 ray killed by reflect\n",
        "50 ray bounce number 1\n",
        "[ 0.03810862 -0.00889441  0.99923402]\n",
        "50 ray bounce number 2\n",
        "None\n",
        "50 ray killed by reflect\n",
        "53 ray bounce number 1\n",
        "[ 0.00401058 -0.00854952  0.99995541]\n",
        "53 ray bounce number 2\n",
        "[ 0.00811064 -0.0172898   0.99981762]\n",
        "53 ray bounce number 3\n",
        "None\n",
        "53 ray killed by reflect\n",
        "ray hit face 0\n",
        "66 ray bounce number 1"
       ]
      },
      {
       "output_type": "stream",
       "stream": "stdout",
       "text": [
        "\n",
        "[-0.00896146  0.00889425  0.99992029]\n",
        "66 ray bounce number 2\n",
        "[-0.01863319  0.01849345  0.99965534]\n",
        "66 ray bounce number 3\n",
        "None\n",
        "66 ray killed by reflect\n",
        "ray hit face 0\n",
        "78 ray bounce number 1\n",
        "[-0.02123199 -0.03227055  0.99925363]\n",
        "78 ray bounce number 2\n",
        "None\n",
        "78 ray killed by reflect\n",
        "80 ray bounce number 1\n",
        "[-0.00268299  0.03880952  0.99924302]\n",
        "80 ray bounce number 2\n",
        "None\n",
        "80 ray killed by reflect\n",
        "81 ray bounce number 1\n",
        "[  8.21179461e-04   3.89426567e-02   9.99241110e-01]\n",
        "85 ray bounce number 1\n",
        "[-0.00844302  0.00404401  0.99995618]\n",
        "85 ray bounce number 2\n",
        "[-0.01737453  0.00832199  0.99981442]\n",
        "87 ray bounce number 1\n",
        "[ 0.02805062  0.00573895  0.99959003]\n",
        "89 ray bounce number 1\n",
        "[ 0.00440588 -0.0083782   0.9999552 ]\n",
        "89 ray bounce number 2\n",
        "None\n",
        "89 ray killed by reflect\n",
        "93 ray bounce number 1"
       ]
      },
      {
       "output_type": "stream",
       "stream": "stdout",
       "text": [
        "\n",
        "[ 0.01784684  0.02256001  0.99958618]\n",
        "94 ray bounce number 1\n",
        "[ 0.00403273  0.03841554  0.99925371]\n",
        "96 ray bounce number 1\n",
        "[ 0.01799872  0.03454292  0.99924113]\n",
        "103 ray bounce number 1\n",
        "[-0.03331703  0.01957195  0.99925318]\n",
        "103 ray bounce number 2\n",
        "None\n",
        "103 ray killed by reflect\n",
        "107 ray bounce number 1\n",
        "[-0.03350801  0.02012248  0.99923586]\n",
        "107 ray bounce number 2\n",
        "None\n",
        "107 ray killed by reflect\n",
        "116 ray bounce number 1\n",
        "[ 0.03732904 -0.01143413  0.99923761]\n",
        "119 ray bounce number 1"
       ]
      },
      {
       "output_type": "stream",
       "stream": "stdout",
       "text": [
        "\n",
        "[ 0.00933637  0.02728899  0.99958399]\n",
        "121 ray bounce number 1\n",
        "[-0.00810598 -0.00977999  0.99991932]\n",
        "121 ray bounce number 2\n",
        "None\n",
        "121 ray killed by reflect\n",
        "136 ray bounce number 1\n",
        "[-0.00759235  0.00518901  0.99995771]\n",
        "136 ray bounce number 2\n",
        "[-0.01619092  0.01106572  0.99980768]\n",
        "139 ray bounce number 1"
       ]
      },
      {
       "output_type": "stream",
       "stream": "stdout",
       "text": [
        "\n",
        "[-0.00907828 -0.03762309  0.99925076]\n",
        "152 ray bounce number 1\n",
        "[ 0.00520915 -0.03870932  0.99923694]\n",
        "157 ray bounce number 1\n",
        "[-0.02462516  0.01454374  0.99959096]\n",
        "157 ray bounce number 2\n",
        "None\n",
        "157 ray killed by reflect\n",
        "160 ray bounce number 1"
       ]
      },
      {
       "output_type": "stream",
       "stream": "stdout",
       "text": [
        "\n",
        "[-0.03396995 -0.01910518  0.99924023]\n",
        "ray hit face 0"
       ]
      },
      {
       "output_type": "stream",
       "stream": "stdout",
       "text": [
        "\n",
        "199 ray bounce number 1\n",
        "[-0.00935406 -0.00832374  0.99992161]\n",
        "199 ray bounce number 2\n",
        "[-0.01977602 -0.01759775  0.99964955]\n",
        "200 ray bounce number 1\n",
        "[  7.77989027e-05  -2.88682097e-02   9.99583223e-01]\n",
        "205 ray bounce number 1\n",
        "[ 0.03172885 -0.02261409  0.99924065]\n",
        "207 ray bounce number 1\n",
        "[-0.01330688 -0.03625392  0.99925401]\n",
        "210 ray bounce number 1\n",
        "[-0.02348154  0.03087667  0.99924734]\n",
        "210 ray bounce number 2\n",
        "None\n",
        "210 ray killed by reflect\n",
        "ray hit face 0"
       ]
      },
      {
       "output_type": "stream",
       "stream": "stdout",
       "text": [
        "\n",
        "232 ray bounce number 1\n",
        "[ 0.00951841 -0.03767818  0.99924459]\n",
        "243 ray bounce number 1\n",
        "[-0.02595976 -0.01208835  0.9995899 ]\n",
        "243 ray bounce number 2\n",
        "None\n",
        "243 ray killed by reflect\n",
        "250 ray bounce number 1\n",
        "[  2.01117038e-04  -2.85230642e-02   9.99593114e-01]"
       ]
      },
      {
       "output_type": "stream",
       "stream": "stdout",
       "text": [
        "\n",
        "250 ray bounce number 2\n",
        "None\n",
        "250 ray killed by reflect\n",
        "264 ray bounce number 1\n",
        "[-0.03749944 -0.009923    0.99924738]\n",
        "265 ray bounce number 1\n",
        "[-0.03898837  0.00390811  0.99923202]\n",
        "265 ray bounce number 2\n",
        "None\n",
        "265 ray killed by reflect\n",
        "267 ray bounce number 1\n",
        "[-0.01324965  0.02553678  0.99958607]\n",
        "267 ray bounce number 2\n",
        "None\n",
        "267 ray killed by reflect\n",
        "272 ray bounce number 1\n",
        "[ 0.03169698  0.02216332  0.99925176]"
       ]
      },
      {
       "output_type": "stream",
       "stream": "stdout",
       "text": [
        "\n",
        "281 ray bounce number 1\n",
        "[ 0.01190532  0.02605875  0.99958952]\n",
        "281 ray bounce number 2\n",
        "None\n",
        "281 ray killed by reflect\n",
        "287 ray bounce number 1\n",
        "[ 0.01969326 -0.02071362  0.99959148]\n",
        "287 ray bounce number 2\n",
        "None\n",
        "287 ray killed by reflect\n",
        "295 ray bounce number 1\n",
        "[-0.00495987 -0.01182614  0.99991777]\n",
        "295 ray bounce number 2"
       ]
      },
      {
       "output_type": "stream",
       "stream": "stdout",
       "text": [
        "\n",
        "[-0.00999669 -0.02383577  0.99966591]\n",
        "296 ray bounce number 1\n",
        "[ 0.00287744  0.02869288  0.99958413]\n",
        "296 ray bounce number 2\n",
        "None\n",
        "296 ray killed by reflect\n",
        "304 ray bounce number 1\n",
        "[ 0.02687188  0.00979767  0.99959087]\n",
        "304 ray bounce number 2\n",
        "None\n",
        "304 ray killed by reflect\n",
        "305 ray bounce number 1\n",
        "[-0.03445736  0.01756817  0.99925174]\n",
        "305 ray bounce number 2\n",
        "None\n",
        "305 ray killed by reflect\n",
        "317 ray bounce number 1\n",
        "[ 0.02147856 -0.03223126  0.99924963]\n",
        "ray hit face 0"
       ]
      },
      {
       "output_type": "stream",
       "stream": "stdout",
       "text": [
        "\n",
        "331 ray bounce number 1\n",
        "[ 0.01888656 -0.02149076  0.99959064]\n",
        "331 ray bounce number 2\n",
        "None\n",
        "331 ray killed by reflect\n",
        "333 ray bounce number 1\n",
        "[  4.21909200e-04  -9.25077007e-03   9.99957122e-01]\n",
        "333 ray bounce number 2\n",
        "[  8.87300573e-04  -1.94549291e-02   9.99810341e-01]\n",
        "333 ray bounce number 3\n",
        "None\n",
        "333 ray killed by reflect\n",
        "336 ray bounce number 1\n",
        "[ 0.01231938  0.0020865   0.99992194]\n",
        "336 ray bounce number 2\n",
        "[ 0.02615571  0.00442993  0.99964807]\n",
        "341 ray bounce number 1\n",
        "[-0.00898616 -0.00262059  0.99995619]\n",
        "341 ray bounce number 2\n",
        "[-0.01849646 -0.00539402  0.99981438]\n",
        "345 ray bounce number 1"
       ]
      },
      {
       "output_type": "stream",
       "stream": "stdout",
       "text": [
        "\n",
        "[ 0.00579681  0.01146052  0.99991752]\n",
        "345 ray bounce number 2\n",
        "[ 0.01164896  0.02303043  0.9996669 ]\n",
        "355 ray bounce number 1\n",
        "[ 0.02761862 -0.0080904   0.99958579]\n",
        "356 ray bounce number 1\n",
        "[-0.03035375 -0.02474756  0.99923281]\n",
        "356 ray bounce number 2\n",
        "None\n",
        "356 ray killed by reflect\n",
        "359 ray bounce number 1\n",
        "[ 0.02803249  0.00676445  0.99958412]\n",
        "361 ray bounce number 1\n",
        "[ 0.02002038  0.03339567  0.99924167]\n",
        "361 ray bounce number 2\n",
        "None\n",
        "361 ray killed by reflect\n",
        "368 ray bounce number 1"
       ]
      },
      {
       "output_type": "stream",
       "stream": "stdout",
       "text": [
        "\n",
        "[ 0.01545828  0.02413292  0.99958924]\n",
        "368 ray bounce number 2\n",
        "None\n",
        "368 ray killed by reflect\n",
        "ray hit face 0\n",
        "371 ray bounce number 1\n",
        "[-0.03880931  0.00354872  0.99924033]\n",
        "371 ray bounce number 2\n",
        "None\n",
        "371 ray killed by reflect\n",
        "372 ray bounce number 1\n",
        "[ 0.03894898 -0.00312508  0.99923631]\n",
        "372 ray bounce number 2\n",
        "None\n",
        "372 ray killed by reflect\n",
        "375 ray bounce number 1\n",
        "[ 0.0087584   0.00365755  0.99995496]\n",
        "375 ray bounce number 2\n",
        "[ 0.01753367  0.00732215  0.99981946]\n",
        "376 ray bounce number 1\n",
        "[-0.03869652 -0.00147698  0.99924992]\n",
        "376 ray bounce number 2\n",
        "None\n",
        "376 ray killed by reflect\n",
        "385 ray bounce number 1\n",
        "[ 0.03320174 -0.02023847  0.99924374]\n",
        "385 ray bounce number 2\n",
        "None\n",
        "385 ray killed by reflect\n",
        "406 ray bounce number 1"
       ]
      },
      {
       "output_type": "stream",
       "stream": "stdout",
       "text": [
        "\n",
        "[ 0.02875128  0.00281851  0.99958262]\n",
        "413 ray bounce number 1\n",
        "[ 0.01731934 -0.03493036  0.99923967]\n",
        "421 ray bounce number 1\n",
        "[ 0.00648301 -0.02800064  0.99958688]\n",
        "421 ray bounce number 2\n",
        "None\n",
        "421 ray killed by reflect\n",
        "423 ray bounce number 1\n",
        "[-0.02707787 -0.00961111  0.99958712]\n",
        "425 ray bounce number 1\n",
        "[ 0.03792613 -0.00875867  0.99924216]\n",
        "425 ray bounce number 2\n",
        "None\n",
        "425 ray killed by reflect\n",
        "430 ray bounce number 1\n",
        "[ 0.02124721 -0.01925163  0.99958888]\n",
        "431 ray bounce number 1\n",
        "[ 0.02170663  0.03235371  0.99924074]\n",
        "438 ray bounce number 1"
       ]
      },
      {
       "output_type": "stream",
       "stream": "stdout",
       "text": [
        "\n",
        "[-0.03586289 -0.01578135  0.99923211]\n",
        "438 ray bounce number 2\n",
        "None\n",
        "438 ray killed by reflect\n",
        "ray hit face 0\n",
        "443 ray bounce number 1\n",
        "[ 0.03889044  0.00417791  0.99923475]\n",
        "445 ray bounce number 1\n",
        "[ 0.02839407 -0.00425227  0.99958776]\n",
        "446 ray bounce number 1\n",
        "[ 0.02714188  0.02801998  0.99923881]\n",
        "446 ray bounce number 2\n",
        "None\n",
        "446 ray killed by reflect\n",
        "ray hit face 0\n",
        "458 ray bounce number 1\n",
        "[ 0.01182492 -0.03732946  0.99923305]\n",
        "460 ray bounce number 1\n",
        "[ 0.01731762  0.0349203   0.99924005]\n",
        "460 ray bounce number 2\n",
        "None\n",
        "460 ray killed by reflect\n",
        "469 ray bounce number 1"
       ]
      },
      {
       "output_type": "stream",
       "stream": "stdout",
       "text": [
        "\n",
        "[ 0.02086642 -0.03257339  0.9992515 ]\n",
        "469 ray bounce number 2\n",
        "None\n",
        "469 ray killed by reflect\n",
        "485 ray bounce number 1\n",
        "[ 0.00703081  0.02782627  0.99958805]\n",
        "ray hit face 0"
       ]
      },
      {
       "output_type": "stream",
       "stream": "stdout",
       "text": [
        "\n",
        "517 ray bounce number 1\n",
        "[-0.00992608 -0.02700983  0.99958589]\n",
        "517 ray bounce number 2\n",
        "None\n",
        "517 ray killed by reflect\n",
        "519 ray bounce number 1\n",
        "[-0.00169881 -0.0388306   0.99924436]\n",
        "536 ray bounce number 1\n",
        "[ 0.00576749  0.03833047  0.99924847]\n",
        "536 ray bounce number 2\n",
        "None\n",
        "536 ray killed by reflect\n",
        "539 ray bounce number 1\n",
        "[ 0.00310154  0.01247335  0.99991739]\n",
        "539 ray bounce number 2\n",
        "[ 0.00622297  0.02502669  0.99966741]\n",
        "548 ray bounce number 1"
       ]
      },
      {
       "output_type": "stream",
       "stream": "stdout",
       "text": [
        "\n",
        "[-0.02222744 -0.01804248  0.99959012]\n",
        "548 ray bounce number 2\n",
        "None\n",
        "548 ray killed by reflect\n",
        "569 ray bounce number 1\n",
        "[ -2.85599397e-02   1.03154048e-04   9.99592076e-01]\n",
        "569 ray bounce number 2\n",
        "None\n",
        "569 ray killed by reflect\n",
        "572 ray bounce number 1\n",
        "[-0.00815346 -0.00991049  0.99991765]\n",
        "572 ray bounce number 2\n",
        "[-0.01640958 -0.01994578  0.99966639]\n",
        "581 ray bounce number 1"
       ]
      },
      {
       "output_type": "stream",
       "stream": "stdout",
       "text": [
        "\n",
        "[ 0.01290822 -0.03696623  0.99923314]\n",
        "582 ray bounce number 1\n",
        "[ 0.02146166  0.03274789  0.99923319]\n",
        "582 ray bounce number 2\n",
        "None\n",
        "582 ray killed by reflect\n",
        "584 ray bounce number 1\n",
        "[ 0.01949932 -0.0208688   0.99959205]\n",
        "584 ray bounce number 2\n",
        "None\n",
        "584 ray killed by reflect\n",
        "601 ray bounce number 1\n",
        "[ 0.01191076  0.02606656  0.99958925]\n",
        "605 ray bounce number 1"
       ]
      },
      {
       "output_type": "stream",
       "stream": "stdout",
       "text": [
        "\n",
        "[-0.03902676  0.00218192  0.99923578]\n",
        "605 ray bounce number 2\n",
        "None\n",
        "605 ray killed by reflect\n",
        "610 ray bounce number 1\n",
        "[ 0.01867505 -0.02162898  0.99959163]\n",
        "612 ray bounce number 1\n",
        "[ 0.00539137  0.03827675  0.99925263]\n",
        "623 ray bounce number 1\n",
        "[ 0.00831429 -0.0093934   0.99992132]\n",
        "623 ray bounce number 2\n",
        "[ 0.01751298 -0.01978597  0.99965084]\n",
        "624 ray bounce number 1\n",
        "[ 0.01028493 -0.00742202  0.99991956]\n",
        "624 ray bounce number 2\n",
        "[ 0.0211922  -0.01529315  0.99965845]\n",
        "625 ray bounce number 1"
       ]
      },
      {
       "output_type": "stream",
       "stream": "stdout",
       "text": [
        "\n",
        "[ 0.02498379  0.02994903  0.99923914]\n",
        "631 ray bounce number 1\n",
        "[-0.00196422  0.0090558   0.99995707]\n",
        "631 ray bounce number 2\n",
        "[-0.00412553  0.01902029  0.99981059]\n",
        "653 ray bounce number 1\n",
        "[-0.02140866  0.03214379  0.99925394]\n",
        "653 ray bounce number 2"
       ]
      },
      {
       "output_type": "stream",
       "stream": "stdout",
       "text": [
        "\n",
        "None\n",
        "653 ray killed by reflect\n",
        "658 ray bounce number 1\n",
        "[ 0.0223512   0.03207588  0.99923549]\n",
        "658 ray bounce number 2\n",
        "None\n",
        "658 ray killed by reflect\n",
        "660 ray bounce number 1\n",
        "[-0.0195225   0.02125389  0.99958349]\n",
        "666 ray bounce number 1\n",
        "[-0.02233239  0.03200363  0.99923823]\n",
        "666 ray bounce number 2\n",
        "None\n",
        "666 ray killed by reflect\n",
        "669 ray bounce number 1\n",
        "[-0.00780997  0.03794227  0.99924941]\n",
        "669 ray bounce number 2\n",
        "None\n",
        "669 ray killed by reflect\n",
        "674 ray bounce number 1\n",
        "[ 0.02583802 -0.02869822  0.99925413]\n",
        "674 ray bounce number 2\n",
        "None\n",
        "674 ray killed by reflect\n",
        "696 ray bounce number 1"
       ]
      },
      {
       "output_type": "stream",
       "stream": "stdout",
       "text": [
        "\n",
        "[ 0.02854842  0.00298816  0.99958794]\n",
        "696 ray bounce number 2\n",
        "None\n",
        "696 ray killed by reflect\n",
        "698 ray bounce number 1\n",
        "[  9.44262378e-03  -5.40723044e-04   9.99955271e-01]\n",
        "698 ray bounce number 2\n",
        "[ 0.01903692 -0.00109013  0.99981819]\n",
        "700 ray bounce number 1\n",
        "[-0.01190336 -0.00489309  0.99991718]\n",
        "700 ray bounce number 2\n",
        "None\n",
        "700 ray killed by reflect\n",
        "702 ray bounce number 1\n",
        "[-0.03814836  0.00769468  0.99924246]\n",
        "702 ray bounce number 2\n",
        "None\n",
        "702 ray killed by reflect\n",
        "ray hit face 0\n",
        "711 ray bounce number 1\n",
        "[-0.03584351  0.01449215  0.99925233]\n",
        "719 ray bounce number 1"
       ]
      },
      {
       "output_type": "stream",
       "stream": "stdout",
       "text": [
        "\n",
        "[ 0.02285059 -0.03176255  0.9992342 ]\n",
        "719 ray bounce number 2\n",
        "None\n",
        "719 ray killed by reflect\n",
        "722 ray bounce number 1\n",
        "[-0.00658967 -0.00651223  0.99995708]\n",
        "722 ray bounce number 2\n",
        "[-0.01384586 -0.01368314  0.99981051]\n",
        "722 ray bounce number 3\n",
        "None\n",
        "722 ray killed by reflect\n",
        "724 ray bounce number 1\n",
        "[-0.00899185 -0.00861528  0.99992246]\n",
        "724 ray bounce number 2\n",
        "None\n",
        "724 ray killed by reflect\n",
        "726 ray bounce number 1\n",
        "[ 0.03881321  0.00506618  0.99923364]\n",
        "729 ray bounce number 1\n",
        "[-0.001488   -0.00933202  0.99995535]\n",
        "729 ray bounce number 2\n",
        "None\n",
        "729 ray killed by reflect\n",
        "733 ray bounce number 1\n",
        "[-0.0107667   0.02653898  0.9995898 ]\n",
        "742 ray bounce number 1"
       ]
      },
      {
       "output_type": "stream",
       "stream": "stdout",
       "text": [
        "\n",
        "[ 0.01234256  0.00277497  0.99991998]\n",
        "742 ray bounce number 2\n",
        "None\n",
        "742 ray killed by reflect\n",
        "746 ray bounce number 1\n",
        "[ 0.03368396 -0.01889765  0.99925386]\n",
        "748 ray bounce number 1\n",
        "[ 0.02744661  0.00792533  0.99959185]\n",
        "748 ray bounce number 2\n",
        "None\n",
        "748 ray killed by reflect\n",
        "758 ray bounce number 1\n",
        "[ 0.02176444  0.01847896  0.99959234]\n",
        "758 ray bounce number 2\n",
        "None\n",
        "758 ray killed by reflect\n",
        "764 ray bounce number 1\n",
        "[ 0.01125587 -0.03750358  0.9992331 ]\n",
        "764 ray bounce number 2\n",
        "None\n",
        "764 ray killed by reflect\n",
        "ray hit face 0"
       ]
      },
      {
       "output_type": "stream",
       "stream": "stdout",
       "text": [
        "\n",
        "772 ray bounce number 1\n",
        "[ 0.01534724 -0.02406966  0.99959247]\n",
        "772 ray bounce number 2\n",
        "None\n",
        "772 ray killed by reflect\n",
        "779 ray bounce number 1\n",
        "[ 0.03798789 -0.00720576  0.99925222]\n",
        "779 ray bounce number 2\n",
        "None\n",
        "779 ray killed by reflect\n",
        "782 ray bounce number 1\n",
        "[ 0.03377905  0.0187433   0.99925355]\n",
        "782 ray bounce number 2\n",
        "None\n",
        "782 ray killed by reflect\n",
        "ray hit face 0\n",
        "ray hit face 0\n",
        "799 ray bounce number 1"
       ]
      },
      {
       "output_type": "stream",
       "stream": "stdout",
       "text": [
        "\n",
        "[-0.00641684  0.03862703  0.99923309]\n",
        "799 ray bounce number 2\n",
        "None\n",
        "799 ray killed by reflect\n",
        "827 ray bounce number 1"
       ]
      },
      {
       "output_type": "stream",
       "stream": "stdout",
       "text": [
        "\n",
        "[ 0.03289563 -0.02075144  0.99924334]\n",
        "828 ray bounce number 1\n",
        "[ 0.00965905 -0.0378902   0.99923523]\n",
        "838 ray bounce number 1\n",
        "[ 0.0037178   0.01232466  0.99991714]\n",
        "838 ray bounce number 2\n",
        "[ 0.00743625  0.02465149  0.99966845]\n",
        "856 ray bounce number 1"
       ]
      },
      {
       "output_type": "stream",
       "stream": "stdout",
       "text": [
        "\n",
        "[-0.02998002 -0.02496699  0.99923863]\n",
        "857 ray bounce number 1\n",
        "[ -1.28516564e-02   5.27142628e-04   9.99917275e-01]\n",
        "857 ray bounce number 2\n",
        "None\n",
        "857 ray killed by reflect\n",
        "ray hit face 0\n",
        "873 ray bounce number 1\n",
        "[ 0.01240876 -0.03681829  0.99924493]\n",
        "873 ray bounce number 2\n",
        "None\n",
        "873 ray killed by reflect\n",
        "891 ray bounce number 1"
       ]
      },
      {
       "output_type": "stream",
       "stream": "stdout",
       "text": [
        "\n",
        "[ 0.02599785  0.01234571  0.99958576]\n",
        "891 ray bounce number 2\n",
        "None\n",
        "891 ray killed by reflect\n",
        "897 ray bounce number 1\n",
        "[ 0.02561281 -0.01300695  0.99958732]\n",
        "897 ray bounce number 2\n",
        "None\n",
        "897 ray killed by reflect\n",
        "898 ray bounce number 1\n",
        "[ 0.03558769  0.01576802  0.99924216]\n",
        "898 ray bounce number 2\n",
        "None\n",
        "898 ray killed by reflect\n",
        "915 ray bounce number 1"
       ]
      },
      {
       "output_type": "stream",
       "stream": "stdout",
       "text": [
        "\n",
        "[-0.00433125  0.01185992  0.99992029]\n",
        "915 ray bounce number 2\n",
        "[-0.00900568  0.02465954  0.99965534]\n",
        "915 ray bounce number 3\n",
        "None\n",
        "915 ray killed by reflect\n",
        "921 ray bounce number 1\n",
        "[-0.0282537  -0.00534829  0.99958648]\n",
        "921 ray bounce number 2\n",
        "None\n",
        "921 ray killed by reflect\n",
        "931 ray bounce number 1\n",
        "[ 0.02794932 -0.00572758  0.99959293]\n",
        "932 ray bounce number 1\n",
        "[ 0.0216964   0.03230323  0.9992426 ]\n",
        "932 ray bounce number 2\n",
        "None\n",
        "932 ray killed by reflect\n",
        "935 ray bounce number 1"
       ]
      },
      {
       "output_type": "stream",
       "stream": "stdout",
       "text": [
        "\n",
        "[-0.03884321 -0.00284598  0.99924127]\n",
        "935 ray bounce number 2\n",
        "None\n",
        "935 ray killed by reflect\n",
        "ray hit face 0\n",
        "937 ray bounce number 1\n",
        "[ 0.02054189 -0.03310324  0.99924081]\n",
        "943 ray bounce number 1\n",
        "[ 0.01776497  0.03442588  0.99924935]\n",
        "943 ray bounce number 2\n",
        "None\n",
        "943 ray killed by reflect\n",
        "944 ray bounce number 1\n",
        "[ 0.01337799 -0.02536282  0.99958879]\n",
        "952 ray bounce number 1\n",
        "[-0.02314316  0.01662483  0.99959392]\n",
        "ray hit face 0"
       ]
      },
      {
       "output_type": "stream",
       "stream": "stdout",
       "text": [
        "\n",
        "963 ray bounce number 1\n",
        "[-0.02728111  0.00895708  0.99958767]\n",
        "963 ray bounce number 2\n",
        "None\n",
        "963 ray killed by reflect\n",
        "977 ray bounce number 1\n",
        "[-0.0125381   0.00204884  0.9999193 ]\n",
        "977 ray bounce number 2"
       ]
      },
      {
       "output_type": "stream",
       "stream": "stdout",
       "text": [
        "\n",
        "[-0.02574917  0.00420766  0.99965958]\n",
        "977 ray bounce number 3\n",
        "None\n",
        "977 ray killed by reflect\n",
        "985 ray bounce number 1\n",
        "[-0.01307163 -0.03672389  0.99923996]\n",
        "988 ray bounce number 1\n",
        "[ 0.01034739 -0.00762613  0.99991738]\n",
        "988 ray bounce number 2\n",
        "None\n",
        "988 ray killed by reflect\n",
        "994 ray bounce number 1\n",
        "[ 0.01209405 -0.02616083  0.99958459]\n",
        "994 ray bounce number 2\n",
        "None\n",
        "994 ray killed by reflect\n"
       ]
      }
     ],
     "prompt_number": 10
    },
    {
     "cell_type": "code",
     "collapsed": false,
     "input": [
      "scatterHist(detector.rays)"
     ],
     "language": "python",
     "metadata": {},
     "outputs": [
      {
       "metadata": {},
       "output_type": "display_data",
       "png": "[encoded data removed]",
       "text": [
        "<matplotlib.figure.Figure at 0x108521790>"
       ]
      }
     ],
     "prompt_number": 11
    },
    {
     "cell_type": "code",
     "collapsed": false,
     "input": [
      "detector.rays[4].pos"
     ],
     "language": "python",
     "metadata": {},
     "outputs": [
      {
       "metadata": {},
       "output_type": "pyout",
       "prompt_number": 18,
       "text": [
        "array([   0.33034062,    0.96554273,  210.        ])"
       ]
      }
     ],
     "prompt_number": 18
    },
    {
     "cell_type": "code",
     "collapsed": false,
     "input": [
      "detector.rays[5].hist"
     ],
     "language": "python",
     "metadata": {},
     "outputs": [
      {
       "metadata": {},
       "output_type": "pyout",
       "prompt_number": 21,
       "text": [
        "[array([  3.23878796,  -2.21355742, -10.        ]),\n",
        " array([ 3.23878796, -2.21355742,  3.46828714]),\n",
        " array([  2.85950186,  -1.95433342,  53.42254001]),\n",
        " array([   0.32388073,   -0.22135707,  210.        ])]"
       ]
      }
     ],
     "prompt_number": 21
    },
    {
     "cell_type": "code",
     "collapsed": false,
     "input": [
      "detector.rays[5].bounces"
     ],
     "language": "python",
     "metadata": {},
     "outputs": [
      {
       "metadata": {},
       "output_type": "pyout",
       "prompt_number": 22,
       "text": [
        "2"
       ]
      }
     ],
     "prompt_number": 22
    },
    {
     "cell_type": "code",
     "collapsed": false,
     "input": [],
     "language": "python",
     "metadata": {},
     "outputs": [],
     "prompt_number": 14
    }
   ],
   "metadata": {}
  }
 ]
}