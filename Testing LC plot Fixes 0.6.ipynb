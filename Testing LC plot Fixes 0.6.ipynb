{
 "cells": [
  {
   "cell_type": "code",
   "execution_count": null,
   "metadata": {
    "collapsed": true
   },
   "outputs": [],
   "source": [
    "from sunpy import lightcurve\n",
    "from sunpy.time import TimeRange\n",
    "tr = TimeRange('2011-06-07 06:00', '2011-06-07 08:00')\n",
    "goes = lightcurve.GOESLightCurve.create(tr)\n",
    "goes.peek()"
   ]
  },
  {
   "cell_type": "code",
   "execution_count": null,
   "metadata": {
    "collapsed": true
   },
   "outputs": [],
   "source": [
    "noaa = lightcurve.NOAAIndicesLightCurve.create()\n",
    "noaa.peek()"
   ]
  },
  {
   "cell_type": "code",
   "execution_count": null,
   "metadata": {
    "collapsed": true
   },
   "outputs": [],
   "source": [
    "noaa = lightcurve.NOAAPredictIndicesLightCurve.create()\n",
    "noaa.peek()"
   ]
  },
  {
   "cell_type": "code",
   "execution_count": null,
   "metadata": {
    "collapsed": true
   },
   "outputs": [],
   "source": [
    "hsi = lightcurve.RHESSISummaryLightCurve.create(tr)\n",
    "hsi.peek()"
   ]
  },
  {
   "cell_type": "code",
   "execution_count": null,
   "metadata": {
    "collapsed": true
   },
   "outputs": [],
   "source": [
    "eve = lightcurve.EVELightCurve.create(tr)\n",
    "eve.peek()"
   ]
  },
  {
   "cell_type": "code",
   "execution_count": null,
   "metadata": {
    "collapsed": true
   },
   "outputs": [],
   "source": [
    "import datetime\n",
    "base = datetime.datetime.today()\n",
    "dates = [base - datetime.timedelta(seconds=x) for x in range(0, 1 * 60 * 60)]\n",
    "z = [((d.minute % 5) == 0) for d in dates]\n",
    "light_curve = lightcurve.LogicalLightCurve.create({\"param1\": z}, index=dates)\n",
    "light_curve.peek()"
   ]
  },
  {
   "cell_type": "code",
   "execution_count": null,
   "metadata": {
    "collapsed": true
   },
   "outputs": [],
   "source": [
    "lyra = lightcurve.LYRALightCurve.create()\n",
    "lyra.peek()"
   ]
  },
  {
   "cell_type": "code",
   "execution_count": null,
   "metadata": {
    "collapsed": true
   },
   "outputs": [],
   "source": [
    "norh = lightcurve.NoRHLightCurve.create('2011/08/10')\n",
    "norh.peek()"
   ]
  }
 ],
 "metadata": {
  "kernelspec": {
   "display_name": "Python 2",
   "language": "python",
   "name": "python2"
  },
  "language_info": {
   "codemirror_mode": {
    "name": "ipython",
    "version": 2
   },
   "file_extension": ".py",
   "mimetype": "text/x-python",
   "name": "python",
   "nbconvert_exporter": "python",
   "pygments_lexer": "ipython2",
   "version": "2.7.10"
  }
 },
 "nbformat": 4,
 "nbformat_minor": 0
}
