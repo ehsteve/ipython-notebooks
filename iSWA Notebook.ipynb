{
 "metadata": {
  "name": "",
  "signature": "sha256:4cef7e03967e4fdd1f2c28ce42a8e35a24ae885b008e192ae1e4b208b17144f3"
 },
 "nbformat": 3,
 "nbformat_minor": 0,
 "worksheets": [
  {
   "cells": [
    {
     "cell_type": "code",
     "collapsed": false,
     "input": [
      "from sunpy import lightcurve\n",
      "from sunpy.time import TimeRange\n",
      "tr = TimeRange('2011-06-07 06:00', '2011-06-07 08:00')"
     ],
     "language": "python",
     "metadata": {},
     "outputs": [
      {
       "output_type": "stream",
       "stream": "stderr",
       "text": [
        "/Users/schriste/anaconda/lib/python2.7/site-packages/pandas/io/excel.py:626: UserWarning: Installed openpyxl is not supported at this time. Use >=1.6.1 and <2.0.0.\n",
        "  .format(openpyxl_compat.start_ver, openpyxl_compat.stop_ver))\n"
       ]
      }
     ],
     "prompt_number": 1
    },
    {
     "cell_type": "code",
     "collapsed": false,
     "input": [
      "%matplotlib inline"
     ],
     "language": "python",
     "metadata": {},
     "outputs": [],
     "prompt_number": 3
    },
    {
     "cell_type": "code",
     "collapsed": false,
     "input": [
      "goes = lightcurve.GOESLightCurve.create(tr)\n",
      "goes.peek()"
     ],
     "language": "python",
     "metadata": {},
     "outputs": [
      {
       "output_type": "stream",
       "stream": "stderr",
       "text": [
        "/Users/schriste/Dropbox/Developer/python/sunpy/sunpy/lightcurve/lightcurve.py:253: RuntimeWarning: Using existing file rather than downloading, use overwrite=True to override.\n",
        "  warnings.warn(\"Using existing file rather than downloading, use overwrite=True to override.\", RuntimeWarning)\n"
       ]
      }
     ],
     "prompt_number": 2
    },
    {
     "cell_type": "code",
     "collapsed": false,
     "input": [
      "from sunpy.net import vso\n",
      "client=vso.VSOClient()"
     ],
     "language": "python",
     "metadata": {},
     "outputs": [],
     "prompt_number": 4
    },
    {
     "cell_type": "code",
     "collapsed": false,
     "input": [
      "qr = client.query(vso.attrs.Time(tr.start(), tr.end()), vso.attrs.Instrument('lasco'))"
     ],
     "language": "python",
     "metadata": {},
     "outputs": [],
     "prompt_number": 5
    },
    {
     "cell_type": "code",
     "collapsed": false,
     "input": [
      "qr.num_records()"
     ],
     "language": "python",
     "metadata": {},
     "outputs": [
      {
       "metadata": {},
       "output_type": "pyout",
       "prompt_number": 6,
       "text": [
        "16"
       ]
      }
     ],
     "prompt_number": 6
    },
    {
     "cell_type": "code",
     "collapsed": false,
     "input": [
      "qr.show()"
     ],
     "language": "python",
     "metadata": {},
     "outputs": [
      {
       "output_type": "stream",
       "stream": "stdout",
       "text": [
        "Start time           End time             Source  Instrument  Type  \n",
        "----------           --------             ------  ----------  ----  \n",
        "2011-06-07 06:04:58  2011-06-07 06:05:23  SOHO    LASCO       CORONA\n",
        "2011-06-07 06:12:45  2011-06-07 06:13:04  SOHO    LASCO       CORONA\n",
        "2011-06-07 06:19:43  2011-06-07 06:20:08  SOHO    LASCO       CORONA\n",
        "2011-06-07 06:27:29  2011-06-07 06:27:48  SOHO    LASCO       CORONA\n",
        "2011-06-07 06:34:29  2011-06-07 06:34:54  SOHO    LASCO       CORONA\n",
        "2011-06-07 06:42:15  2011-06-07 06:42:34  SOHO    LASCO       CORONA\n",
        "2011-06-07 06:49:12  2011-06-07 06:49:37  SOHO    LASCO       CORONA\n",
        "2011-06-07 06:56:59  2011-06-07 06:57:18  SOHO    LASCO       CORONA\n",
        "2011-06-07 07:03:58  2011-06-07 07:04:23  SOHO    LASCO       CORONA\n",
        "2011-06-07 07:11:45  2011-06-07 07:12:04  SOHO    LASCO       CORONA\n",
        "2011-06-07 07:18:46  2011-06-07 07:19:11  SOHO    LASCO       CORONA\n",
        "2011-06-07 07:26:36  2011-06-07 07:26:55  SOHO    LASCO       CORONA\n",
        "2011-06-07 07:33:38  2011-06-07 07:34:03  SOHO    LASCO       CORONA\n",
        "2011-06-07 07:41:31  2011-06-07 07:41:50  SOHO    LASCO       CORONA\n",
        "2011-06-07 07:48:34  2011-06-07 07:48:59  SOHO    LASCO       CORONA\n",
        "2011-06-07 07:56:26  2011-06-07 07:56:45  SOHO    LASCO       CORONA\n"
       ]
      }
     ],
     "prompt_number": 7
    },
    {
     "cell_type": "code",
     "collapsed": false,
     "input": [
      "res=client.get(qr)"
     ],
     "language": "python",
     "metadata": {},
     "outputs": [],
     "prompt_number": 9
    },
    {
     "cell_type": "code",
     "collapsed": false,
     "input": [
      "res"
     ],
     "language": "python",
     "metadata": {},
     "outputs": [
      {
       "metadata": {},
       "output_type": "pyout",
       "prompt_number": 10,
       "text": [
        "<sunpy.net.vso.vso.Results at 0x10fa662d0>"
       ]
      }
     ],
     "prompt_number": 10
    },
    {
     "cell_type": "code",
     "collapsed": false,
     "input": [
      "print(res.progress)"
     ],
     "language": "python",
     "metadata": {},
     "outputs": [
      {
       "output_type": "stream",
       "stream": "stdout",
       "text": [
        "None\n"
       ]
      }
     ],
     "prompt_number": 14
    },
    {
     "cell_type": "code",
     "collapsed": false,
     "input": [
      "import sunpy"
     ],
     "language": "python",
     "metadata": {},
     "outputs": [],
     "prompt_number": 13
    },
    {
     "cell_type": "code",
     "collapsed": false,
     "input": [
      "file = '/Users/schriste/Desktop/SunPy_ODDE_Proposal/ISWA_KP.txt'\n",
      "iswa_kp = read_iswa_data_dat(file)\n",
      "plt.figure()\n",
      "iswa_kp.plot()\n",
      "plt.title('KP (ISWA)')\n",
      "plt.ylabel('KP Index')\n",
      "plt.show()"
     ],
     "language": "python",
     "metadata": {},
     "outputs": [
      {
       "metadata": {},
       "output_type": "display_data",
       "text": [
        "<matplotlib.figure.Figure at 0x10b95b290>"
       ]
      },
      {
       "metadata": {},
       "output_type": "display_data",
       "png": "[encoded data removed]",
       "text": [
        "<matplotlib.figure.Figure at 0x10b952590>"
       ]
      }
     ],
     "prompt_number": 25
    },
    {
     "cell_type": "code",
     "collapsed": false,
     "input": [
      "file = '/Users/schriste/Desktop/20120712_193500_ENLIL_time_line.dat.txt'\n",
      "col_names = ['B_enl','V_enl','n_enl','T_enl']\n",
      "enlil_data = read_iswa_enlil_dat(file, col_names=col_names)\n",
      "kp90exp=9.5-np.exp(2.17676-(0.000052001)*((enlil_data.V_enl)**1.3333)*((enlil_data.B_enl)**0.6666)*(np.sin((np.pi/2)/2)**(8/3.)))\n",
      "kp135exp=9.5-np.exp(2.17676-(0.000052001)*((enlil_data.V_enl)**1.3333)*((enlil_data.B_enl)**0.6666)*(np.sin((3*np.pi/4)/2)**(8/3.)))\n",
      "kp180exp=9.5-np.exp(2.17676-(0.000052001)*((enlil_data.V_enl)**1.3333)*((enlil_data.B_enl)**0.6666)*(np.sin((np.pi)/2)**(8/3.)))\n",
      "plt.figure()\n",
      "kp90exp.plot()\n",
      "kp135exp.plot()\n",
      "kp180exp.plot()\n",
      "plt.title(\"ENLIL Predicted KP Index\")\n",
      "plt.ylabel(\"KP\")\n",
      "plt.show()"
     ],
     "language": "python",
     "metadata": {},
     "outputs": [
      {
       "metadata": {},
       "output_type": "display_data",
       "png": "[encoded data removed]",
       "text": [
        "<matplotlib.figure.Figure at 0x104562490>"
       ]
      }
     ],
     "prompt_number": 30
    },
    {
     "cell_type": "code",
     "collapsed": false,
     "input": [
      "def read_iswa_data_dat(file):\n",
      "    data = pandas.read_csv(file, delim_whitespace=True)\n",
      "    times_str = [str(t[0]) + ' ' + str(t[1]['Timestamp'])[0:-2] for t in data.iterrows()]\n",
      "    times = [datetime.strptime(str_time, '%Y-%m-%d %H:%M:%S') for str_time in times_str]\n",
      "    data['times'] = times\n",
      "    data = data.set_index('times')\n",
      "    data = data.drop('Timestamp',1)\n",
      "    return data"
     ],
     "language": "python",
     "metadata": {},
     "outputs": [],
     "prompt_number": 24
    },
    {
     "cell_type": "code",
     "collapsed": false,
     "input": [
      "import pandas\n",
      "from datetime import datetime\n",
      "import matplotlib.pyplot as plt"
     ],
     "language": "python",
     "metadata": {},
     "outputs": [],
     "prompt_number": 23
    },
    {
     "cell_type": "code",
     "collapsed": false,
     "input": [
      "def read_iswa_enlil_dat(file, col_names):\n",
      "    names = ['year', 'month', 'day', 'hour', 'minute'] + col_names\n",
      "    data = pandas.read_csv(file, skiprows=2, names=names, delim_whitespace=True)\n",
      "    times_str = [str(int(t[1]['year'])) + '-' + str(int(t[1]['month'])).zfill(2) + '-' + str(int(t[1]['day'])).zfill(2) + ' ' + str(int(t[1]['hour'])).zfill(2) + ':' + str(int(t[1]['minute'])).zfill(2) for t in data.iterrows()]\n",
      "    times = [datetime.strptime(t, '%Y-%m-%d %H:%M') for t in times_str]\n",
      "    data['times'] = times\n",
      "    data = data.set_index('times')\n",
      "    data = data.drop('year',1)\n",
      "    data = data.drop('month',1)\n",
      "    data = data.drop('day',1)\n",
      "    data = data.drop('hour',1)\n",
      "    data = data.drop('minute',1)\n",
      "    return data"
     ],
     "language": "python",
     "metadata": {},
     "outputs": [],
     "prompt_number": 28
    },
    {
     "cell_type": "code",
     "collapsed": false,
     "input": [],
     "language": "python",
     "metadata": {},
     "outputs": []
    }
   ],
   "metadata": {}
  }
 ]
}