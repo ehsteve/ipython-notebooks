{
 "metadata": {
  "name": "",
  "signature": "sha256:aa2a4da345f55616f07f998de817af8be014cb5620c4bb35464e432a5bcad9bc"
 },
 "nbformat": 3,
 "nbformat_minor": 0,
 "worksheets": [
  {
   "cells": [
    {
     "cell_type": "code",
     "collapsed": false,
     "input": [
      "import pandas as pd\n",
      "import numpy as np\n",
      "import matplotlib.pyplot as plt\n",
      "import matplotlib # only need to get matplotlib version\n",
      "import sys # only need to get python version"
     ],
     "language": "python",
     "metadata": {},
     "outputs": [],
     "prompt_number": 4
    },
    {
     "cell_type": "code",
     "collapsed": false,
     "input": [
      "print(\"Python version: \" + sys.version)\n",
      "print(\"Matplotlib version: \" + matplotlib.__version__)\n",
      "print(\"Numpy version: \" + np.__version__)\n",
      "print(\"Pandas version: \" + pd.__version__)"
     ],
     "language": "python",
     "metadata": {},
     "outputs": [
      {
       "output_type": "stream",
       "stream": "stdout",
       "text": [
        "Python version: 2.7.6 |Anaconda 1.9.2 (x86_64)| (default, Jan 10 2014, 11:23:15) \n",
        "[GCC 4.0.1 (Apple Inc. build 5493)]\n",
        "Matplotlib version: 1.3.1\n",
        "Numpy version: 1.8.0\n",
        "Pandas version: 0.13.1\n"
       ]
      }
     ],
     "prompt_number": 5
    },
    {
     "cell_type": "code",
     "collapsed": false,
     "input": [
      "%matplotlib inline"
     ],
     "language": "python",
     "metadata": {},
     "outputs": [],
     "prompt_number": 2
    },
    {
     "cell_type": "code",
     "collapsed": false,
     "input": [
      "# this limit maximum numbers of rows displayed on screen\n",
      "pd.set_option(\"display.max_rows\", 15)"
     ],
     "language": "python",
     "metadata": {},
     "outputs": [],
     "prompt_number": 44
    },
    {
     "cell_type": "code",
     "collapsed": false,
     "input": [
      "s = pd.Series([1,3,5,np.nan,6,8])"
     ],
     "language": "python",
     "metadata": {},
     "outputs": [],
     "prompt_number": 11
    },
    {
     "cell_type": "markdown",
     "metadata": {},
     "source": [
      "http://pandas.pydata.org/pandas-docs/stable/timeseries.html#offset-aliases"
     ]
    },
    {
     "cell_type": "code",
     "collapsed": false,
     "input": [
      "alias = ['B', 'C', 'D', 'W', 'M', 'BM', 'MS', 'BMS', 'Q', 'BQ', 'QS', 'BQS', 'A', 'BA', 'AS', 'BAS', 'H', 'T', 'S', 'L', 'U']"
     ],
     "language": "python",
     "metadata": {},
     "outputs": [],
     "prompt_number": 24
    },
    {
     "cell_type": "code",
     "collapsed": false,
     "input": [
      "description = ['business day frequency', 'custom business day frequency (experimental)', 'calendar day frequency', \n",
      "               'weekly frequency', 'month end frequency', 'business month end frequency', 'month start frequency', \n",
      "               'business month start frequency', 'quarter end frequency', 'business quarter end frequency', \n",
      "               'quarter start frequency', 'business quarter start frequency', 'year end frequency', \n",
      "               'business year end frequency', 'year start frequency', 'business year start frequency', \n",
      "               'hourly frequency', 'minutely frequency', 'secondly frequency', 'milliseconds', 'microseconds']"
     ],
     "language": "python",
     "metadata": {},
     "outputs": [],
     "prompt_number": 28
    },
    {
     "cell_type": "code",
     "collapsed": false,
     "input": [
      "cheatsheet = pd.Series(description, index = alias)"
     ],
     "language": "python",
     "metadata": {},
     "outputs": [],
     "prompt_number": 29
    },
    {
     "cell_type": "code",
     "collapsed": false,
     "input": [
      "print(cheatsheet)"
     ],
     "language": "python",
     "metadata": {},
     "outputs": [
      {
       "output_type": "stream",
       "stream": "stdout",
       "text": [
        "B                            business day frequency\n",
        "C      custom business day frequency (experimental)\n",
        "D                            calendar day frequency\n",
        "W                                  weekly frequency\n",
        "M                               month end frequency\n",
        "BM                     business month end frequency\n",
        "MS                            month start frequency\n",
        "BMS                  business month start frequency\n",
        "Q                             quarter end frequency\n",
        "BQ                   business quarter end frequency\n",
        "QS                          quarter start frequency\n",
        "BQS                business quarter start frequency\n",
        "A                                year end frequency\n",
        "BA                      business year end frequency\n",
        "AS                             year start frequency\n",
        "BAS                   business year start frequency\n",
        "H                                  hourly frequency\n",
        "T                                minutely frequency\n",
        "S                                secondly frequency\n",
        "L                                      milliseconds\n",
        "U                                      microseconds\n",
        "dtype: object\n"
       ]
      }
     ],
     "prompt_number": 30
    },
    {
     "cell_type": "code",
     "collapsed": false,
     "input": [
      "s"
     ],
     "language": "python",
     "metadata": {},
     "outputs": [
      {
       "metadata": {},
       "output_type": "pyout",
       "prompt_number": 17,
       "text": [
        "0     1\n",
        "1     3\n",
        "2     5\n",
        "3   NaN\n",
        "4     6\n",
        "5     8\n",
        "dtype: float64"
       ]
      }
     ],
     "prompt_number": 17
    },
    {
     "cell_type": "code",
     "collapsed": false,
     "input": [
      "dates = pd.date_range('1950-01', '2013-03', freq='D')"
     ],
     "language": "python",
     "metadata": {},
     "outputs": [],
     "prompt_number": 38
    },
    {
     "cell_type": "code",
     "collapsed": false,
     "input": [
      "pd.date_range??"
     ],
     "language": "python",
     "metadata": {},
     "outputs": [],
     "prompt_number": 21
    },
    {
     "cell_type": "code",
     "collapsed": false,
     "input": [
      "t = pd.Series(np.ones(dates.shape[0])*5, index=dates)"
     ],
     "language": "python",
     "metadata": {},
     "outputs": [],
     "prompt_number": 40
    },
    {
     "cell_type": "code",
     "collapsed": false,
     "input": [
      "t_utc = t.tz_localize('UTC')"
     ],
     "language": "python",
     "metadata": {},
     "outputs": [],
     "prompt_number": 41
    },
    {
     "cell_type": "code",
     "collapsed": false,
     "input": [
      "t_utc"
     ],
     "language": "python",
     "metadata": {},
     "outputs": [
      {
       "metadata": {},
       "output_type": "pyout",
       "prompt_number": 42,
       "text": [
        "1950-01-06 00:00:00+00:00    5\n",
        "1950-01-07 00:00:00+00:00    5\n",
        "1950-01-08 00:00:00+00:00    5\n",
        "...\n",
        "2013-03-04 00:00:00+00:00    5\n",
        "2013-03-05 00:00:00+00:00    5\n",
        "2013-03-06 00:00:00+00:00    5\n",
        "Freq: D, Length: 23071"
       ]
      }
     ],
     "prompt_number": 42
    },
    {
     "cell_type": "code",
     "collapsed": false,
     "input": [
      "t.resample('M', how='mean')"
     ],
     "language": "python",
     "metadata": {},
     "outputs": [
      {
       "metadata": {},
       "output_type": "pyout",
       "prompt_number": 43,
       "text": [
        "1950-01-31    5\n",
        "1950-02-28    5\n",
        "1950-03-31    5\n",
        "...\n",
        "2013-01-31    5\n",
        "2013-02-28    5\n",
        "2013-03-31    5\n",
        "Freq: M, Length: 759"
       ]
      }
     ],
     "prompt_number": 43
    },
    {
     "cell_type": "code",
     "collapsed": false,
     "input": [
      "t.resample('M', how='count')"
     ],
     "language": "python",
     "metadata": {},
     "outputs": [
      {
       "metadata": {},
       "output_type": "pyout",
       "prompt_number": 30,
       "text": [
        "1950-01-31    26\n",
        "1950-02-28    28\n",
        "1950-03-31    31\n",
        "1950-04-30    30\n",
        "1950-05-31    31\n",
        "1950-06-30    30\n",
        "1950-07-31    31\n",
        "1950-08-31    31\n",
        "1950-09-30    30\n",
        "1950-10-31    31\n",
        "1950-11-30    30\n",
        "1950-12-31    31\n",
        "1951-01-31    31\n",
        "1951-02-28    28\n",
        "1951-03-31    31\n",
        "...\n",
        "2012-01-31    31\n",
        "2012-02-29    29\n",
        "2012-03-31    31\n",
        "2012-04-30    30\n",
        "2012-05-31    31\n",
        "2012-06-30    30\n",
        "2012-07-31    31\n",
        "2012-08-31    31\n",
        "2012-09-30    30\n",
        "2012-10-31    31\n",
        "2012-11-30    30\n",
        "2012-12-31    31\n",
        "2013-01-31    31\n",
        "2013-02-28    28\n",
        "2013-03-31     6\n",
        "Length: 759"
       ]
      }
     ],
     "prompt_number": 30
    },
    {
     "cell_type": "code",
     "collapsed": false,
     "input": [
      "t.resample('M', how='sum')"
     ],
     "language": "python",
     "metadata": {},
     "outputs": [
      {
       "metadata": {},
       "output_type": "pyout",
       "prompt_number": 31,
       "text": [
        "1950-01-31    130\n",
        "1950-02-28    140\n",
        "1950-03-31    155\n",
        "1950-04-30    150\n",
        "1950-05-31    155\n",
        "1950-06-30    150\n",
        "1950-07-31    155\n",
        "1950-08-31    155\n",
        "1950-09-30    150\n",
        "1950-10-31    155\n",
        "1950-11-30    150\n",
        "1950-12-31    155\n",
        "1951-01-31    155\n",
        "1951-02-28    140\n",
        "1951-03-31    155\n",
        "...\n",
        "2012-01-31    155\n",
        "2012-02-29    145\n",
        "2012-03-31    155\n",
        "2012-04-30    150\n",
        "2012-05-31    155\n",
        "2012-06-30    150\n",
        "2012-07-31    155\n",
        "2012-08-31    155\n",
        "2012-09-30    150\n",
        "2012-10-31    155\n",
        "2012-11-30    150\n",
        "2012-12-31    155\n",
        "2013-01-31    155\n",
        "2013-02-28    140\n",
        "2013-03-31     30\n",
        "Freq: M, Length: 759"
       ]
      }
     ],
     "prompt_number": 31
    },
    {
     "cell_type": "code",
     "collapsed": false,
     "input": [],
     "language": "python",
     "metadata": {},
     "outputs": []
    }
   ],
   "metadata": {}
  }
 ]
}