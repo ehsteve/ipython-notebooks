{
 "metadata": {
  "name": "",
  "signature": "sha256:d82827dcaa9d44a5ccf12078707dedf990e413d092b1e7737540fe36a1d26e9a"
 },
 "nbformat": 3,
 "nbformat_minor": 0,
 "worksheets": [
  {
   "cells": [
    {
     "cell_type": "code",
     "collapsed": false,
     "input": [
      "url = 'http://lmsal.com/hek/hcr?cmd=get-voevent-xml&event-id=ivo%3A%2F%2Firis.lmsal.com%2FVOEvent%232014-08-11T11%3A48%3A50Z'"
     ],
     "language": "python",
     "metadata": {},
     "outputs": [],
     "prompt_number": 1
    },
    {
     "cell_type": "code",
     "collapsed": false,
     "input": [
      "import xml.etree.ElementTree as ET\n",
      "import urllib2"
     ],
     "language": "python",
     "metadata": {},
     "outputs": [],
     "prompt_number": 2
    },
    {
     "cell_type": "code",
     "collapsed": false,
     "input": [
      "req = urllib2.Request(url)\n",
      "r = urllib2.urlopen(req)"
     ],
     "language": "python",
     "metadata": {},
     "outputs": [],
     "prompt_number": 3
    },
    {
     "cell_type": "code",
     "collapsed": false,
     "input": [
      "for line in r:\n",
      "    print(line)"
     ],
     "language": "python",
     "metadata": {},
     "outputs": [
      {
       "output_type": "stream",
       "stream": "stdout",
       "text": [
        "<?xml version=\"1.0\" encoding=\"UTF-8\" ?>\n",
        "\n",
        "<VOEvent role=\"prediction\"\n",
        "\n",
        "\tivorn=\"ivo://iris.lmsal.com/VOEvent#2014-08-11T11:48:50Z\"\n",
        "\n",
        "\tversion=\"1.11\"\n",
        "\n",
        "\txmlns=\"http://www.ivoa.net/xml/VOEvent/v1.11\"\n",
        "\n",
        "\txmlns:xsi=\"http://www.w3.org/2001/XMLSchema-instance\"\n",
        "\n",
        "\txmlns:lmsal=\"http://sot.lmsal.com/lmsal\"\n",
        "\n",
        "\txmlns:crd=\"urn:nvo-coords\"\n",
        "\n",
        "\txsi:schemaLocation=\"http://www.ivoa.net/internal/IVOA/IvoaVOEvent/VOEvent-v1.0.xsd\">\n",
        "\n",
        "\n",
        "\n",
        "\n",
        "\n",
        "\t<Who>\n",
        "\n",
        "\t\t<!-- Data pertaining to curation: observer, telescope, instrument, planner, tohbans, ... -->\n",
        "\n",
        "\t\t<Date>2014-08-08T22:39:00.000Z</Date>    <!-- Time VOEvent was generated. -->\n",
        "\n",
        "\t\t<PublisherID>http://sot.lmsal.com</PublisherID>\n",
        "\n",
        "\n",
        "\n",
        "\t\t<Contact>\n",
        "\n",
        "\t\t\t<Name>Ted Tarbell</Name>\n",
        "\n",
        "\t\t\t<Institution>LMSAL</Institution>\n",
        "\n",
        "\t\t\t<Communication>\n",
        "\n",
        "\t\t\t\t<Uri>http://lmsal.com</Uri>\n",
        "\n",
        "\t\t\t\t<AddressLine>3251 Hanover Rd, O/ADBS, B/252, Palo Alto, CA, 94304</AddressLine>\n",
        "\n",
        "\t\t\t\t<Telephone>+1-650-424-2400</Telephone>\n",
        "\n",
        "\t\t\t\t<Email>tarbell@lmsal.com</Email>\n",
        "\n",
        "\t\t\t</Communication>\t\t</Contact>\n",
        "\n",
        "\n",
        "\n",
        "\t\t<lmsal:Telescope>IRIS</lmsal:Telescope>\n",
        "\n",
        "\t\t<lmsal:Instrument>IRIS</lmsal:Instrument>\n",
        "\n",
        "\t\t<lmsal:Tohbans>null</lmsal:Tohbans>\n",
        "\n",
        "\t\t<lmsal:ChiefPlanner>Ted Tarbell</lmsal:ChiefPlanner>\n",
        "\n",
        "\t\t<lmsal:ChiefObserver>Ted Tarbell</lmsal:ChiefObserver>\n",
        "\n",
        "\t</Who>\n",
        "\n",
        "\n",
        "\n",
        "\n",
        "\n",
        "\t<What>\n",
        "\n",
        "\t\t<!-- Data pertaining to what was observed, measured, ...   Some of these tags might move into Who section. -->\n",
        "\n",
        "\t\t<lmsal:obsId>3800011454</lmsal:obsId>\n",
        "\n",
        "\t\t<lmsal:OBS_NUM>3800011454</lmsal:OBS_NUM>\n",
        "\n",
        "\t\t<lmsal:JOP_ID></lmsal:JOP_ID>\n",
        "\n",
        "\t\t<lmsal:JOP></lmsal:JOP>\n",
        "\n",
        "\t\t<lmsal:JOIN_SB>null</lmsal:JOIN_SB>    <!-- S=SOT, X=XRT, E=EIS, SX=SOT+XRT, EX=EIS+XRT -->\n",
        "\n",
        "\t\t<lmsal:OBSTITLE>AR 12135 SNS on umbra with SOT</lmsal:OBSTITLE>\n",
        "\n",
        "\t\t<lmsal:SCI_OBJ>AR 12135 SNS on umbra with SOT</lmsal:SCI_OBJ>     <!--  Scientific objectives -->\n",
        "\n",
        "\t\t<lmsal:SCI_OBS></lmsal:SCI_OBS>     <!-- Objects being observed -->\n",
        "\n",
        "\t\t<lmsal:NOAA_NUM></lmsal:NOAA_NUM>\n",
        "\n",
        "\t\t<lmsal:TARGET>SS</lmsal:TARGET>\n",
        "\n",
        "\t\t<lmsal:slotNumber></lmsal:slotNumber>\n",
        "\n",
        "\t</What>\n",
        "\n",
        "\n",
        "\n",
        "\n",
        "\n",
        "\t<WhereWhen>\n",
        "\n",
        "\t\t<!-- Space and Time Coordinates. -->\n",
        "\n",
        "\t\t<ObservatoryLocation ID=\"IRIS\" />\n",
        "\n",
        "\n",
        "\n",
        "\t\t<ObservationLocation>\n",
        "\n",
        "\t\t\t<lmsal:xCen>-29</lmsal:xCen>\t\t<!-- xcen and ycen from FITS -->\n",
        "\n",
        "\t\t\t<lmsal:yCen>124</lmsal:yCen>\n",
        "\n",
        "\t\t\t<lmsal:rollAngleDegrees>0</lmsal:rollAngleDegrees>\n",
        "\n",
        "\t\t\t<lmsal:xFov>0</lmsal:xFov>\n",
        "\n",
        "\t\t\t<lmsal:yFov>173.8</lmsal:yFov>\n",
        "\n",
        "\t\t\t<crd:AstroCoords coord_system_id=\"UTC-HGS-TOPO\">\n",
        "\n",
        "\t\t\t\t<crd:Time>\n",
        "\n",
        "\t\t\t\t\t<crd:TimeInterval>2014-08-11T11:48:50.000Z 2014-08-11T13:00:41.000Z</crd:TimeInterval>\n",
        "\n",
        "\t\t\t\t</crd:Time>\n",
        "\n",
        "\t\t\t\t<crd:Position3D>-29 124</crd:Position3D>\n",
        "\n",
        "\t\t\t</crd:AstroCoords>\n",
        "\n",
        "\t\t</ObservationLocation>\n",
        "\n",
        "\n",
        "\n",
        "\t\t<Group name=\"hlIntervals\">\n",
        "\n",
        "\t\t\t<Param name=\"hlInterval\" value=\"2014-08-11T12:52:02Z 2014-08-11T12:58:26\" />\n",
        "\n",
        "\t\t</Group>\n",
        "\n",
        "\t</WhereWhen>\n",
        "\n",
        "\n",
        "\n",
        "\n",
        "\n",
        "\t<Why>\n",
        "\n",
        "\t\t<!-- Why was observation performed.  Initial scientific assessment, hypothesized mechanisms, classifications, ... -->\n",
        "\n",
        "\t\t<Concept>\n",
        "\n",
        "\t\t\t<lmsal:Goal>Very large sit-and-stare 0.3x175 1s  Si IV   Mg II h/k Deep x 15</lmsal:Goal>\n",
        "\n",
        "\t\t\t<lmsal:Purpose>AR 12135 SNS on umbra with SOT</lmsal:Purpose>\n",
        "\n",
        "\t\t</Concept>\n",
        "\n",
        "\n",
        "\n",
        "\t\t<Description>\n",
        "\n",
        "\t\t\tAR 12135 SNS on umbra with SOT\n",
        "\n",
        "128 repeats of OBSID 3800011454  -  Very large sit-and-stare 0.3x175 1s  Si IV   Mg II h/k Deep x 15\n",
        "\n",
        "IRIS roll: 0.0 degrees\n",
        "\n",
        "IRIS planner pointing: (-29.0 arcsec, 124.0 arcsec)\n",
        "\n",
        "OBS duration: 4311.0 seconds = 128 repeats x 33.7 seconds/repeat\n",
        "\n",
        "OBS data volume: 652.0 megabytes = 5216.4 megabits = 4311.0 seconds * 1.2 megabits/second\n",
        "\n",
        "\t\t</Description>\n",
        "\n",
        "\t</Why>\n",
        "\n",
        "\n",
        "\n",
        "</VOEvent>\n",
        "\n"
       ]
      }
     ],
     "prompt_number": 4
    },
    {
     "cell_type": "code",
     "collapsed": false,
     "input": [
      "tree = ET.parse(r)\n",
      "root = tree.getroot()"
     ],
     "language": "python",
     "metadata": {},
     "outputs": [
      {
       "ename": "ParseError",
       "evalue": "no element found: line 1, column 0",
       "output_type": "pyerr",
       "traceback": [
        "\u001b[0;36m  File \u001b[0;32m\"<string>\"\u001b[0;36m, line \u001b[0;32munknown\u001b[0m\n\u001b[0;31mParseError\u001b[0m\u001b[0;31m:\u001b[0m no element found: line 1, column 0\n"
       ]
      }
     ],
     "prompt_number": 7
    },
    {
     "cell_type": "code",
     "collapsed": false,
     "input": [
      "root.tag"
     ],
     "language": "python",
     "metadata": {},
     "outputs": [
      {
       "ename": "NameError",
       "evalue": "name 'root' is not defined",
       "output_type": "pyerr",
       "traceback": [
        "\u001b[0;31m---------------------------------------------------------------------------\u001b[0m\n\u001b[0;31mNameError\u001b[0m                                 Traceback (most recent call last)",
        "\u001b[0;32m<ipython-input-6-629370b52c19>\u001b[0m in \u001b[0;36m<module>\u001b[0;34m()\u001b[0m\n\u001b[0;32m----> 1\u001b[0;31m \u001b[0mroot\u001b[0m\u001b[0;34m.\u001b[0m\u001b[0mtag\u001b[0m\u001b[0;34m\u001b[0m\u001b[0m\n\u001b[0m",
        "\u001b[0;31mNameError\u001b[0m: name 'root' is not defined"
       ]
      }
     ],
     "prompt_number": 6
    },
    {
     "cell_type": "code",
     "collapsed": false,
     "input": [
      "for child in root:\n",
      "    print child.tag, child.attrib\n",
      "    for country in root.findall(child.tag):\n",
      "        print country.find('Contact')\n",
      "        \n",
      "        #rank = country.find('rank').text\n",
      "        #name = country.get('name')\n",
      "        #print name, rank"
     ],
     "language": "python",
     "metadata": {},
     "outputs": [
      {
       "ename": "NameError",
       "evalue": "name 'root' is not defined",
       "output_type": "pyerr",
       "traceback": [
        "\u001b[0;31m---------------------------------------------------------------------------\u001b[0m\n\u001b[0;31mNameError\u001b[0m                                 Traceback (most recent call last)",
        "\u001b[0;32m<ipython-input-9-0671028465a8>\u001b[0m in \u001b[0;36m<module>\u001b[0;34m()\u001b[0m\n\u001b[0;32m----> 1\u001b[0;31m \u001b[0;32mfor\u001b[0m \u001b[0mchild\u001b[0m \u001b[0;32min\u001b[0m \u001b[0mroot\u001b[0m\u001b[0;34m:\u001b[0m\u001b[0;34m\u001b[0m\u001b[0m\n\u001b[0m\u001b[1;32m      2\u001b[0m     \u001b[0;32mprint\u001b[0m \u001b[0mchild\u001b[0m\u001b[0;34m.\u001b[0m\u001b[0mtag\u001b[0m\u001b[0;34m,\u001b[0m \u001b[0mchild\u001b[0m\u001b[0;34m.\u001b[0m\u001b[0mattrib\u001b[0m\u001b[0;34m\u001b[0m\u001b[0m\n\u001b[1;32m      3\u001b[0m     \u001b[0;32mfor\u001b[0m \u001b[0mcountry\u001b[0m \u001b[0;32min\u001b[0m \u001b[0mroot\u001b[0m\u001b[0;34m.\u001b[0m\u001b[0mfindall\u001b[0m\u001b[0;34m(\u001b[0m\u001b[0mchild\u001b[0m\u001b[0;34m.\u001b[0m\u001b[0mtag\u001b[0m\u001b[0;34m)\u001b[0m\u001b[0;34m:\u001b[0m\u001b[0;34m\u001b[0m\u001b[0m\n\u001b[1;32m      4\u001b[0m         \u001b[0;32mprint\u001b[0m \u001b[0mcountry\u001b[0m\u001b[0;34m.\u001b[0m\u001b[0mfind\u001b[0m\u001b[0;34m(\u001b[0m\u001b[0;34m'Contact'\u001b[0m\u001b[0;34m)\u001b[0m\u001b[0;34m\u001b[0m\u001b[0m\n\u001b[1;32m      5\u001b[0m \u001b[0;34m\u001b[0m\u001b[0m\n",
        "\u001b[0;31mNameError\u001b[0m: name 'root' is not defined"
       ]
      }
     ],
     "prompt_number": 9
    },
    {
     "cell_type": "code",
     "collapsed": false,
     "input": [
      "for elem in tree.iter():\n",
      "    print elem.tag, elem.attrib, elem.text"
     ],
     "language": "python",
     "metadata": {},
     "outputs": [
      {
       "ename": "NameError",
       "evalue": "name 'tree' is not defined",
       "output_type": "pyerr",
       "traceback": [
        "\u001b[0;31m---------------------------------------------------------------------------\u001b[0m\n\u001b[0;31mNameError\u001b[0m                                 Traceback (most recent call last)",
        "\u001b[0;32m<ipython-input-8-c52eeda24989>\u001b[0m in \u001b[0;36m<module>\u001b[0;34m()\u001b[0m\n\u001b[0;32m----> 1\u001b[0;31m \u001b[0;32mfor\u001b[0m \u001b[0melem\u001b[0m \u001b[0;32min\u001b[0m \u001b[0mtree\u001b[0m\u001b[0;34m.\u001b[0m\u001b[0miter\u001b[0m\u001b[0;34m(\u001b[0m\u001b[0;34m)\u001b[0m\u001b[0;34m:\u001b[0m\u001b[0;34m\u001b[0m\u001b[0m\n\u001b[0m\u001b[1;32m      2\u001b[0m     \u001b[0;32mprint\u001b[0m \u001b[0melem\u001b[0m\u001b[0;34m.\u001b[0m\u001b[0mtag\u001b[0m\u001b[0;34m,\u001b[0m \u001b[0melem\u001b[0m\u001b[0;34m.\u001b[0m\u001b[0mattrib\u001b[0m\u001b[0;34m,\u001b[0m \u001b[0melem\u001b[0m\u001b[0;34m.\u001b[0m\u001b[0mtext\u001b[0m\u001b[0;34m\u001b[0m\u001b[0m\n",
        "\u001b[0;31mNameError\u001b[0m: name 'tree' is not defined"
       ]
      }
     ],
     "prompt_number": 8
    },
    {
     "cell_type": "code",
     "collapsed": false,
     "input": [],
     "language": "python",
     "metadata": {},
     "outputs": []
    }
   ],
   "metadata": {}
  }
 ]
}