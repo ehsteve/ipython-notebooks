{
 "metadata": {
  "name": "",
  "signature": "sha256:b1595b090aa8ad9823f3c41286b6ba696a5eb9d4d2ad5b99127efdb46f5172ed"
 },
 "nbformat": 3,
 "nbformat_minor": 0,
 "worksheets": [
  {
   "cells": [
    {
     "cell_type": "code",
     "collapsed": false,
     "input": [
      "url = 'http://lmsal.com/hek/hcr?cmd=get-voevent-xml&event-id=ivo%3A%2F%2Firis.lmsal.com%2FVOEvent%232014-08-11T11%3A48%3A50Z'"
     ],
     "language": "python",
     "metadata": {},
     "outputs": [],
     "prompt_number": 1
    },
    {
     "cell_type": "code",
     "collapsed": false,
     "input": [
      "import xml.etree.ElementTree as ET\n",
      "import urllib2"
     ],
     "language": "python",
     "metadata": {},
     "outputs": [],
     "prompt_number": 6
    },
    {
     "cell_type": "code",
     "collapsed": false,
     "input": [
      "req = urllib2.Request(url)\n",
      "r = urllib2.urlopen(req)"
     ],
     "language": "python",
     "metadata": {},
     "outputs": [],
     "prompt_number": 8
    },
    {
     "cell_type": "code",
     "collapsed": false,
     "input": [
      "for line in r:\n",
      "    print(line)"
     ],
     "language": "python",
     "metadata": {},
     "outputs": [],
     "prompt_number": 13
    },
    {
     "cell_type": "code",
     "collapsed": false,
     "input": [
      "tree = ET.parse(r)\n",
      "root = tree.getroot()"
     ],
     "language": "python",
     "metadata": {},
     "outputs": []
    },
    {
     "cell_type": "code",
     "collapsed": false,
     "input": [
      "root.tag"
     ],
     "language": "python",
     "metadata": {},
     "outputs": [
      {
       "metadata": {},
       "output_type": "pyout",
       "prompt_number": 9,
       "text": [
        "'{http://www.ivoa.net/xml/VOEvent/v1.11}VOEvent'"
       ]
      }
     ],
     "prompt_number": 9
    },
    {
     "cell_type": "code",
     "collapsed": false,
     "input": [
      "for child in root:\n",
      "    print child.tag, child.attrib\n",
      "    for country in root.findall(child.tag):\n",
      "        print country.find('Contact')\n",
      "        \n",
      "        #rank = country.find('rank').text\n",
      "        #name = country.get('name')\n",
      "        #print name, rank"
     ],
     "language": "python",
     "metadata": {},
     "outputs": [
      {
       "output_type": "stream",
       "stream": "stdout",
       "text": [
        "{http://www.ivoa.net/xml/VOEvent/v1.11}Who {}\n",
        "None\n",
        "{http://www.ivoa.net/xml/VOEvent/v1.11}What {}\n",
        "None\n",
        "{http://www.ivoa.net/xml/VOEvent/v1.11}WhereWhen {}\n",
        "None\n",
        "{http://www.ivoa.net/xml/VOEvent/v1.11}Why {}\n",
        "None\n"
       ]
      }
     ],
     "prompt_number": 23
    },
    {
     "cell_type": "code",
     "collapsed": false,
     "input": [
      "for elem in tree.iter():\n",
      "    print elem.tag, elem.attrib, elem.text"
     ],
     "language": "python",
     "metadata": {},
     "outputs": [
      {
       "output_type": "stream",
       "stream": "stdout",
       "text": [
        "{http://www.ivoa.net/xml/VOEvent/v1.11}VOEvent {'{http://www.w3.org/2001/XMLSchema-instance}schemaLocation': 'http://www.ivoa.net/internal/IVOA/IvoaVOEvent/VOEvent-v1.0.xsd', 'version': '1.11', 'role': 'prediction', 'ivorn': 'ivo://iris.lmsal.com/VOEvent#2014-08-11T11:48:50Z'} \n",
        "\n",
        "\n",
        "\t\n",
        "{http://www.ivoa.net/xml/VOEvent/v1.11}Who {} \n",
        "\t\t\n",
        "\t\t\n",
        "{http://www.ivoa.net/xml/VOEvent/v1.11}Date {} 2014-08-08T22:39:00.000Z\n",
        "{http://www.ivoa.net/xml/VOEvent/v1.11}PublisherID {} http://sot.lmsal.com\n",
        "{http://www.ivoa.net/xml/VOEvent/v1.11}Contact {} \n",
        "\t\t\t\n",
        "{http://www.ivoa.net/xml/VOEvent/v1.11}Name {} Ted Tarbell\n",
        "{http://www.ivoa.net/xml/VOEvent/v1.11}Institution {} LMSAL\n",
        "{http://www.ivoa.net/xml/VOEvent/v1.11}Communication {} \n",
        "\t\t\t\t\n",
        "{http://www.ivoa.net/xml/VOEvent/v1.11}Uri {} http://lmsal.com\n",
        "{http://www.ivoa.net/xml/VOEvent/v1.11}AddressLine {} 3251 Hanover Rd, O/ADBS, B/252, Palo Alto, CA, 94304\n",
        "{http://www.ivoa.net/xml/VOEvent/v1.11}Telephone {} +1-650-424-2400\n",
        "{http://www.ivoa.net/xml/VOEvent/v1.11}Email {} tarbell@lmsal.com\n",
        "{http://sot.lmsal.com/lmsal}Telescope {} IRIS\n",
        "{http://sot.lmsal.com/lmsal}Instrument {} IRIS\n",
        "{http://sot.lmsal.com/lmsal}Tohbans {} null\n",
        "{http://sot.lmsal.com/lmsal}ChiefPlanner {} Ted Tarbell\n",
        "{http://sot.lmsal.com/lmsal}ChiefObserver {} Ted Tarbell\n",
        "{http://www.ivoa.net/xml/VOEvent/v1.11}What {} \n",
        "\t\t\n",
        "\t\t\n",
        "{http://sot.lmsal.com/lmsal}obsId {} 3800011454\n",
        "{http://sot.lmsal.com/lmsal}OBS_NUM {} 3800011454\n",
        "{http://sot.lmsal.com/lmsal}JOP_ID {} None\n",
        "{http://sot.lmsal.com/lmsal}JOP {} None\n",
        "{http://sot.lmsal.com/lmsal}JOIN_SB {} null\n",
        "{http://sot.lmsal.com/lmsal}OBSTITLE {} AR 12135 SNS on umbra with SOT\n",
        "{http://sot.lmsal.com/lmsal}SCI_OBJ {} AR 12135 SNS on umbra with SOT\n",
        "{http://sot.lmsal.com/lmsal}SCI_OBS {} None\n",
        "{http://sot.lmsal.com/lmsal}NOAA_NUM {} None\n",
        "{http://sot.lmsal.com/lmsal}TARGET {} SS\n",
        "{http://sot.lmsal.com/lmsal}slotNumber {} None\n",
        "{http://www.ivoa.net/xml/VOEvent/v1.11}WhereWhen {} \n",
        "\t\t\n",
        "\t\t\n",
        "{http://www.ivoa.net/xml/VOEvent/v1.11}ObservatoryLocation {'ID': 'IRIS'} None\n",
        "{http://www.ivoa.net/xml/VOEvent/v1.11}ObservationLocation {} \n",
        "\t\t\t\n",
        "{http://sot.lmsal.com/lmsal}xCen {} -29\n",
        "{http://sot.lmsal.com/lmsal}yCen {} 124\n",
        "{http://sot.lmsal.com/lmsal}rollAngleDegrees {} 0\n",
        "{http://sot.lmsal.com/lmsal}xFov {} 0\n",
        "{http://sot.lmsal.com/lmsal}yFov {} 173.8\n",
        "{urn:nvo-coords}AstroCoords {'coord_system_id': 'UTC-HGS-TOPO'} \n",
        "\t\t\t\t\n",
        "{urn:nvo-coords}Time {} \n",
        "\t\t\t\t\t\n",
        "{urn:nvo-coords}TimeInterval {} 2014-08-11T11:48:50.000Z 2014-08-11T13:00:41.000Z\n",
        "{urn:nvo-coords}Position3D {} -29 124\n",
        "{http://www.ivoa.net/xml/VOEvent/v1.11}Group {'name': 'hlIntervals'} \n",
        "\t\t\t\n",
        "{http://www.ivoa.net/xml/VOEvent/v1.11}Param {'name': 'hlInterval', 'value': '2014-08-11T12:52:02Z 2014-08-11T12:58:26'} None\n",
        "{http://www.ivoa.net/xml/VOEvent/v1.11}Why {} \n",
        "\t\t\n",
        "\t\t\n",
        "{http://www.ivoa.net/xml/VOEvent/v1.11}Concept {} \n",
        "\t\t\t\n",
        "{http://sot.lmsal.com/lmsal}Goal {} Very large sit-and-stare 0.3x175 1s  Si IV   Mg II h/k Deep x 15\n",
        "{http://sot.lmsal.com/lmsal}Purpose {} AR 12135 SNS on umbra with SOT\n",
        "{http://www.ivoa.net/xml/VOEvent/v1.11}Description {} \n",
        "\t\t\tAR 12135 SNS on umbra with SOT\n",
        "128 repeats of OBSID 3800011454  -  Very large sit-and-stare 0.3x175 1s  Si IV   Mg II h/k Deep x 15\n",
        "IRIS roll: 0.0 degrees\n",
        "IRIS planner pointing: (-29.0 arcsec, 124.0 arcsec)\n",
        "OBS duration: 4311.0 seconds = 128 repeats x 33.7 seconds/repeat\n",
        "OBS data volume: 652.0 megabytes = 5216.4 megabits = 4311.0 seconds * 1.2 megabits/second\n",
        "\t\t\n"
       ]
      }
     ],
     "prompt_number": 27
    },
    {
     "cell_type": "code",
     "collapsed": false,
     "input": [],
     "language": "python",
     "metadata": {},
     "outputs": []
    }
   ],
   "metadata": {}
  }
 ]
}