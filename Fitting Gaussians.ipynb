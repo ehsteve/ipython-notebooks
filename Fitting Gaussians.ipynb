{
 "cells": [
  {
   "cell_type": "code",
   "execution_count": 1,
   "metadata": {
    "collapsed": false
   },
   "outputs": [],
   "source": [
    "import numpy as np\n",
    "import matplotlib.pyplot as plt\n",
    "%matplotlib inline\n",
    "from scipy.optimize import curve_fit"
   ]
  },
  {
   "cell_type": "markdown",
   "metadata": {},
   "source": [
    "Models"
   ]
  },
  {
   "cell_type": "code",
   "execution_count": 100,
   "metadata": {
    "collapsed": false
   },
   "outputs": [],
   "source": [
    "def gauss(x, a, center, sigma, offset):\n",
    "    return a * np.exp(-(x-center)**2/sigma**2) + offset\n",
    "def twogauss(x, a1, center1, sigma1, offset1, a2, center2, sigma2, offset2):\n",
    "    return gauss(x, a1, center1, sigma1, offset1) + gauss(x, a2, center2, sigma2, offset2)\n",
    "def gausslinear(x, a, center, sigma, offset, slope, intercept):\n",
    "    return gauss(x, a, center, sigma, offset) + slope * x + intercept\n",
    "def twogausslinear(x, a, center, sigma, offset, a1, center1, sigma1, offset1, slope, intercept):\n",
    "    return gausslinear(x, a, center, sigma, offset, slope, intercept) + gauss(x, a1, center1, sigma1, offset1)"
   ]
  },
  {
   "cell_type": "markdown",
   "metadata": {},
   "source": [
    "#Single Gaussian Fit"
   ]
  },
  {
   "cell_type": "code",
   "execution_count": 34,
   "metadata": {
    "collapsed": true
   },
   "outputs": [],
   "source": [
    "number_of_events = 1000\n",
    "bin_range = [-10, 10]\n",
    "bin_width = 0.3"
   ]
  },
  {
   "cell_type": "code",
   "execution_count": 35,
   "metadata": {
    "collapsed": true
   },
   "outputs": [],
   "source": [
    "bins = np.arange(bin_range[0], bin_range[1], bin_width)\n",
    "bin_mids = np.arange(bin_range[0], bin_range[1], bin_width) + bin_width/2."
   ]
  },
  {
   "cell_type": "code",
   "execution_count": 69,
   "metadata": {
    "collapsed": false
   },
   "outputs": [],
   "source": [
    "line_strength = [0.4, 0.6]\n",
    "line = np.random.randn(number_of_events*line_strength[0])\n",
    "background = np.random.uniform(bin_range[0], bin_range[1], size=number_of_events*line_strength[1])\n",
    "photons = np.append(line, background)"
   ]
  },
  {
   "cell_type": "code",
   "execution_count": 70,
   "metadata": {
    "collapsed": true
   },
   "outputs": [],
   "source": [
    "hist, bin_edges = np.histogram(photons, bins = bins)"
   ]
  },
  {
   "cell_type": "code",
   "execution_count": 71,
   "metadata": {
    "collapsed": false
   },
   "outputs": [
    {
     "data": {
      "text/plain": [
       "[<matplotlib.lines.Line2D at 0x108103cd0>]"
      ]
     },
     "execution_count": 71,
     "metadata": {},
     "output_type": "execute_result"
    },
    {
     "data": {
      "image/png": "[encoded data removed]",
      "text/plain": [
       "<matplotlib.figure.Figure at 0x109b72050>"
      ]
     },
     "metadata": {},
     "output_type": "display_data"
    }
   ],
   "source": [
    "ydata = hist\n",
    "xdata = bin_mids[:-1]\n",
    "plt.bar(bin_edges[:-1], hist, width = bin_width);\n",
    "plt.xlim(min(bin_edges), max(bin_edges));\n",
    "plt.plot(bin_mids[:-1], hist)"
   ]
  },
  {
   "cell_type": "markdown",
   "metadata": {},
   "source": [
    "## Fit"
   ]
  },
  {
   "cell_type": "code",
   "execution_count": 72,
   "metadata": {
    "collapsed": false
   },
   "outputs": [],
   "source": [
    "ydata = hist\n",
    "xdata = bin_mids[:-1]\n",
    "fit_guess = [1, 0, 1, 0, 1, 1]\n",
    "popt, pcov = curve_fit(gausslinear, xdata, ydata, sigma=np.sqrt(ydata)+1, p0=fit_guess)"
   ]
  },
  {
   "cell_type": "code",
   "execution_count": 73,
   "metadata": {
    "collapsed": false
   },
   "outputs": [
    {
     "data": {
      "text/plain": [
       "array([  5.07269116e+01,   2.44597480e-02,  -1.42691635e+00,\n",
       "         4.14966363e+02,  -8.54953992e-02,  -4.06930553e+02])"
      ]
     },
     "execution_count": 73,
     "metadata": {},
     "output_type": "execute_result"
    }
   ],
   "source": [
    "popt"
   ]
  },
  {
   "cell_type": "code",
   "execution_count": 77,
   "metadata": {
    "collapsed": false
   },
   "outputs": [
    {
     "data": {
      "text/plain": [
       "<matplotlib.legend.Legend at 0x10b832190>"
      ]
     },
     "execution_count": 77,
     "metadata": {},
     "output_type": "execute_result"
    },
    {
     "data": {
      "image/png": "[encoded data removed]",
      "text/plain": [
       "<matplotlib.figure.Figure at 0x10b47f710>"
      ]
     },
     "metadata": {},
     "output_type": "display_data"
    }
   ],
   "source": [
    "plt.bar(bin_edges[:-1], hist, width = bin_width);\n",
    "plt.xlim(min(bin_edges), max(bin_edges));\n",
    "plt.ylim(0)\n",
    "#plt.plot(bin_mids[:-1], hist)\n",
    "plt.plot(xdata, gausslinear(xdata, popt[0], popt[1], popt[2], popt[3], popt[4], popt[5]), label='Fit')\n",
    "plt.legend()"
   ]
  },
  {
   "cell_type": "code",
   "execution_count": 75,
   "metadata": {
    "collapsed": true
   },
   "outputs": [],
   "source": [
    "perr = np.sqrt(np.diag(pcov))"
   ]
  },
  {
   "cell_type": "code",
   "execution_count": 76,
   "metadata": {
    "collapsed": false
   },
   "outputs": [
    {
     "data": {
      "text/plain": [
       "array([  2.87543297e+00,   5.30219604e-02,   7.19252050e-02,\n",
       "         2.36600951e+07,   5.81707460e-02,   2.36600951e+07])"
      ]
     },
     "execution_count": 76,
     "metadata": {},
     "output_type": "execute_result"
    }
   ],
   "source": [
    "perr"
   ]
  },
  {
   "cell_type": "code",
   "execution_count": 101,
   "metadata": {
    "collapsed": true
   },
   "outputs": [],
   "source": [
    "number_of_trials = 10000\n",
    "centers = np.zeros(number_of_trials)\n",
    "centers_errors = np.zeros(number_of_trials)\n",
    "\n",
    "def random_gauss_fits(number_of_trials):\n",
    "    \n",
    "    line_strength = [0.4, 0.6]\n",
    "\n",
    "    for i in np.arange(0, number_of_trials):\n",
    "        line = np.random.randn(number_of_events*line_strength[0])\n",
    "        background = np.random.uniform(bin_range[0], bin_range[1], size=number_of_events*line_strength[1])\n",
    "        photons = np.append(line, background)\n",
    "        hist, bin_edges = np.histogram(photons, bins = bins)\n",
    "        fit_guess = [1, 0, 1, 0, 1, 1]\n",
    "        popt, pcov = curve_fit(gausslinear, bin_mids[:-1], hist, sigma=np.sqrt(ydata)+1, p0=fit_guess)\n",
    "        centers[i] = popt[1]\n",
    "    return centers"
   ]
  },
  {
   "cell_type": "code",
   "execution_count": 102,
   "metadata": {
    "collapsed": true
   },
   "outputs": [],
   "source": [
    "centers = random_gauss_fits(number_of_trials)"
   ]
  },
  {
   "cell_type": "markdown",
   "metadata": {},
   "source": [
    "## Distribution of Fit Centers"
   ]
  },
  {
   "cell_type": "code",
   "execution_count": 110,
   "metadata": {
    "collapsed": false
   },
   "outputs": [
    {
     "data": {
      "text/plain": [
       "<matplotlib.legend.Legend at 0x10d7b0d50>"
      ]
     },
     "execution_count": 110,
     "metadata": {},
     "output_type": "execute_result"
    },
    {
     "data": {
      "image/png": "[encoded data removed]",
      "text/plain": [
       "<matplotlib.figure.Figure at 0x10d7bb390>"
      ]
     },
     "metadata": {},
     "output_type": "display_data"
    }
   ],
   "source": [
    "plt.hist(centers, bins=20, label='$\\sigma$ = ' + \"%0.3f\" % centers.std(), range=[-0.5,0.5])\n",
    "plt.xlabel(\"Fit center\")\n",
    "plt.xlim(-0.5, 0.5)\n",
    "plt.legend()"
   ]
  },
  {
   "cell_type": "markdown",
   "metadata": {},
   "source": [
    "# Two Gaussians"
   ]
  },
  {
   "cell_type": "code",
   "execution_count": 130,
   "metadata": {
    "collapsed": false
   },
   "outputs": [],
   "source": [
    "number_of_events = 1000\n",
    "line_strength = np.array([0.4, 0.4, 0.2])\n",
    "line_positions = [0, 10]\n",
    "bin_range = [-10, 20]\n",
    "bin_width = 0.3"
   ]
  },
  {
   "cell_type": "code",
   "execution_count": 131,
   "metadata": {
    "collapsed": false
   },
   "outputs": [],
   "source": [
    "bins = np.arange(bin_range[0], bin_range[1], bin_width)\n",
    "bin_mids = np.arange(bin_range[0], bin_range[1], bin_width) + bin_width/2."
   ]
  },
  {
   "cell_type": "code",
   "execution_count": 132,
   "metadata": {
    "collapsed": false
   },
   "outputs": [],
   "source": [
    "line1 = np.random.randn(number_of_events*line_strength[0]) + line_positions[0]\n",
    "line2 = np.random.randn(number_of_events*line_strength[1]) + line_positions[1]\n",
    "background = np.random.uniform(bin_range[0], bin_range[1], size=number_of_events*line_strength[2])\n",
    "photons = np.append(line1, np.append(line2, background))"
   ]
  },
  {
   "cell_type": "code",
   "execution_count": 133,
   "metadata": {
    "collapsed": false
   },
   "outputs": [],
   "source": [
    "hist, bin_edges = np.histogram(photons, bins = bins)"
   ]
  },
  {
   "cell_type": "code",
   "execution_count": 134,
   "metadata": {
    "collapsed": false
   },
   "outputs": [
    {
     "data": {
      "text/plain": [
       "[<matplotlib.lines.Line2D at 0x10db8b250>]"
      ]
     },
     "execution_count": 134,
     "metadata": {},
     "output_type": "execute_result"
    },
    {
     "data": {
      "image/png": "[encoded data removed]",
      "text/plain": [
       "<matplotlib.figure.Figure at 0x10d9e3810>"
      ]
     },
     "metadata": {},
     "output_type": "display_data"
    }
   ],
   "source": [
    "plt.bar(bin_edges[:-1], hist, width = bin_width);\n",
    "plt.xlim(min(bin_edges), max(bin_edges));\n",
    "plt.plot(bin_mids[:-1], hist)"
   ]
  },
  {
   "cell_type": "code",
   "execution_count": 10,
   "metadata": {
    "collapsed": false
   },
   "outputs": [],
   "source": [
    "\n",
    "popt, pcov = curve_fit(twogausslinear, xdata, ydata, sigma=np.sqrt(ydata)+1, p0=[1, 0, 1, 0, 1, 10, 1, 0])"
   ]
  },
  {
   "cell_type": "code",
   "execution_count": 11,
   "metadata": {
    "collapsed": false
   },
   "outputs": [
    {
     "data": {
      "text/plain": [
       "array([  9.50964076e+01,  -2.44937032e-02,   1.38935303e+00,\n",
       "         7.99067997e+01,   2.59030560e+01,   1.00315649e+01,\n",
       "         1.24359943e+00,  -7.99520670e+01])"
      ]
     },
     "execution_count": 11,
     "metadata": {},
     "output_type": "execute_result"
    }
   ],
   "source": [
    "popt"
   ]
  },
  {
   "cell_type": "code",
   "execution_count": 12,
   "metadata": {
    "collapsed": false
   },
   "outputs": [
    {
     "data": {
      "text/plain": [
       "array([[  6.11554534e+00,  -1.29398291e-03,  -3.47002223e-02,\n",
       "          1.78619449e+04,   1.63665243e-03,   7.46230510e-06,\n",
       "         -8.12015335e-04,  -1.78619393e+04],\n",
       "       [ -1.29398294e-03,   5.10982021e-04,   2.03100396e-05,\n",
       "          1.40794303e+03,   4.70732715e-06,   2.57796229e-08,\n",
       "         -2.19259263e-06,  -1.40794302e+03],\n",
       "       [ -3.47002223e-02,   2.03100384e-05,   6.02941493e-04,\n",
       "          3.11669352e+03,  -7.98020166e-05,  -3.51174601e-07,\n",
       "          4.00132563e-05,  -3.11669382e+03],\n",
       "       [  1.78626616e+04,   1.40793974e+03,   3.11665515e+03,\n",
       "         -3.78035305e+13,  -8.80817424e+03,  -1.60122181e+02,\n",
       "          3.98058125e+02,   3.78035307e+13],\n",
       "       [  1.63665261e-03,   4.70732710e-06,  -7.98020240e-05,\n",
       "         -8.80819344e+03,   2.25888267e+00,   6.86695748e-03,\n",
       "         -4.48027080e-02,   8.80819480e+03],\n",
       "       [  7.46230819e-06,   2.57796131e-08,  -3.51174754e-07,\n",
       "         -1.60122287e+02,   6.86695748e-03,   2.23965485e-03,\n",
       "         -3.95895585e-04,   1.60122294e+02],\n",
       "       [ -8.12015343e-04,  -2.19259267e-06,   4.00132565e-05,\n",
       "          3.98060051e+02,  -4.48027080e-02,  -3.95895585e-04,\n",
       "          2.76672551e-03,  -3.98060704e+02],\n",
       "       [ -1.78626560e+04,  -1.40793971e+03,  -3.11665542e+03,\n",
       "          3.78035307e+13,   8.80817560e+03,   1.60122188e+02,\n",
       "         -3.98058777e+02,  -3.78035310e+13]])"
      ]
     },
     "execution_count": 12,
     "metadata": {},
     "output_type": "execute_result"
    }
   ],
   "source": [
    "pcov"
   ]
  },
  {
   "cell_type": "code",
   "execution_count": 13,
   "metadata": {
    "collapsed": false
   },
   "outputs": [
    {
     "data": {
      "text/plain": [
       "<matplotlib.legend.Legend at 0x10780f490>"
      ]
     },
     "execution_count": 13,
     "metadata": {},
     "output_type": "execute_result"
    },
    {
     "data": {
      "image/png": "[encoded data removed]",
      "text/plain": [
       "<matplotlib.figure.Figure at 0x1071fd310>"
      ]
     },
     "metadata": {},
     "output_type": "display_data"
    }
   ],
   "source": [
    "plt.bar(bin_edges[:-1], hist, width = bin_width);\n",
    "plt.xlim(min(bin_edges), max(bin_edges));\n",
    "plt.ylim(0)\n",
    "plt.plot(bin_mids[:-1], hist)\n",
    "plt.plot(xdata, func(xdata, popt[0], popt[1], popt[2], popt[3], popt[4], popt[5], popt[6], popt[7]), label='Fit')\n",
    "plt.legend()"
   ]
  },
  {
   "cell_type": "code",
   "execution_count": 17,
   "metadata": {
    "collapsed": false
   },
   "outputs": [
    {
     "data": {
      "text/plain": [
       "array([[  6.11554534e+00,  -1.29398291e-03,  -3.47002223e-02,\n",
       "          1.78619449e+04,   1.63665243e-03,   7.46230510e-06,\n",
       "         -8.12015335e-04,  -1.78619393e+04],\n",
       "       [ -1.29398294e-03,   5.10982021e-04,   2.03100396e-05,\n",
       "          1.40794303e+03,   4.70732715e-06,   2.57796229e-08,\n",
       "         -2.19259263e-06,  -1.40794302e+03],\n",
       "       [ -3.47002223e-02,   2.03100384e-05,   6.02941493e-04,\n",
       "          3.11669352e+03,  -7.98020166e-05,  -3.51174601e-07,\n",
       "          4.00132563e-05,  -3.11669382e+03],\n",
       "       [  1.78626616e+04,   1.40793974e+03,   3.11665515e+03,\n",
       "         -3.78035305e+13,  -8.80817424e+03,  -1.60122181e+02,\n",
       "          3.98058125e+02,   3.78035307e+13],\n",
       "       [  1.63665261e-03,   4.70732710e-06,  -7.98020240e-05,\n",
       "         -8.80819344e+03,   2.25888267e+00,   6.86695748e-03,\n",
       "         -4.48027080e-02,   8.80819480e+03],\n",
       "       [  7.46230819e-06,   2.57796131e-08,  -3.51174754e-07,\n",
       "         -1.60122287e+02,   6.86695748e-03,   2.23965485e-03,\n",
       "         -3.95895585e-04,   1.60122294e+02],\n",
       "       [ -8.12015343e-04,  -2.19259267e-06,   4.00132565e-05,\n",
       "          3.98060051e+02,  -4.48027080e-02,  -3.95895585e-04,\n",
       "          2.76672551e-03,  -3.98060704e+02],\n",
       "       [ -1.78626560e+04,  -1.40793971e+03,  -3.11665542e+03,\n",
       "          3.78035307e+13,   8.80817560e+03,   1.60122188e+02,\n",
       "         -3.98058777e+02,  -3.78035310e+13]])"
      ]
     },
     "execution_count": 17,
     "metadata": {},
     "output_type": "execute_result"
    }
   ],
   "source": [
    "pcov"
   ]
  },
  {
   "cell_type": "code",
   "execution_count": 14,
   "metadata": {
    "collapsed": false
   },
   "outputs": [
    {
     "name": "stderr",
     "output_type": "stream",
     "text": [
      "/Users/schriste/anaconda/lib/python2.7/site-packages/IPython/kernel/__main__.py:1: RuntimeWarning: invalid value encountered in sqrt\n",
      "  if __name__ == '__main__':\n"
     ]
    }
   ],
   "source": [
    "perr = np.sqrt(np.diag(pcov))"
   ]
  },
  {
   "cell_type": "code",
   "execution_count": 15,
   "metadata": {
    "collapsed": false
   },
   "outputs": [
    {
     "data": {
      "text/plain": [
       "array([ 2.47296287,  0.02260491,  0.02455487,         nan,  1.50295797,\n",
       "        0.04732499,  0.05259967,         nan])"
      ]
     },
     "execution_count": 15,
     "metadata": {},
     "output_type": "execute_result"
    }
   ],
   "source": [
    "perr"
   ]
  },
  {
   "cell_type": "code",
   "execution_count": 16,
   "metadata": {
    "collapsed": false
   },
   "outputs": [
    {
     "ename": "SyntaxError",
     "evalue": "invalid syntax (<ipython-input-16-ebb8e0862158>, line 1)",
     "output_type": "error",
     "traceback": [
      "\u001b[0;36m  File \u001b[0;32m\"<ipython-input-16-ebb8e0862158>\"\u001b[0;36m, line \u001b[0;32m1\u001b[0m\n\u001b[0;31m    x =\u001b[0m\n\u001b[0m        ^\u001b[0m\n\u001b[0;31mSyntaxError\u001b[0m\u001b[0;31m:\u001b[0m invalid syntax\n"
     ]
    }
   ],
   "source": [
    "x = \n",
    "plt.plot()"
   ]
  },
  {
   "cell_type": "code",
   "execution_count": null,
   "metadata": {
    "collapsed": true
   },
   "outputs": [],
   "source": []
  }
 ],
 "metadata": {
  "kernelspec": {
   "display_name": "Python 2",
   "language": "python",
   "name": "python2"
  },
  "language_info": {
   "codemirror_mode": {
    "name": "ipython",
    "version": 2
   },
   "file_extension": ".py",
   "mimetype": "text/x-python",
   "name": "python",
   "nbconvert_exporter": "python",
   "pygments_lexer": "ipython2",
   "version": "2.7.9"
  }
 },
 "nbformat": 4,
 "nbformat_minor": 0
}
