{
 "metadata": {
  "name": "",
  "signature": "sha256:4c886bcc7a0649e9dcb2da3b6419f30aa326f3a6f7aad9a63072cae8ef8531a3"
 },
 "nbformat": 3,
 "nbformat_minor": 0,
 "worksheets": [
  {
   "cells": [
    {
     "cell_type": "code",
     "collapsed": false,
     "input": [
      "from astropy.units import Quantity"
     ],
     "language": "python",
     "metadata": {},
     "outputs": [],
     "prompt_number": 2
    },
    {
     "cell_type": "code",
     "collapsed": false,
     "input": [
      "f1 = Quantity(1500, 'mm')\n",
      "f2 = Quantity(200, 'mm')\n",
      "f3 = Quantity(30, 'mm')"
     ],
     "language": "python",
     "metadata": {},
     "outputs": [],
     "prompt_number": 3
    },
    {
     "cell_type": "code",
     "collapsed": false,
     "input": [
      "def image_distance(object_distance, focal_length):\n",
      "    return (object_distance * focal_length)/(object_distance - focal_length)"
     ],
     "language": "python",
     "metadata": {},
     "outputs": [],
     "prompt_number": 4
    },
    {
     "cell_type": "code",
     "collapsed": false,
     "input": [
      "print(image_distance(Quantity(100, 'm'), f1))"
     ],
     "language": "python",
     "metadata": {},
     "outputs": [
      {
       "output_type": "stream",
       "stream": "stdout",
       "text": [
        "1522.84263959 mm\n"
       ]
      }
     ],
     "prompt_number": 7
    },
    {
     "cell_type": "code",
     "collapsed": false,
     "input": [
      "def saas_image_distance(object_distance):\n",
      "    f1 = Quantity(1500, 'mm')\n",
      "    f2 = Quantity(200, 'mm')\n",
      "    f3 = Quantity(30, 'mm')\n",
      "    \n",
      "    d12 = Quantity(1819, 'mm')\n",
      "    d23 = Quantity(229, 'mm')\n",
      "    \n",
      "    image_1 = image_distance(object_distance, f1)\n",
      "    print(image_1)\n",
      "    image_2 = image_distance(d12 + image_1, f2)\n",
      "    print(image_2)\n",
      "    image_3 = image_distance(d23 + image_2, f3)\n",
      "    return image_3"
     ],
     "language": "python",
     "metadata": {},
     "outputs": [],
     "prompt_number": 14
    },
    {
     "cell_type": "code",
     "collapsed": false,
     "input": [
      "saas_image_distance(Quantity(10, 'm'))"
     ],
     "language": "python",
     "metadata": {},
     "outputs": [
      {
       "output_type": "stream",
       "stream": "stdout",
       "text": [
        "1764.70588235 mm\n",
        "211.821358413 mm\n"
       ]
      },
      {
       "latex": [
        "$32.1907 \\; \\mathrm{mm}$"
       ],
       "metadata": {},
       "output_type": "pyout",
       "prompt_number": 26,
       "text": [
        "<Quantity 32.19073322642316 mm>"
       ]
      }
     ],
     "prompt_number": 26
    },
    {
     "cell_type": "code",
     "collapsed": false,
     "input": [],
     "language": "python",
     "metadata": {},
     "outputs": []
    }
   ],
   "metadata": {}
  }
 ]
}