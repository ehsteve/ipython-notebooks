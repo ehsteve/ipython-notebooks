{
 "metadata": {
  "name": "",
  "signature": "sha256:ef941df3dac8512111e74af68a5de6e65ea2c90949fe52d53c97c656b82b3736"
 },
 "nbformat": 3,
 "nbformat_minor": 0,
 "worksheets": [
  {
   "cells": [
    {
     "cell_type": "code",
     "collapsed": false,
     "input": [
      "file = '/Users/schriste/Downloads/go06940108.fits'"
     ],
     "language": "python",
     "metadata": {},
     "outputs": [],
     "prompt_number": 1
    },
    {
     "cell_type": "code",
     "collapsed": false,
     "input": [
      "from matplotlib import pyplot as plt"
     ],
     "language": "python",
     "metadata": {},
     "outputs": []
    },
    {
     "cell_type": "code",
     "collapsed": false,
     "input": [
      "%pylab inline"
     ],
     "language": "python",
     "metadata": {},
     "outputs": []
    },
    {
     "cell_type": "code",
     "collapsed": false,
     "input": [
      "import pandas as pd"
     ],
     "language": "python",
     "metadata": {},
     "outputs": []
    },
    {
     "cell_type": "code",
     "collapsed": false,
     "input": [
      "from astropy.io import fits as pyfits"
     ],
     "language": "python",
     "metadata": {},
     "outputs": [],
     "prompt_number": 2
    },
    {
     "cell_type": "code",
     "collapsed": false,
     "input": [
      "from sunpy.time import parse_time"
     ],
     "language": "python",
     "metadata": {},
     "outputs": []
    },
    {
     "cell_type": "code",
     "collapsed": false,
     "input": [
      "from datetime import timedelta"
     ],
     "language": "python",
     "metadata": {},
     "outputs": []
    },
    {
     "cell_type": "code",
     "collapsed": false,
     "input": [
      "fits = pyfits.open(file)"
     ],
     "language": "python",
     "metadata": {},
     "outputs": [],
     "prompt_number": 3
    },
    {
     "cell_type": "code",
     "collapsed": false,
     "input": [
      "fits[0].header"
     ],
     "language": "python",
     "metadata": {},
     "outputs": [
      {
       "metadata": {},
       "output_type": "pyout",
       "prompt_number": 4,
       "text": [
        "SIMPLE  =                    T / Written by IDL:   9-Jan-1994 02:01:38.00       \n",
        "EXTEND  =                    T / FITS file contains extensions                  \n",
        "NUMEXT  =                    2 / no. of extensions in file                      \n",
        "BITPIX  =                  -32 / IEEE single precision floating point           \n",
        "NAXIS   =                    2 / no. of dimensions in array                     \n",
        "NAXIS1  =                28236 / no. of time intervals                          \n",
        "NAXIS2  =                    3 / time, X-ray long, X-ray short                  \n",
        "DATE-OBS= '08/01/94 '          / UT date of first observation (DD/MM/YY)        \n",
        "TIME-OBS= '0000:01 '           / time of first observation (HHMM:SS)            \n",
        "TIMEZERO=          473990400.0 / DATE-OBS in seconds from 79/1/1,0              \n",
        "DATE-END= '08/01/94 '          / UT date of last observation (DD/MM/YY)         \n",
        "TIME-OBS= '2359:58 '           / time of last observation (HHMM:SS)             \n",
        "TELESCOP= 'GOES 6   '          / spacecraft                                     \n",
        "INSTRUME= 'X-ray Detector'                                                      \n",
        "OBJECT  = 'Sun'                                                                 \n",
        "ORIGIN  = 'SDAC/GSFC '         / written by Solar DAC at GSFC                   \n",
        "DATE    = '09/01/94'           / file creation date (DD/MM/YY)                  \n",
        "                                                                                \n",
        "CTYPE1  = 'seconds '     / seconds into DATE-OBS of 3s interval (see comments)  \n",
        "CTYPE2  = 'watts / m^2'  / in 1. - 8. Angstrom band                             \n",
        "CTYPE3  = 'watts / m^2'  / in .5 - 4. Angstrom band                             \n",
        "COMMENT = 'Energy band information given in extension 1'                        \n",
        "COMMENT = 'Status word information given in extension 2'                        \n",
        "COMMENT = 'Times given are usually 2-3 seconds after start time of interval.'   \n",
        "COMMENT = 'Can't be more exact due to analog filtering of data with time '      \n",
        "COMMENT = 'constant of 6-10 seconds.'                                           \n",
        "COMMENT = 'Flux value of -99999.0 means no data.'                               \n",
        "COMMENT = 'Reference: Solar X-Ray Measurements from SMS-1, SMS-2, and GOES-1;'  \n",
        "COMMENT = 'Information for Data Users.  Donnelly et al,  June 1977.'            \n",
        "COMMENT = 'NOAA TM ERL SEL-48'                                                  \n",
        "COMMENT = 'Reference: SMS GOES Space Environment Monitor Subsystem,'            \n",
        "COMMENT = 'Grubb, Dec 75, NOAA, Technical Memorandum ERL SEL-42.'               \n",
        "COMMENT = 'Reference: Expresions to Determine Temperatures and Emission'        \n",
        "COMMENT = 'Measures for Solar X-ray events from GOES Measurements.'             \n",
        "COMMENT = 'Thomas et al, 1985, Solar Physics 95, pp 323-329.'                   "
       ]
      }
     ],
     "prompt_number": 4
    },
    {
     "cell_type": "code",
     "collapsed": false,
     "input": [
      "fits[0].data"
     ],
     "language": "python",
     "metadata": {},
     "outputs": [
      {
       "metadata": {},
       "output_type": "pyout",
       "prompt_number": 5,
       "text": [
        "array([[  1.41406250e+00,   4.47656250e+00,   7.53125000e+00, ...,\n",
        "          8.63920625e+04,   8.63951250e+04,   8.63981797e+04],\n",
        "       [  6.19950015e-07,   6.16847046e-07,   6.23053040e-07, ...,\n",
        "          4.33770026e-07,   4.30667029e-07,   4.24461007e-07],\n",
        "       [  5.13070031e-09,   5.41100009e-09,   5.41100009e-09, ...,\n",
        "          3.16860005e-09,   3.16860005e-09,   1.76710002e-09]], dtype=float32)"
       ]
      }
     ],
     "prompt_number": 5
    },
    {
     "cell_type": "code",
     "collapsed": false,
     "input": [
      "seconds = fits[0].data[0]"
     ],
     "language": "python",
     "metadata": {},
     "outputs": [],
     "prompt_number": 8
    },
    {
     "cell_type": "code",
     "collapsed": false,
     "input": [
      "parse_time(fits[0].header['TIMEZERO'])"
     ],
     "language": "python",
     "metadata": {},
     "outputs": [
      {
       "metadata": {},
       "output_type": "pyout",
       "prompt_number": 13,
       "text": [
        "datetime.datetime(1994, 1, 8, 0, 0)"
       ]
      }
     ],
     "prompt_number": 13
    },
    {
     "cell_type": "code",
     "collapsed": false,
     "input": [
      "start_time = parse_time(fits[0].header['TIMEZERO'])"
     ],
     "language": "python",
     "metadata": {},
     "outputs": [],
     "prompt_number": 14
    },
    {
     "cell_type": "code",
     "collapsed": false,
     "input": [
      "(seconds[0] - np.floor(seconds[0])) * 1e6"
     ],
     "language": "python",
     "metadata": {},
     "outputs": [
      {
       "metadata": {},
       "output_type": "pyout",
       "prompt_number": 23,
       "text": [
        "414062.5"
       ]
      }
     ],
     "prompt_number": 23
    },
    {
     "cell_type": "code",
     "collapsed": false,
     "input": [
      "times = [start_time + timedelta(seconds = int(np.floor(s)), microseconds = int((s - np.floor(s))*1e6)) for s in seconds]"
     ],
     "language": "python",
     "metadata": {},
     "outputs": [],
     "prompt_number": 43
    },
    {
     "cell_type": "code",
     "collapsed": false,
     "input": [
      "times[-1]"
     ],
     "language": "python",
     "metadata": {},
     "outputs": [
      {
       "metadata": {},
       "output_type": "pyout",
       "prompt_number": 92,
       "text": [
        "datetime.datetime(1994, 1, 8, 23, 59, 58, 179687)"
       ]
      }
     ],
     "prompt_number": 92
    },
    {
     "cell_type": "code",
     "collapsed": false,
     "input": [
      "xrsa = fits[0].data[1]"
     ],
     "language": "python",
     "metadata": {},
     "outputs": [],
     "prompt_number": 72
    },
    {
     "cell_type": "code",
     "collapsed": false,
     "input": [
      "xrsb = fits[0].data[2]"
     ],
     "language": "python",
     "metadata": {},
     "outputs": [],
     "prompt_number": 73
    },
    {
     "cell_type": "code",
     "collapsed": false,
     "input": [
      "xrsb[xrsb == -99999] = np.nan"
     ],
     "language": "python",
     "metadata": {},
     "outputs": [],
     "prompt_number": 85
    },
    {
     "cell_type": "code",
     "collapsed": false,
     "input": [
      "xrsa[xrsa == -99999] = np.nan"
     ],
     "language": "python",
     "metadata": {},
     "outputs": [],
     "prompt_number": 86
    },
    {
     "cell_type": "code",
     "collapsed": false,
     "input": [
      "newxrsa = xrsa.byteswap().newbyteorder()\n",
      "newxrsb = xrsb.byteswap().newbyteorder()"
     ],
     "language": "python",
     "metadata": {},
     "outputs": [],
     "prompt_number": 87
    },
    {
     "cell_type": "code",
     "collapsed": false,
     "input": [
      "d = {'xrsa': newxrsa, 'xrsb': newxrsb}"
     ],
     "language": "python",
     "metadata": {},
     "outputs": [],
     "prompt_number": 88
    },
    {
     "cell_type": "code",
     "collapsed": false,
     "input": [
      "goes = pd.DataFrame(d, index=times)"
     ],
     "language": "python",
     "metadata": {},
     "outputs": [],
     "prompt_number": 89
    },
    {
     "cell_type": "code",
     "collapsed": false,
     "input": [
      "plt.figure()"
     ],
     "language": "python",
     "metadata": {},
     "outputs": [
      {
       "metadata": {},
       "output_type": "pyout",
       "prompt_number": 90,
       "text": [
        "<matplotlib.figure.Figure at 0x1087b2dd0>"
       ]
      },
      {
       "metadata": {},
       "output_type": "display_data",
       "text": [
        "<matplotlib.figure.Figure at 0x1087b2dd0>"
       ]
      }
     ],
     "prompt_number": 90
    },
    {
     "cell_type": "code",
     "collapsed": false,
     "input": [
      "goes.plot()"
     ],
     "language": "python",
     "metadata": {},
     "outputs": [
      {
       "metadata": {},
       "output_type": "pyout",
       "prompt_number": 91,
       "text": [
        "<matplotlib.axes.AxesSubplot at 0x10b869290>"
       ]
      },
      {
       "metadata": {},
       "output_type": "display_data",
       "png": "[encoded data removed]",
       "text": [
        "<matplotlib.figure.Figure at 0x10897d3d0>"
       ]
      }
     ],
     "prompt_number": 91
    },
    {
     "cell_type": "code",
     "collapsed": false,
     "input": [],
     "language": "python",
     "metadata": {},
     "outputs": []
    }
   ],
   "metadata": {}
  }
 ]
}