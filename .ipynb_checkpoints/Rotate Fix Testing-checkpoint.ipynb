{
 "metadata": {
  "name": "",
  "signature": "sha256:6d17e128558b8cc5c8e52216277ad08b74e0a4626bb2cf419f18b60074459e48"
 },
 "nbformat": 3,
 "nbformat_minor": 0,
 "worksheets": []
}