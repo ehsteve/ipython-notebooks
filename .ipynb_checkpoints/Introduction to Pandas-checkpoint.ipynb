{
 "metadata": {
  "name": ""
 },
 "nbformat": 3,
 "nbformat_minor": 0,
 "worksheets": [
  {
   "cells": [
    {
     "cell_type": "code",
     "collapsed": false,
     "input": [
      "import pandas as pd\n",
      "import numpy as np\n",
      "import matplotlib.pyplot as plt"
     ],
     "language": "python",
     "metadata": {},
     "outputs": [],
     "prompt_number": 1
    },
    {
     "cell_type": "code",
     "collapsed": false,
     "input": [
      "%matplotlib inline"
     ],
     "language": "python",
     "metadata": {},
     "outputs": [],
     "prompt_number": 2
    },
    {
     "cell_type": "code",
     "collapsed": false,
     "input": [
      "# this limit maximum numbers of rows displayed on screen\n",
      "pd.set_option(\"display.max_rows\", 15)"
     ],
     "language": "python",
     "metadata": {},
     "outputs": [],
     "prompt_number": 44
    },
    {
     "cell_type": "code",
     "collapsed": false,
     "input": [
      "pd.__version__"
     ],
     "language": "python",
     "metadata": {},
     "outputs": [
      {
       "metadata": {},
       "output_type": "pyout",
       "prompt_number": 45,
       "text": [
        "'0.13.1'"
       ]
      }
     ],
     "prompt_number": 45
    },
    {
     "cell_type": "code",
     "collapsed": false,
     "input": [
      "s = pd.Series([1,3,5,np.nan,6,8])"
     ],
     "language": "python",
     "metadata": {},
     "outputs": [],
     "prompt_number": 46
    },
    {
     "cell_type": "code",
     "collapsed": false,
     "input": [
      "s"
     ],
     "language": "python",
     "metadata": {},
     "outputs": [
      {
       "metadata": {},
       "output_type": "pyout",
       "prompt_number": 47,
       "text": [
        "0     1\n",
        "1     3\n",
        "2     5\n",
        "3   NaN\n",
        "4     6\n",
        "5     8\n",
        "dtype: float64"
       ]
      }
     ],
     "prompt_number": 47
    },
    {
     "cell_type": "code",
     "collapsed": false,
     "input": [
      "dates = pd.date_range('1950-01', '2013-03', freq='D')"
     ],
     "language": "python",
     "metadata": {},
     "outputs": [],
     "prompt_number": 38
    },
    {
     "cell_type": "code",
     "collapsed": false,
     "input": [
      "dates"
     ],
     "language": "python",
     "metadata": {},
     "outputs": [
      {
       "metadata": {},
       "output_type": "pyout",
       "prompt_number": 39,
       "text": [
        "<class 'pandas.tseries.index.DatetimeIndex'>\n",
        "[1950-01-06, ..., 2013-03-06]\n",
        "Length: 23071, Freq: D, Timezone: None"
       ]
      }
     ],
     "prompt_number": 39
    },
    {
     "cell_type": "code",
     "collapsed": false,
     "input": [
      "t = pd.Series(np.ones(dates.shape[0])*5, index=dates)"
     ],
     "language": "python",
     "metadata": {},
     "outputs": [],
     "prompt_number": 40
    },
    {
     "cell_type": "code",
     "collapsed": false,
     "input": [
      "t_utc = t.tz_localize('UTC')"
     ],
     "language": "python",
     "metadata": {},
     "outputs": [],
     "prompt_number": 41
    },
    {
     "cell_type": "code",
     "collapsed": false,
     "input": [
      "t_utc"
     ],
     "language": "python",
     "metadata": {},
     "outputs": [
      {
       "metadata": {},
       "output_type": "pyout",
       "prompt_number": 42,
       "text": [
        "1950-01-06 00:00:00+00:00    5\n",
        "1950-01-07 00:00:00+00:00    5\n",
        "1950-01-08 00:00:00+00:00    5\n",
        "...\n",
        "2013-03-04 00:00:00+00:00    5\n",
        "2013-03-05 00:00:00+00:00    5\n",
        "2013-03-06 00:00:00+00:00    5\n",
        "Freq: D, Length: 23071"
       ]
      }
     ],
     "prompt_number": 42
    },
    {
     "cell_type": "code",
     "collapsed": false,
     "input": [
      "t.resample('M', how='mean')"
     ],
     "language": "python",
     "metadata": {},
     "outputs": [
      {
       "metadata": {},
       "output_type": "pyout",
       "prompt_number": 43,
       "text": [
        "1950-01-31    5\n",
        "1950-02-28    5\n",
        "1950-03-31    5\n",
        "...\n",
        "2013-01-31    5\n",
        "2013-02-28    5\n",
        "2013-03-31    5\n",
        "Freq: M, Length: 759"
       ]
      }
     ],
     "prompt_number": 43
    },
    {
     "cell_type": "code",
     "collapsed": false,
     "input": [
      "t.resample('M', how='count')"
     ],
     "language": "python",
     "metadata": {},
     "outputs": [
      {
       "metadata": {},
       "output_type": "pyout",
       "prompt_number": 30,
       "text": [
        "1950-01-31    26\n",
        "1950-02-28    28\n",
        "1950-03-31    31\n",
        "1950-04-30    30\n",
        "1950-05-31    31\n",
        "1950-06-30    30\n",
        "1950-07-31    31\n",
        "1950-08-31    31\n",
        "1950-09-30    30\n",
        "1950-10-31    31\n",
        "1950-11-30    30\n",
        "1950-12-31    31\n",
        "1951-01-31    31\n",
        "1951-02-28    28\n",
        "1951-03-31    31\n",
        "...\n",
        "2012-01-31    31\n",
        "2012-02-29    29\n",
        "2012-03-31    31\n",
        "2012-04-30    30\n",
        "2012-05-31    31\n",
        "2012-06-30    30\n",
        "2012-07-31    31\n",
        "2012-08-31    31\n",
        "2012-09-30    30\n",
        "2012-10-31    31\n",
        "2012-11-30    30\n",
        "2012-12-31    31\n",
        "2013-01-31    31\n",
        "2013-02-28    28\n",
        "2013-03-31     6\n",
        "Length: 759"
       ]
      }
     ],
     "prompt_number": 30
    },
    {
     "cell_type": "code",
     "collapsed": false,
     "input": [
      "t.resample('M', how='sum')"
     ],
     "language": "python",
     "metadata": {},
     "outputs": [
      {
       "metadata": {},
       "output_type": "pyout",
       "prompt_number": 31,
       "text": [
        "1950-01-31    130\n",
        "1950-02-28    140\n",
        "1950-03-31    155\n",
        "1950-04-30    150\n",
        "1950-05-31    155\n",
        "1950-06-30    150\n",
        "1950-07-31    155\n",
        "1950-08-31    155\n",
        "1950-09-30    150\n",
        "1950-10-31    155\n",
        "1950-11-30    150\n",
        "1950-12-31    155\n",
        "1951-01-31    155\n",
        "1951-02-28    140\n",
        "1951-03-31    155\n",
        "...\n",
        "2012-01-31    155\n",
        "2012-02-29    145\n",
        "2012-03-31    155\n",
        "2012-04-30    150\n",
        "2012-05-31    155\n",
        "2012-06-30    150\n",
        "2012-07-31    155\n",
        "2012-08-31    155\n",
        "2012-09-30    150\n",
        "2012-10-31    155\n",
        "2012-11-30    150\n",
        "2012-12-31    155\n",
        "2013-01-31    155\n",
        "2013-02-28    140\n",
        "2013-03-31     30\n",
        "Freq: M, Length: 759"
       ]
      }
     ],
     "prompt_number": 31
    },
    {
     "cell_type": "code",
     "collapsed": false,
     "input": [],
     "language": "python",
     "metadata": {},
     "outputs": []
    }
   ],
   "metadata": {}
  }
 ]
}