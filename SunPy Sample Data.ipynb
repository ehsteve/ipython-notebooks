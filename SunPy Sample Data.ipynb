{
 "metadata": {
  "name": "",
  "signature": "sha256:abddb4bd6c1298a2331e46adf6da50007d6bc469cc73e5cac6bb18ddca7863ea"
 },
 "nbformat": 3,
 "nbformat_minor": 0,
 "worksheets": [
  {
   "cells": [
    {
     "cell_type": "code",
     "collapsed": false,
     "input": [
      "from os.path import join, splitext\n",
      "from os import rename, remove\n",
      "from astropy.utils.console import ProgressBar \n",
      "from astropy.utils.data import download_file\n",
      "from zipfile import ZipFile"
     ],
     "language": "python",
     "metadata": {},
     "outputs": [],
     "prompt_number": 72
    },
    {
     "cell_type": "code",
     "collapsed": false,
     "input": [
      "from sunpy import config\n",
      "data_dir = config.get('downloads', 'download_dir')"
     ],
     "language": "python",
     "metadata": {},
     "outputs": [],
     "prompt_number": 16
    },
    {
     "cell_type": "code",
     "collapsed": false,
     "input": [
      "def url_exists(url, timeout=2):\n",
      "    \"\"\"\n",
      "    Checks whether a url is online.\n",
      "\n",
      "    Parameters\n",
      "    ----------\n",
      "    url: str\n",
      "        A string containing a URL\n",
      "\n",
      "    Returns\n",
      "    -------\n",
      "    value: bool\n",
      "\n",
      "    Examples\n",
      "    --------\n",
      "    >>> from sunpy.net.helio import parser\n",
      "    >>> url_exists('http://www.google.com')\n",
      "    True\n",
      "    >>> url_exists('http://aslkfjasdlfkjwerf.com')\n",
      "    False\n",
      "    \"\"\"\n",
      "    try:\n",
      "        fd = urllib2.urlopen(url, timeout=timeout)\n",
      "    except urllib2.HTTPError, e:\n",
      "        #print(url)\n",
      "        #print(e.reason)\n",
      "        return False\n",
      "    except urllib2.URLError, e:\n",
      "        #print(url)\n",
      "        #print(e.reason)\n",
      "        return False\n",
      "    else:\n",
      "        return True"
     ],
     "language": "python",
     "metadata": {},
     "outputs": [],
     "prompt_number": 61
    },
    {
     "cell_type": "code",
     "collapsed": false,
     "input": [
      "url_exists('http://www.google.com')"
     ],
     "language": "python",
     "metadata": {},
     "outputs": [
      {
       "metadata": {},
       "output_type": "pyout",
       "prompt_number": 35,
       "text": [
        "True"
       ]
      }
     ],
     "prompt_number": 35
    },
    {
     "cell_type": "code",
     "collapsed": false,
     "input": [
      "base_urls = ('http://www.bsdft.com/', 'http://hesperia.gsfc.nasa.gov/~schriste/sunpy-sample-data/')"
     ],
     "language": "python",
     "metadata": {},
     "outputs": [],
     "prompt_number": 36
    },
    {
     "cell_type": "code",
     "collapsed": false,
     "input": [
      "f = download_file(join(base_urls[1], \"AIA20110319_105400_0171.fits\"))"
     ],
     "language": "python",
     "metadata": {},
     "outputs": [
      {
       "output_type": "stream",
       "stream": "stdout",
       "text": [
        "\u001b[0;39mDownloading http://hesperia.gsfc.nasa.gov/~schriste/sunpy-sample-data/AIA20110319_105400_0171.fits\u001b[0m\n",
        "\r",
        "|\u001b[0;34m\u001b[0m\u001b[0;32m>\u001b[0m------------------------------------------| 0.0 /4.2M (  0.00%)"
       ]
      },
      {
       "output_type": "stream",
       "stream": "stdout",
       "text": [
        "\r",
        "|\u001b[0;34m\u001b[0m\u001b[0;32m>\u001b[0m------------------------------------------|  65k/4.2M (  1.56%) ETA     1s"
       ]
      },
      {
       "output_type": "stream",
       "stream": "stdout",
       "text": [
        "\r",
        "|\u001b[0;34m=\u001b[0m\u001b[0;32m>\u001b[0m-----------------------------------------| 131k/4.2M (  3.11%) ETA     2s"
       ]
      },
      {
       "output_type": "stream",
       "stream": "stdout",
       "text": [
        "\r",
        "|\u001b[0;34m==\u001b[0m\u001b[0;32m>\u001b[0m----------------------------------------| 196k/4.2M (  4.67%) ETA     2s"
       ]
      },
      {
       "output_type": "stream",
       "stream": "stdout",
       "text": [
        "\r",
        "|\u001b[0;34m==\u001b[0m\u001b[0;32m>\u001b[0m----------------------------------------| 262k/4.2M (  6.23%) ETA     2s"
       ]
      },
      {
       "output_type": "stream",
       "stream": "stdout",
       "text": [
        "\r",
        "|\u001b[0;34m===\u001b[0m\u001b[0;32m>\u001b[0m---------------------------------------| 327k/4.2M (  7.78%) ETA     1s"
       ]
      },
      {
       "output_type": "stream",
       "stream": "stdout",
       "text": [
        "\r",
        "|\u001b[0;34m====\u001b[0m\u001b[0;32m>\u001b[0m--------------------------------------| 393k/4.2M (  9.34%) ETA     1s"
       ]
      },
      {
       "output_type": "stream",
       "stream": "stdout",
       "text": [
        "\r",
        "|\u001b[0;34m====\u001b[0m\u001b[0;32m>\u001b[0m--------------------------------------| 458k/4.2M ( 10.90%) ETA     1s"
       ]
      },
      {
       "output_type": "stream",
       "stream": "stdout",
       "text": [
        "\r",
        "|\u001b[0;34m=====\u001b[0m\u001b[0;32m>\u001b[0m-------------------------------------| 524k/4.2M ( 12.45%) ETA     1s"
       ]
      },
      {
       "output_type": "stream",
       "stream": "stdout",
       "text": [
        "\r",
        "|\u001b[0;34m======\u001b[0m\u001b[0;32m>\u001b[0m------------------------------------| 589k/4.2M ( 14.01%) ETA     2s"
       ]
      },
      {
       "output_type": "stream",
       "stream": "stdout",
       "text": [
        "\r",
        "|\u001b[0;34m======\u001b[0m\u001b[0;32m>\u001b[0m------------------------------------| 655k/4.2M ( 15.56%) ETA     2s"
       ]
      },
      {
       "output_type": "stream",
       "stream": "stdout",
       "text": [
        "\r",
        "|\u001b[0;34m=======\u001b[0m\u001b[0;32m>\u001b[0m-----------------------------------| 720k/4.2M ( 17.12%) ETA     1s"
       ]
      },
      {
       "output_type": "stream",
       "stream": "stdout",
       "text": [
        "\r",
        "|\u001b[0;34m========\u001b[0m\u001b[0;32m>\u001b[0m----------------------------------| 786k/4.2M ( 18.68%) ETA     1s"
       ]
      },
      {
       "output_type": "stream",
       "stream": "stdout",
       "text": [
        "\r",
        "|\u001b[0;34m========\u001b[0m\u001b[0;32m>\u001b[0m----------------------------------| 851k/4.2M ( 20.23%) ETA     1s"
       ]
      },
      {
       "output_type": "stream",
       "stream": "stdout",
       "text": [
        "\r",
        "|\u001b[0;34m=========\u001b[0m\u001b[0;32m>\u001b[0m---------------------------------| 917k/4.2M ( 21.79%) ETA     1s"
       ]
      },
      {
       "output_type": "stream",
       "stream": "stdout",
       "text": [
        "\r",
        "|\u001b[0;34m==========\u001b[0m\u001b[0;32m>\u001b[0m--------------------------------| 983k/4.2M ( 23.35%) ETA     1s"
       ]
      },
      {
       "output_type": "stream",
       "stream": "stdout",
       "text": [
        "\r",
        "|\u001b[0;34m==========\u001b[0m\u001b[0;32m>\u001b[0m--------------------------------| 1.0M/4.2M ( 24.90%) ETA     1s"
       ]
      },
      {
       "output_type": "stream",
       "stream": "stdout",
       "text": [
        "\r",
        "|\u001b[0;34m===========\u001b[0m\u001b[0;32m>\u001b[0m-------------------------------| 1.1M/4.2M ( 26.46%) ETA     1s"
       ]
      },
      {
       "output_type": "stream",
       "stream": "stdout",
       "text": [
        "\r",
        "|\u001b[0;34m============\u001b[0m\u001b[0;32m>\u001b[0m------------------------------| 1.1M/4.2M ( 28.02%) ETA     2s"
       ]
      },
      {
       "output_type": "stream",
       "stream": "stdout",
       "text": [
        "\r",
        "|\u001b[0;34m============\u001b[0m\u001b[0;32m>\u001b[0m------------------------------| 1.2M/4.2M ( 29.57%) ETA     2s"
       ]
      },
      {
       "output_type": "stream",
       "stream": "stdout",
       "text": [
        "\r",
        "|\u001b[0;34m=============\u001b[0m\u001b[0;32m>\u001b[0m-----------------------------| 1.3M/4.2M ( 31.13%) ETA     2s"
       ]
      },
      {
       "output_type": "stream",
       "stream": "stdout",
       "text": [
        "\r",
        "|\u001b[0;34m==============\u001b[0m\u001b[0;32m>\u001b[0m----------------------------| 1.3M/4.2M ( 32.69%) ETA     2s"
       ]
      },
      {
       "output_type": "stream",
       "stream": "stdout",
       "text": [
        "\r",
        "|\u001b[0;34m==============\u001b[0m\u001b[0;32m>\u001b[0m----------------------------| 1.4M/4.2M ( 34.24%) ETA     2s"
       ]
      },
      {
       "output_type": "stream",
       "stream": "stdout",
       "text": [
        "\r",
        "|\u001b[0;34m===============\u001b[0m\u001b[0;32m>\u001b[0m---------------------------| 1.5M/4.2M ( 35.80%) ETA     2s"
       ]
      },
      {
       "output_type": "stream",
       "stream": "stdout",
       "text": [
        "\r",
        "|\u001b[0;34m================\u001b[0m\u001b[0;32m>\u001b[0m--------------------------| 1.5M/4.2M ( 37.36%) ETA     1s"
       ]
      },
      {
       "output_type": "stream",
       "stream": "stdout",
       "text": [
        "\r",
        "|\u001b[0;34m================\u001b[0m\u001b[0;32m>\u001b[0m--------------------------| 1.6M/4.2M ( 38.91%) ETA     1s"
       ]
      },
      {
       "output_type": "stream",
       "stream": "stdout",
       "text": [
        "\r",
        "|\u001b[0;34m=================\u001b[0m\u001b[0;32m>\u001b[0m-------------------------| 1.7M/4.2M ( 40.47%) ETA     1s"
       ]
      },
      {
       "output_type": "stream",
       "stream": "stdout",
       "text": [
        "\r",
        "|\u001b[0;34m==================\u001b[0m\u001b[0;32m>\u001b[0m------------------------| 1.7M/4.2M ( 42.02%) ETA     1s"
       ]
      },
      {
       "output_type": "stream",
       "stream": "stdout",
       "text": [
        "\r",
        "|\u001b[0;34m==================\u001b[0m\u001b[0;32m>\u001b[0m------------------------| 1.8M/4.2M ( 43.58%) ETA     1s"
       ]
      },
      {
       "output_type": "stream",
       "stream": "stdout",
       "text": [
        "\r",
        "|\u001b[0;34m===================\u001b[0m\u001b[0;32m>\u001b[0m-----------------------| 1.9M/4.2M ( 45.14%) ETA     1s"
       ]
      },
      {
       "output_type": "stream",
       "stream": "stdout",
       "text": [
        "\r",
        "|\u001b[0;34m====================\u001b[0m\u001b[0;32m>\u001b[0m----------------------| 1.9M/4.2M ( 46.69%) ETA     1s"
       ]
      },
      {
       "output_type": "stream",
       "stream": "stdout",
       "text": [
        "\r",
        "|\u001b[0;34m====================\u001b[0m\u001b[0;32m>\u001b[0m----------------------| 2.0M/4.2M ( 48.25%) ETA     1s"
       ]
      },
      {
       "output_type": "stream",
       "stream": "stdout",
       "text": [
        "\r",
        "|\u001b[0;34m=====================\u001b[0m\u001b[0;32m>\u001b[0m---------------------| 2.0M/4.2M ( 49.81%) ETA     1s"
       ]
      },
      {
       "output_type": "stream",
       "stream": "stdout",
       "text": [
        "\r",
        "|\u001b[0;34m======================\u001b[0m\u001b[0;32m>\u001b[0m--------------------| 2.1M/4.2M ( 51.36%) ETA     1s"
       ]
      },
      {
       "output_type": "stream",
       "stream": "stdout",
       "text": [
        "\r",
        "|\u001b[0;34m======================\u001b[0m\u001b[0;32m>\u001b[0m--------------------| 2.2M/4.2M ( 52.92%) ETA     1s"
       ]
      },
      {
       "output_type": "stream",
       "stream": "stdout",
       "text": [
        "\r",
        "|\u001b[0;34m=======================\u001b[0m\u001b[0;32m>\u001b[0m-------------------| 2.2M/4.2M ( 54.48%) ETA     1s"
       ]
      },
      {
       "output_type": "stream",
       "stream": "stdout",
       "text": [
        "\r",
        "|\u001b[0;34m========================\u001b[0m\u001b[0;32m>\u001b[0m------------------| 2.3M/4.2M ( 56.03%) ETA     1s"
       ]
      },
      {
       "output_type": "stream",
       "stream": "stdout",
       "text": [
        "\r",
        "|\u001b[0;34m========================\u001b[0m\u001b[0;32m>\u001b[0m------------------| 2.4M/4.2M ( 57.59%) ETA     1s"
       ]
      },
      {
       "output_type": "stream",
       "stream": "stdout",
       "text": [
        "\r",
        "|\u001b[0;34m=========================\u001b[0m\u001b[0;32m>\u001b[0m-----------------| 2.4M/4.2M ( 59.15%) ETA     1s"
       ]
      },
      {
       "output_type": "stream",
       "stream": "stdout",
       "text": [
        "\r",
        "|\u001b[0;34m==========================\u001b[0m\u001b[0;32m>\u001b[0m----------------| 2.5M/4.2M ( 60.70%) ETA     1s"
       ]
      },
      {
       "output_type": "stream",
       "stream": "stdout",
       "text": [
        "\r",
        "|\u001b[0;34m==========================\u001b[0m\u001b[0;32m>\u001b[0m----------------| 2.6M/4.2M ( 62.26%) ETA     1s"
       ]
      },
      {
       "output_type": "stream",
       "stream": "stdout",
       "text": [
        "\r",
        "|\u001b[0;34m===========================\u001b[0m\u001b[0;32m>\u001b[0m---------------| 2.6M/4.2M ( 63.82%) ETA     1s"
       ]
      },
      {
       "output_type": "stream",
       "stream": "stdout",
       "text": [
        "\r",
        "|\u001b[0;34m============================\u001b[0m\u001b[0;32m>\u001b[0m--------------| 2.7M/4.2M ( 65.37%) ETA     1s"
       ]
      },
      {
       "output_type": "stream",
       "stream": "stdout",
       "text": [
        "\r",
        "|\u001b[0;34m============================\u001b[0m\u001b[0;32m>\u001b[0m--------------| 2.8M/4.2M ( 66.93%) ETA     0s"
       ]
      },
      {
       "output_type": "stream",
       "stream": "stdout",
       "text": [
        "\r",
        "|\u001b[0;34m=============================\u001b[0m\u001b[0;32m>\u001b[0m-------------| 2.8M/4.2M ( 68.48%) ETA     0s"
       ]
      },
      {
       "output_type": "stream",
       "stream": "stdout",
       "text": [
        "\r",
        "|\u001b[0;34m==============================\u001b[0m\u001b[0;32m>\u001b[0m------------| 2.9M/4.2M ( 70.04%) ETA     0s"
       ]
      },
      {
       "output_type": "stream",
       "stream": "stdout",
       "text": [
        "\r",
        "|\u001b[0;34m==============================\u001b[0m\u001b[0;32m>\u001b[0m------------| 3.0M/4.2M ( 71.60%) ETA     0s"
       ]
      },
      {
       "output_type": "stream",
       "stream": "stdout",
       "text": [
        "\r",
        "|\u001b[0;34m===============================\u001b[0m\u001b[0;32m>\u001b[0m-----------| 3.0M/4.2M ( 73.15%) ETA     0s"
       ]
      },
      {
       "output_type": "stream",
       "stream": "stdout",
       "text": [
        "\r",
        "|\u001b[0;34m================================\u001b[0m\u001b[0;32m>\u001b[0m----------| 3.1M/4.2M ( 74.71%) ETA     0s"
       ]
      },
      {
       "output_type": "stream",
       "stream": "stdout",
       "text": [
        "\r",
        "|\u001b[0;34m================================\u001b[0m\u001b[0;32m>\u001b[0m----------| 3.2M/4.2M ( 76.27%) ETA     0s"
       ]
      },
      {
       "output_type": "stream",
       "stream": "stdout",
       "text": [
        "\r",
        "|\u001b[0;34m=================================\u001b[0m\u001b[0;32m>\u001b[0m---------| 3.2M/4.2M ( 77.82%) ETA     0s"
       ]
      },
      {
       "output_type": "stream",
       "stream": "stdout",
       "text": [
        "\r",
        "|\u001b[0;34m==================================\u001b[0m\u001b[0;32m>\u001b[0m--------| 3.3M/4.2M ( 79.38%) ETA     0s"
       ]
      },
      {
       "output_type": "stream",
       "stream": "stdout",
       "text": [
        "\r",
        "|\u001b[0;34m==================================\u001b[0m\u001b[0;32m>\u001b[0m--------| 3.4M/4.2M ( 80.94%) ETA     0s"
       ]
      },
      {
       "output_type": "stream",
       "stream": "stdout",
       "text": [
        "\r",
        "|\u001b[0;34m===================================\u001b[0m\u001b[0;32m>\u001b[0m-------| 3.4M/4.2M ( 82.49%) ETA     0s"
       ]
      },
      {
       "output_type": "stream",
       "stream": "stdout",
       "text": [
        "\r",
        "|\u001b[0;34m====================================\u001b[0m\u001b[0;32m>\u001b[0m------| 3.5M/4.2M ( 84.05%) ETA     0s"
       ]
      },
      {
       "output_type": "stream",
       "stream": "stdout",
       "text": [
        "\r",
        "|\u001b[0;34m====================================\u001b[0m\u001b[0;32m>\u001b[0m------| 3.6M/4.2M ( 85.61%) ETA     0s"
       ]
      },
      {
       "output_type": "stream",
       "stream": "stdout",
       "text": [
        "\r",
        "|\u001b[0;34m=====================================\u001b[0m\u001b[0;32m>\u001b[0m-----| 3.6M/4.2M ( 87.16%) ETA     0s"
       ]
      },
      {
       "output_type": "stream",
       "stream": "stdout",
       "text": [
        "\r",
        "|\u001b[0;34m======================================\u001b[0m\u001b[0;32m>\u001b[0m----| 3.7M/4.2M ( 88.72%) ETA     0s"
       ]
      },
      {
       "output_type": "stream",
       "stream": "stdout",
       "text": [
        "\r",
        "|\u001b[0;34m======================================\u001b[0m\u001b[0;32m>\u001b[0m----| 3.8M/4.2M ( 90.28%) ETA     0s"
       ]
      },
      {
       "output_type": "stream",
       "stream": "stdout",
       "text": [
        "\r",
        "|\u001b[0;34m=======================================\u001b[0m\u001b[0;32m>\u001b[0m---| 3.8M/4.2M ( 91.83%) ETA     0s"
       ]
      },
      {
       "output_type": "stream",
       "stream": "stdout",
       "text": [
        "\r",
        "|\u001b[0;34m========================================\u001b[0m\u001b[0;32m>\u001b[0m--| 3.9M/4.2M ( 93.39%) ETA     0s"
       ]
      },
      {
       "output_type": "stream",
       "stream": "stdout",
       "text": [
        "\r",
        "|\u001b[0;34m========================================\u001b[0m\u001b[0;32m>\u001b[0m--| 3.9M/4.2M ( 94.94%) ETA     0s"
       ]
      },
      {
       "output_type": "stream",
       "stream": "stdout",
       "text": [
        "\r",
        "|\u001b[0;34m=========================================\u001b[0m\u001b[0;32m>\u001b[0m-| 4.0M/4.2M ( 96.50%) ETA     0s"
       ]
      },
      {
       "output_type": "stream",
       "stream": "stdout",
       "text": [
        "\r",
        "|\u001b[0;34m==========================================\u001b[0m\u001b[0;32m>\u001b[0m| 4.1M/4.2M ( 98.06%) ETA     0s"
       ]
      },
      {
       "output_type": "stream",
       "stream": "stdout",
       "text": [
        "\r",
        "|\u001b[0;34m==========================================\u001b[0m\u001b[0;32m>\u001b[0m| 4.1M/4.2M ( 99.61%) ETA     0s"
       ]
      },
      {
       "output_type": "stream",
       "stream": "stdout",
       "text": [
        "\r",
        "|\u001b[0;34m===========================================\u001b[0m| 4.2M/4.2M (100.00%)         2s"
       ]
      },
      {
       "output_type": "stream",
       "stream": "stdout",
       "text": [
        "\r",
        "|\u001b[0;34m===========================================\u001b[0m| 4.2M/4.2M (100.00%)         2s"
       ]
      },
      {
       "output_type": "stream",
       "stream": "stdout",
       "text": [
        "\n"
       ]
      }
     ],
     "prompt_number": 37
    },
    {
     "cell_type": "code",
     "collapsed": false,
     "input": [
      "def download(progress=True):\n",
      "    \"\"\"\n",
      "    Download the sample data.\n",
      "    \"\"\"\n",
      "    \n",
      "    files = [\n",
      "        \"AIA20110319_105400_0171.fits\",\n",
      "        \"hsi_image_20101016_191218.fits\",\n",
      "        \"eit_l1_20020625_100011.fits\",\n",
      "        \"BIR_20110922_103000_01.fit\",\n",
      "        \"hsi_calib_ev_20020220_1106_20020220_1106_25_40.fits\",\n",
      "        \"swap_lv1_20120101_001607.fits\",\n",
      "        \"aia.lev1.193A_2013-09-21T16_00_06.84Z.image_lev1.fits.zip\"\n",
      "        ]\n",
      "\n",
      "    file_paths = []\n",
      "    \n",
      "    for base_url in base_urls:\n",
      "        for file_name in files:\n",
      "            if url_exists(join(base_url, file_name)):\n",
      "                f = download_file(join(base_url, file_name))\n",
      "                \n",
      "                real_name, ext = splitext(file_name)\n",
      "                \n",
      "                if ext == '.zip':\n",
      "                    print(\"Unpacking: %s\" % real_name)\n",
      "                    with ZipFile(f, 'r') as zip_file:\n",
      "                        zip_file.extract(real_name, data_dir)\n",
      "                    remove(f)\n",
      "                else:\n",
      "                    # move files to the data directory\n",
      "                    rename(f, join(data_dir, file_name))"
     ],
     "language": "python",
     "metadata": {},
     "outputs": [],
     "prompt_number": 73
    },
    {
     "cell_type": "code",
     "collapsed": false,
     "input": [
      "download()"
     ],
     "language": "python",
     "metadata": {},
     "outputs": [
      {
       "output_type": "stream",
       "stream": "stdout",
       "text": [
        "\u001b[0;39mDownloading http://hesperia.gsfc.nasa.gov/~schriste/sunpy-sample-data/aia.lev1.193A_2013-09-21T16_00_06.84Z.image_lev1.fits.zip\u001b[0m\n",
        "\r",
        "|\u001b[0;34m\u001b[0m\u001b[0;32m>\u001b[0m------------------------------------------| 0.0 / 12M (  0.00%)"
       ]
      },
      {
       "output_type": "stream",
       "stream": "stdout",
       "text": [
        "\r",
        "|\u001b[0;34m\u001b[0m\u001b[0;32m>\u001b[0m------------------------------------------|  65k/ 12M (  0.53%) ETA     5s"
       ]
      },
      {
       "output_type": "stream",
       "stream": "stdout",
       "text": [
        "\r",
        "|\u001b[0;34m\u001b[0m\u001b[0;32m>\u001b[0m------------------------------------------| 131k/ 12M (  1.05%) ETA     5s"
       ]
      },
      {
       "output_type": "stream",
       "stream": "stdout",
       "text": [
        "\r",
        "|\u001b[0;34m\u001b[0m\u001b[0;32m>\u001b[0m------------------------------------------| 196k/ 12M (  1.58%) ETA     5s"
       ]
      },
      {
       "output_type": "stream",
       "stream": "stdout",
       "text": [
        "\r",
        "|\u001b[0;34m\u001b[0m\u001b[0;32m>\u001b[0m------------------------------------------| 262k/ 12M (  2.11%) ETA     5s"
       ]
      },
      {
       "output_type": "stream",
       "stream": "stdout",
       "text": [
        "\r",
        "|\u001b[0;34m=\u001b[0m\u001b[0;32m>\u001b[0m-----------------------------------------| 327k/ 12M (  2.64%) ETA     6s"
       ]
      },
      {
       "output_type": "stream",
       "stream": "stdout",
       "text": [
        "\r",
        "|\u001b[0;34m=\u001b[0m\u001b[0;32m>\u001b[0m-----------------------------------------| 393k/ 12M (  3.16%) ETA     5s"
       ]
      },
      {
       "output_type": "stream",
       "stream": "stdout",
       "text": [
        "\r",
        "|\u001b[0;34m=\u001b[0m\u001b[0;32m>\u001b[0m-----------------------------------------| 458k/ 12M (  3.69%) ETA     5s"
       ]
      },
      {
       "output_type": "stream",
       "stream": "stdout",
       "text": [
        "\r",
        "|\u001b[0;34m=\u001b[0m\u001b[0;32m>\u001b[0m-----------------------------------------| 524k/ 12M (  4.22%) ETA     5s"
       ]
      },
      {
       "output_type": "stream",
       "stream": "stdout",
       "text": [
        "\r",
        "|\u001b[0;34m==\u001b[0m\u001b[0;32m>\u001b[0m----------------------------------------| 589k/ 12M (  4.74%) ETA     5s"
       ]
      },
      {
       "output_type": "stream",
       "stream": "stdout",
       "text": [
        "\r",
        "|\u001b[0;34m==\u001b[0m\u001b[0;32m>\u001b[0m----------------------------------------| 655k/ 12M (  5.27%) ETA     5s"
       ]
      },
      {
       "output_type": "stream",
       "stream": "stdout",
       "text": [
        "\r",
        "|\u001b[0;34m==\u001b[0m\u001b[0;32m>\u001b[0m----------------------------------------| 720k/ 12M (  5.80%) ETA     5s"
       ]
      },
      {
       "output_type": "stream",
       "stream": "stdout",
       "text": [
        "\r",
        "|\u001b[0;34m==\u001b[0m\u001b[0;32m>\u001b[0m----------------------------------------| 786k/ 12M (  6.33%) ETA     5s"
       ]
      },
      {
       "output_type": "stream",
       "stream": "stdout",
       "text": [
        "\r",
        "|\u001b[0;34m==\u001b[0m\u001b[0;32m>\u001b[0m----------------------------------------| 851k/ 12M (  6.85%) ETA     5s"
       ]
      },
      {
       "output_type": "stream",
       "stream": "stdout",
       "text": [
        "\r",
        "|\u001b[0;34m===\u001b[0m\u001b[0;32m>\u001b[0m---------------------------------------| 917k/ 12M (  7.38%) ETA     5s"
       ]
      },
      {
       "output_type": "stream",
       "stream": "stdout",
       "text": [
        "\r",
        "|\u001b[0;34m===\u001b[0m\u001b[0;32m>\u001b[0m---------------------------------------| 983k/ 12M (  7.91%) ETA     5s"
       ]
      },
      {
       "output_type": "stream",
       "stream": "stdout",
       "text": [
        "\r",
        "|\u001b[0;34m===\u001b[0m\u001b[0;32m>\u001b[0m---------------------------------------| 1.0M/ 12M (  8.43%) ETA     5s"
       ]
      },
      {
       "output_type": "stream",
       "stream": "stdout",
       "text": [
        "\r",
        "|\u001b[0;34m===\u001b[0m\u001b[0;32m>\u001b[0m---------------------------------------| 1.1M/ 12M (  8.96%) ETA     5s"
       ]
      },
      {
       "output_type": "stream",
       "stream": "stdout",
       "text": [
        "\r",
        "|\u001b[0;34m====\u001b[0m\u001b[0;32m>\u001b[0m--------------------------------------| 1.1M/ 12M (  9.49%) ETA     5s"
       ]
      },
      {
       "output_type": "stream",
       "stream": "stdout",
       "text": [
        "\r",
        "|\u001b[0;34m====\u001b[0m\u001b[0;32m>\u001b[0m--------------------------------------| 1.2M/ 12M ( 10.02%) ETA     5s"
       ]
      },
      {
       "output_type": "stream",
       "stream": "stdout",
       "text": [
        "\r",
        "|\u001b[0;34m====\u001b[0m\u001b[0;32m>\u001b[0m--------------------------------------| 1.3M/ 12M ( 10.54%) ETA     5s"
       ]
      },
      {
       "output_type": "stream",
       "stream": "stdout",
       "text": [
        "\r",
        "|\u001b[0;34m====\u001b[0m\u001b[0;32m>\u001b[0m--------------------------------------| 1.3M/ 12M ( 11.07%) ETA     5s"
       ]
      },
      {
       "output_type": "stream",
       "stream": "stdout",
       "text": [
        "\r",
        "|\u001b[0;34m====\u001b[0m\u001b[0;32m>\u001b[0m--------------------------------------| 1.4M/ 12M ( 11.60%) ETA     5s"
       ]
      },
      {
       "output_type": "stream",
       "stream": "stdout",
       "text": [
        "\r",
        "|\u001b[0;34m=====\u001b[0m\u001b[0;32m>\u001b[0m-------------------------------------| 1.5M/ 12M ( 12.12%) ETA     5s"
       ]
      },
      {
       "output_type": "stream",
       "stream": "stdout",
       "text": [
        "\r",
        "|\u001b[0;34m=====\u001b[0m\u001b[0;32m>\u001b[0m-------------------------------------| 1.5M/ 12M ( 12.65%) ETA     5s"
       ]
      },
      {
       "output_type": "stream",
       "stream": "stdout",
       "text": [
        "\r",
        "|\u001b[0;34m=====\u001b[0m\u001b[0;32m>\u001b[0m-------------------------------------| 1.6M/ 12M ( 13.18%) ETA     5s"
       ]
      },
      {
       "output_type": "stream",
       "stream": "stdout",
       "text": [
        "\r",
        "|\u001b[0;34m=====\u001b[0m\u001b[0;32m>\u001b[0m-------------------------------------| 1.7M/ 12M ( 13.70%) ETA     5s"
       ]
      },
      {
       "output_type": "stream",
       "stream": "stdout",
       "text": [
        "\r",
        "|\u001b[0;34m======\u001b[0m\u001b[0;32m>\u001b[0m------------------------------------| 1.7M/ 12M ( 14.23%) ETA     5s"
       ]
      },
      {
       "output_type": "stream",
       "stream": "stdout",
       "text": [
        "\r",
        "|\u001b[0;34m======\u001b[0m\u001b[0;32m>\u001b[0m------------------------------------| 1.8M/ 12M ( 14.76%) ETA     5s"
       ]
      },
      {
       "output_type": "stream",
       "stream": "stdout",
       "text": [
        "\r",
        "|\u001b[0;34m======\u001b[0m\u001b[0;32m>\u001b[0m------------------------------------| 1.9M/ 12M ( 15.29%) ETA     5s"
       ]
      },
      {
       "output_type": "stream",
       "stream": "stdout",
       "text": [
        "\r",
        "|\u001b[0;34m======\u001b[0m\u001b[0;32m>\u001b[0m------------------------------------| 1.9M/ 12M ( 15.81%) ETA     5s"
       ]
      },
      {
       "output_type": "stream",
       "stream": "stdout",
       "text": [
        "\r",
        "|\u001b[0;34m=======\u001b[0m\u001b[0;32m>\u001b[0m-----------------------------------| 2.0M/ 12M ( 16.34%) ETA     5s"
       ]
      },
      {
       "output_type": "stream",
       "stream": "stdout",
       "text": [
        "\r",
        "|\u001b[0;34m=======\u001b[0m\u001b[0;32m>\u001b[0m-----------------------------------| 2.0M/ 12M ( 16.87%) ETA     5s"
       ]
      },
      {
       "output_type": "stream",
       "stream": "stdout",
       "text": [
        "\r",
        "|\u001b[0;34m=======\u001b[0m\u001b[0;32m>\u001b[0m-----------------------------------| 2.1M/ 12M ( 17.39%) ETA     5s"
       ]
      },
      {
       "output_type": "stream",
       "stream": "stdout",
       "text": [
        "\r",
        "|\u001b[0;34m=======\u001b[0m\u001b[0;32m>\u001b[0m-----------------------------------| 2.2M/ 12M ( 17.92%) ETA     5s"
       ]
      },
      {
       "output_type": "stream",
       "stream": "stdout",
       "text": [
        "\r",
        "|\u001b[0;34m=======\u001b[0m\u001b[0;32m>\u001b[0m-----------------------------------| 2.2M/ 12M ( 18.45%) ETA     5s"
       ]
      },
      {
       "output_type": "stream",
       "stream": "stdout",
       "text": [
        "\r",
        "|\u001b[0;34m========\u001b[0m\u001b[0;32m>\u001b[0m----------------------------------| 2.3M/ 12M ( 18.98%) ETA     5s"
       ]
      },
      {
       "output_type": "stream",
       "stream": "stdout",
       "text": [
        "\r",
        "|\u001b[0;34m========\u001b[0m\u001b[0;32m>\u001b[0m----------------------------------| 2.4M/ 12M ( 19.50%) ETA     5s"
       ]
      },
      {
       "output_type": "stream",
       "stream": "stdout",
       "text": [
        "\r",
        "|\u001b[0;34m========\u001b[0m\u001b[0;32m>\u001b[0m----------------------------------| 2.4M/ 12M ( 20.03%) ETA     5s"
       ]
      },
      {
       "output_type": "stream",
       "stream": "stdout",
       "text": [
        "\r",
        "|\u001b[0;34m========\u001b[0m\u001b[0;32m>\u001b[0m----------------------------------| 2.5M/ 12M ( 20.56%) ETA     5s"
       ]
      },
      {
       "output_type": "stream",
       "stream": "stdout",
       "text": [
        "\r",
        "|\u001b[0;34m=========\u001b[0m\u001b[0;32m>\u001b[0m---------------------------------| 2.6M/ 12M ( 21.08%) ETA     5s"
       ]
      },
      {
       "output_type": "stream",
       "stream": "stdout",
       "text": [
        "\r",
        "|\u001b[0;34m=========\u001b[0m\u001b[0;32m>\u001b[0m---------------------------------| 2.6M/ 12M ( 21.61%) ETA     4s"
       ]
      },
      {
       "output_type": "stream",
       "stream": "stdout",
       "text": [
        "\r",
        "|\u001b[0;34m=========\u001b[0m\u001b[0;32m>\u001b[0m---------------------------------| 2.7M/ 12M ( 22.14%) ETA     4s"
       ]
      },
      {
       "output_type": "stream",
       "stream": "stdout",
       "text": [
        "\r",
        "|\u001b[0;34m=========\u001b[0m\u001b[0;32m>\u001b[0m---------------------------------| 2.8M/ 12M ( 22.67%) ETA     4s"
       ]
      },
      {
       "output_type": "stream",
       "stream": "stdout",
       "text": [
        "\r",
        "|\u001b[0;34m=========\u001b[0m\u001b[0;32m>\u001b[0m---------------------------------| 2.8M/ 12M ( 23.19%) ETA     4s"
       ]
      },
      {
       "output_type": "stream",
       "stream": "stdout",
       "text": [
        "\r",
        "|\u001b[0;34m==========\u001b[0m\u001b[0;32m>\u001b[0m--------------------------------| 2.9M/ 12M ( 23.72%) ETA     4s"
       ]
      },
      {
       "output_type": "stream",
       "stream": "stdout",
       "text": [
        "\r",
        "|\u001b[0;34m==========\u001b[0m\u001b[0;32m>\u001b[0m--------------------------------| 3.0M/ 12M ( 24.25%) ETA     4s"
       ]
      },
      {
       "output_type": "stream",
       "stream": "stdout",
       "text": [
        "\r",
        "|\u001b[0;34m==========\u001b[0m\u001b[0;32m>\u001b[0m--------------------------------| 3.0M/ 12M ( 24.77%) ETA     4s"
       ]
      },
      {
       "output_type": "stream",
       "stream": "stdout",
       "text": [
        "\r",
        "|\u001b[0;34m==========\u001b[0m\u001b[0;32m>\u001b[0m--------------------------------| 3.1M/ 12M ( 25.30%) ETA     4s"
       ]
      },
      {
       "output_type": "stream",
       "stream": "stdout",
       "text": [
        "\r",
        "|\u001b[0;34m===========\u001b[0m\u001b[0;32m>\u001b[0m-------------------------------| 3.2M/ 12M ( 25.83%) ETA     4s"
       ]
      },
      {
       "output_type": "stream",
       "stream": "stdout",
       "text": [
        "\r",
        "|\u001b[0;34m===========\u001b[0m\u001b[0;32m>\u001b[0m-------------------------------| 3.2M/ 12M ( 26.36%) ETA     4s"
       ]
      },
      {
       "output_type": "stream",
       "stream": "stdout",
       "text": [
        "\r",
        "|\u001b[0;34m===========\u001b[0m\u001b[0;32m>\u001b[0m-------------------------------| 3.3M/ 12M ( 26.88%) ETA     4s"
       ]
      },
      {
       "output_type": "stream",
       "stream": "stdout",
       "text": [
        "\r",
        "|\u001b[0;34m===========\u001b[0m\u001b[0;32m>\u001b[0m-------------------------------| 3.4M/ 12M ( 27.41%) ETA     4s"
       ]
      },
      {
       "output_type": "stream",
       "stream": "stdout",
       "text": [
        "\r",
        "|\u001b[0;34m============\u001b[0m\u001b[0;32m>\u001b[0m------------------------------| 3.4M/ 12M ( 27.94%) ETA     4s"
       ]
      },
      {
       "output_type": "stream",
       "stream": "stdout",
       "text": [
        "\r",
        "|\u001b[0;34m============\u001b[0m\u001b[0;32m>\u001b[0m------------------------------| 3.5M/ 12M ( 28.46%) ETA     4s"
       ]
      },
      {
       "output_type": "stream",
       "stream": "stdout",
       "text": [
        "\r",
        "|\u001b[0;34m============\u001b[0m\u001b[0;32m>\u001b[0m------------------------------| 3.6M/ 12M ( 28.99%) ETA     4s"
       ]
      },
      {
       "output_type": "stream",
       "stream": "stdout",
       "text": [
        "\r",
        "|\u001b[0;34m============\u001b[0m\u001b[0;32m>\u001b[0m------------------------------| 3.6M/ 12M ( 29.52%) ETA     4s"
       ]
      },
      {
       "output_type": "stream",
       "stream": "stdout",
       "text": [
        "\r",
        "|\u001b[0;34m============\u001b[0m\u001b[0;32m>\u001b[0m------------------------------| 3.7M/ 12M ( 30.05%) ETA     4s"
       ]
      },
      {
       "output_type": "stream",
       "stream": "stdout",
       "text": [
        "\r",
        "|\u001b[0;34m=============\u001b[0m\u001b[0;32m>\u001b[0m-----------------------------| 3.8M/ 12M ( 30.57%) ETA     4s"
       ]
      },
      {
       "output_type": "stream",
       "stream": "stdout",
       "text": [
        "\r",
        "|\u001b[0;34m=============\u001b[0m\u001b[0;32m>\u001b[0m-----------------------------| 3.8M/ 12M ( 31.10%) ETA     4s"
       ]
      },
      {
       "output_type": "stream",
       "stream": "stdout",
       "text": [
        "\r",
        "|\u001b[0;34m=============\u001b[0m\u001b[0;32m>\u001b[0m-----------------------------| 3.9M/ 12M ( 31.63%) ETA     3s"
       ]
      },
      {
       "output_type": "stream",
       "stream": "stdout",
       "text": [
        "\r",
        "|\u001b[0;34m=============\u001b[0m\u001b[0;32m>\u001b[0m-----------------------------| 3.9M/ 12M ( 32.15%) ETA     3s"
       ]
      },
      {
       "output_type": "stream",
       "stream": "stdout",
       "text": [
        "\r",
        "|\u001b[0;34m==============\u001b[0m\u001b[0;32m>\u001b[0m----------------------------| 4.0M/ 12M ( 32.68%) ETA     3s"
       ]
      },
      {
       "output_type": "stream",
       "stream": "stdout",
       "text": [
        "\r",
        "|\u001b[0;34m==============\u001b[0m\u001b[0;32m>\u001b[0m----------------------------| 4.1M/ 12M ( 33.21%) ETA     3s"
       ]
      },
      {
       "output_type": "stream",
       "stream": "stdout",
       "text": [
        "\r",
        "|\u001b[0;34m==============\u001b[0m\u001b[0;32m>\u001b[0m----------------------------| 4.1M/ 12M ( 33.73%) ETA     3s"
       ]
      },
      {
       "output_type": "stream",
       "stream": "stdout",
       "text": [
        "\r",
        "|\u001b[0;34m==============\u001b[0m\u001b[0;32m>\u001b[0m----------------------------| 4.2M/ 12M ( 34.26%) ETA     3s"
       ]
      },
      {
       "output_type": "stream",
       "stream": "stdout",
       "text": [
        "\r",
        "|\u001b[0;34m==============\u001b[0m\u001b[0;32m>\u001b[0m----------------------------| 4.3M/ 12M ( 34.79%) ETA     3s"
       ]
      },
      {
       "output_type": "stream",
       "stream": "stdout",
       "text": [
        "\r",
        "|\u001b[0;34m===============\u001b[0m\u001b[0;32m>\u001b[0m---------------------------| 4.3M/ 12M ( 35.32%) ETA     3s"
       ]
      },
      {
       "output_type": "stream",
       "stream": "stdout",
       "text": [
        "\r",
        "|\u001b[0;34m===============\u001b[0m\u001b[0;32m>\u001b[0m---------------------------| 4.4M/ 12M ( 35.84%) ETA     3s"
       ]
      },
      {
       "output_type": "stream",
       "stream": "stdout",
       "text": [
        "\r",
        "|\u001b[0;34m===============\u001b[0m\u001b[0;32m>\u001b[0m---------------------------| 4.5M/ 12M ( 36.37%) ETA     3s"
       ]
      },
      {
       "output_type": "stream",
       "stream": "stdout",
       "text": [
        "\r",
        "|\u001b[0;34m===============\u001b[0m\u001b[0;32m>\u001b[0m---------------------------| 4.5M/ 12M ( 36.90%) ETA     3s"
       ]
      },
      {
       "output_type": "stream",
       "stream": "stdout",
       "text": [
        "\r",
        "|\u001b[0;34m================\u001b[0m\u001b[0;32m>\u001b[0m--------------------------| 4.6M/ 12M ( 37.42%) ETA     3s"
       ]
      },
      {
       "output_type": "stream",
       "stream": "stdout",
       "text": [
        "\r",
        "|\u001b[0;34m================\u001b[0m\u001b[0;32m>\u001b[0m--------------------------| 4.7M/ 12M ( 37.95%) ETA     3s"
       ]
      },
      {
       "output_type": "stream",
       "stream": "stdout",
       "text": [
        "\r",
        "|\u001b[0;34m================\u001b[0m\u001b[0;32m>\u001b[0m--------------------------| 4.7M/ 12M ( 38.48%) ETA     3s"
       ]
      },
      {
       "output_type": "stream",
       "stream": "stdout",
       "text": [
        "\r",
        "|\u001b[0;34m================\u001b[0m\u001b[0;32m>\u001b[0m--------------------------| 4.8M/ 12M ( 39.01%) ETA     3s"
       ]
      },
      {
       "output_type": "stream",
       "stream": "stdout",
       "text": [
        "\r",
        "|\u001b[0;34m================\u001b[0m\u001b[0;32m>\u001b[0m--------------------------| 4.9M/ 12M ( 39.53%) ETA     3s"
       ]
      },
      {
       "output_type": "stream",
       "stream": "stdout",
       "text": [
        "\r",
        "|\u001b[0;34m=================\u001b[0m\u001b[0;32m>\u001b[0m-------------------------| 4.9M/ 12M ( 40.06%) ETA     3s"
       ]
      },
      {
       "output_type": "stream",
       "stream": "stdout",
       "text": [
        "\r",
        "|\u001b[0;34m=================\u001b[0m\u001b[0;32m>\u001b[0m-------------------------| 5.0M/ 12M ( 40.59%) ETA     3s"
       ]
      },
      {
       "output_type": "stream",
       "stream": "stdout",
       "text": [
        "\r",
        "|\u001b[0;34m=================\u001b[0m\u001b[0;32m>\u001b[0m-------------------------| 5.1M/ 12M ( 41.11%) ETA     3s"
       ]
      },
      {
       "output_type": "stream",
       "stream": "stdout",
       "text": [
        "\r",
        "|\u001b[0;34m=================\u001b[0m\u001b[0;32m>\u001b[0m-------------------------| 5.1M/ 12M ( 41.64%) ETA     3s"
       ]
      },
      {
       "output_type": "stream",
       "stream": "stdout",
       "text": [
        "\r",
        "|\u001b[0;34m==================\u001b[0m\u001b[0;32m>\u001b[0m------------------------| 5.2M/ 12M ( 42.17%) ETA     3s"
       ]
      },
      {
       "output_type": "stream",
       "stream": "stdout",
       "text": [
        "\r",
        "|\u001b[0;34m==================\u001b[0m\u001b[0;32m>\u001b[0m------------------------| 5.3M/ 12M ( 42.70%) ETA     3s"
       ]
      },
      {
       "output_type": "stream",
       "stream": "stdout",
       "text": [
        "\r",
        "|\u001b[0;34m==================\u001b[0m\u001b[0;32m>\u001b[0m------------------------| 5.3M/ 12M ( 43.22%) ETA     3s"
       ]
      },
      {
       "output_type": "stream",
       "stream": "stdout",
       "text": [
        "\r",
        "|\u001b[0;34m==================\u001b[0m\u001b[0;32m>\u001b[0m------------------------| 5.4M/ 12M ( 43.75%) ETA     3s"
       ]
      },
      {
       "output_type": "stream",
       "stream": "stdout",
       "text": [
        "\r",
        "|\u001b[0;34m===================\u001b[0m\u001b[0;32m>\u001b[0m-----------------------| 5.5M/ 12M ( 44.28%) ETA     3s"
       ]
      },
      {
       "output_type": "stream",
       "stream": "stdout",
       "text": [
        "\r",
        "|\u001b[0;34m===================\u001b[0m\u001b[0;32m>\u001b[0m-----------------------| 5.5M/ 12M ( 44.80%) ETA     3s"
       ]
      },
      {
       "output_type": "stream",
       "stream": "stdout",
       "text": [
        "\r",
        "|\u001b[0;34m===================\u001b[0m\u001b[0;32m>\u001b[0m-----------------------| 5.6M/ 12M ( 45.33%) ETA     3s"
       ]
      },
      {
       "output_type": "stream",
       "stream": "stdout",
       "text": [
        "\r",
        "|\u001b[0;34m===================\u001b[0m\u001b[0;32m>\u001b[0m-----------------------| 5.7M/ 12M ( 45.86%) ETA     2s"
       ]
      },
      {
       "output_type": "stream",
       "stream": "stdout",
       "text": [
        "\r",
        "|\u001b[0;34m===================\u001b[0m\u001b[0;32m>\u001b[0m-----------------------| 5.7M/ 12M ( 46.39%) ETA     2s"
       ]
      },
      {
       "output_type": "stream",
       "stream": "stdout",
       "text": [
        "\r",
        "|\u001b[0;34m====================\u001b[0m\u001b[0;32m>\u001b[0m----------------------| 5.8M/ 12M ( 46.91%) ETA     2s"
       ]
      },
      {
       "output_type": "stream",
       "stream": "stdout",
       "text": [
        "\r",
        "|\u001b[0;34m====================\u001b[0m\u001b[0;32m>\u001b[0m----------------------| 5.8M/ 12M ( 47.44%) ETA     2s"
       ]
      },
      {
       "output_type": "stream",
       "stream": "stdout",
       "text": [
        "\r",
        "|\u001b[0;34m====================\u001b[0m\u001b[0;32m>\u001b[0m----------------------| 5.9M/ 12M ( 47.97%) ETA     2s"
       ]
      },
      {
       "output_type": "stream",
       "stream": "stdout",
       "text": [
        "\r",
        "|\u001b[0;34m====================\u001b[0m\u001b[0;32m>\u001b[0m----------------------| 6.0M/ 12M ( 48.49%) ETA     2s"
       ]
      },
      {
       "output_type": "stream",
       "stream": "stdout",
       "text": [
        "\r",
        "|\u001b[0;34m=====================\u001b[0m\u001b[0;32m>\u001b[0m---------------------| 6.0M/ 12M ( 49.02%) ETA     2s"
       ]
      },
      {
       "output_type": "stream",
       "stream": "stdout",
       "text": [
        "\r",
        "|\u001b[0;34m=====================\u001b[0m\u001b[0;32m>\u001b[0m---------------------| 6.1M/ 12M ( 49.55%) ETA     2s"
       ]
      },
      {
       "output_type": "stream",
       "stream": "stdout",
       "text": [
        "\r",
        "|\u001b[0;34m=====================\u001b[0m\u001b[0;32m>\u001b[0m---------------------| 6.2M/ 12M ( 50.08%) ETA     2s"
       ]
      },
      {
       "output_type": "stream",
       "stream": "stdout",
       "text": [
        "\r",
        "|\u001b[0;34m=====================\u001b[0m\u001b[0;32m>\u001b[0m---------------------| 6.2M/ 12M ( 50.60%) ETA     2s"
       ]
      },
      {
       "output_type": "stream",
       "stream": "stdout",
       "text": [
        "\r",
        "|\u001b[0;34m=====================\u001b[0m\u001b[0;32m>\u001b[0m---------------------| 6.3M/ 12M ( 51.13%) ETA     2s"
       ]
      },
      {
       "output_type": "stream",
       "stream": "stdout",
       "text": [
        "\r",
        "|\u001b[0;34m======================\u001b[0m\u001b[0;32m>\u001b[0m--------------------| 6.4M/ 12M ( 51.66%) ETA     2s"
       ]
      },
      {
       "output_type": "stream",
       "stream": "stdout",
       "text": [
        "\r",
        "|\u001b[0;34m======================\u001b[0m\u001b[0;32m>\u001b[0m--------------------| 6.4M/ 12M ( 52.18%) ETA     2s"
       ]
      },
      {
       "output_type": "stream",
       "stream": "stdout",
       "text": [
        "\r",
        "|\u001b[0;34m======================\u001b[0m\u001b[0;32m>\u001b[0m--------------------| 6.5M/ 12M ( 52.71%) ETA     2s"
       ]
      },
      {
       "output_type": "stream",
       "stream": "stdout",
       "text": [
        "\r",
        "|\u001b[0;34m======================\u001b[0m\u001b[0;32m>\u001b[0m--------------------| 6.6M/ 12M ( 53.24%) ETA     2s"
       ]
      },
      {
       "output_type": "stream",
       "stream": "stdout",
       "text": [
        "\r",
        "|\u001b[0;34m=======================\u001b[0m\u001b[0;32m>\u001b[0m-------------------| 6.6M/ 12M ( 53.77%) ETA     2s"
       ]
      },
      {
       "output_type": "stream",
       "stream": "stdout",
       "text": [
        "\r",
        "|\u001b[0;34m=======================\u001b[0m\u001b[0;32m>\u001b[0m-------------------| 6.7M/ 12M ( 54.29%) ETA     2s"
       ]
      },
      {
       "output_type": "stream",
       "stream": "stdout",
       "text": [
        "\r",
        "|\u001b[0;34m=======================\u001b[0m\u001b[0;32m>\u001b[0m-------------------| 6.8M/ 12M ( 54.82%) ETA     2s"
       ]
      },
      {
       "output_type": "stream",
       "stream": "stdout",
       "text": [
        "\r",
        "|\u001b[0;34m=======================\u001b[0m\u001b[0;32m>\u001b[0m-------------------| 6.8M/ 12M ( 55.35%) ETA     2s"
       ]
      },
      {
       "output_type": "stream",
       "stream": "stdout",
       "text": [
        "\r",
        "|\u001b[0;34m========================\u001b[0m\u001b[0;32m>\u001b[0m------------------| 6.9M/ 12M ( 55.87%) ETA     2s"
       ]
      },
      {
       "output_type": "stream",
       "stream": "stdout",
       "text": [
        "\r",
        "|\u001b[0;34m========================\u001b[0m\u001b[0;32m>\u001b[0m------------------| 7.0M/ 12M ( 56.40%) ETA     2s"
       ]
      },
      {
       "output_type": "stream",
       "stream": "stdout",
       "text": [
        "\r",
        "|\u001b[0;34m========================\u001b[0m\u001b[0;32m>\u001b[0m------------------| 7.0M/ 12M ( 56.93%) ETA     2s"
       ]
      },
      {
       "output_type": "stream",
       "stream": "stdout",
       "text": [
        "\r",
        "|\u001b[0;34m========================\u001b[0m\u001b[0;32m>\u001b[0m------------------| 7.1M/ 12M ( 57.45%) ETA     2s"
       ]
      },
      {
       "output_type": "stream",
       "stream": "stdout",
       "text": [
        "\r",
        "|\u001b[0;34m========================\u001b[0m\u001b[0;32m>\u001b[0m------------------| 7.2M/ 12M ( 57.98%) ETA     2s"
       ]
      },
      {
       "output_type": "stream",
       "stream": "stdout",
       "text": [
        "\r",
        "|\u001b[0;34m=========================\u001b[0m\u001b[0;32m>\u001b[0m-----------------| 7.2M/ 12M ( 58.51%) ETA     2s"
       ]
      },
      {
       "output_type": "stream",
       "stream": "stdout",
       "text": [
        "\r",
        "|\u001b[0;34m=========================\u001b[0m\u001b[0;32m>\u001b[0m-----------------| 7.3M/ 12M ( 59.04%) ETA     2s"
       ]
      },
      {
       "output_type": "stream",
       "stream": "stdout",
       "text": [
        "\r",
        "|\u001b[0;34m=========================\u001b[0m\u001b[0;32m>\u001b[0m-----------------| 7.4M/ 12M ( 59.56%) ETA     2s"
       ]
      },
      {
       "output_type": "stream",
       "stream": "stdout",
       "text": [
        "\r",
        "|\u001b[0;34m=========================\u001b[0m\u001b[0;32m>\u001b[0m-----------------| 7.4M/ 12M ( 60.09%) ETA     2s"
       ]
      },
      {
       "output_type": "stream",
       "stream": "stdout",
       "text": [
        "\r",
        "|\u001b[0;34m==========================\u001b[0m\u001b[0;32m>\u001b[0m----------------| 7.5M/ 12M ( 60.62%) ETA     2s"
       ]
      },
      {
       "output_type": "stream",
       "stream": "stdout",
       "text": [
        "\r",
        "|\u001b[0;34m==========================\u001b[0m\u001b[0;32m>\u001b[0m----------------| 7.6M/ 12M ( 61.14%) ETA     2s"
       ]
      },
      {
       "output_type": "stream",
       "stream": "stdout",
       "text": [
        "\r",
        "|\u001b[0;34m==========================\u001b[0m\u001b[0;32m>\u001b[0m----------------| 7.6M/ 12M ( 61.67%) ETA     2s"
       ]
      },
      {
       "output_type": "stream",
       "stream": "stdout",
       "text": [
        "\r",
        "|\u001b[0;34m==========================\u001b[0m\u001b[0;32m>\u001b[0m----------------| 7.7M/ 12M ( 62.20%) ETA     1s"
       ]
      },
      {
       "output_type": "stream",
       "stream": "stdout",
       "text": [
        "\r",
        "|\u001b[0;34m==========================\u001b[0m\u001b[0;32m>\u001b[0m----------------| 7.7M/ 12M ( 62.73%) ETA     1s"
       ]
      },
      {
       "output_type": "stream",
       "stream": "stdout",
       "text": [
        "\r",
        "|\u001b[0;34m===========================\u001b[0m\u001b[0;32m>\u001b[0m---------------| 7.8M/ 12M ( 63.25%) ETA     1s"
       ]
      },
      {
       "output_type": "stream",
       "stream": "stdout",
       "text": [
        "\r",
        "|\u001b[0;34m===========================\u001b[0m\u001b[0;32m>\u001b[0m---------------| 7.9M/ 12M ( 63.78%) ETA     1s"
       ]
      },
      {
       "output_type": "stream",
       "stream": "stdout",
       "text": [
        "\r",
        "|\u001b[0;34m===========================\u001b[0m\u001b[0;32m>\u001b[0m---------------| 7.9M/ 12M ( 64.31%) ETA     1s"
       ]
      },
      {
       "output_type": "stream",
       "stream": "stdout",
       "text": [
        "\r",
        "|\u001b[0;34m===========================\u001b[0m\u001b[0;32m>\u001b[0m---------------| 8.0M/ 12M ( 64.83%) ETA     1s"
       ]
      },
      {
       "output_type": "stream",
       "stream": "stdout",
       "text": [
        "\r",
        "|\u001b[0;34m============================\u001b[0m\u001b[0;32m>\u001b[0m--------------| 8.1M/ 12M ( 65.36%) ETA     1s"
       ]
      },
      {
       "output_type": "stream",
       "stream": "stdout",
       "text": [
        "\r",
        "|\u001b[0;34m============================\u001b[0m\u001b[0;32m>\u001b[0m--------------| 8.1M/ 12M ( 65.89%) ETA     1s"
       ]
      },
      {
       "output_type": "stream",
       "stream": "stdout",
       "text": [
        "\r",
        "|\u001b[0;34m============================\u001b[0m\u001b[0;32m>\u001b[0m--------------| 8.2M/ 12M ( 66.42%) ETA     1s"
       ]
      },
      {
       "output_type": "stream",
       "stream": "stdout",
       "text": [
        "\r",
        "|\u001b[0;34m============================\u001b[0m\u001b[0;32m>\u001b[0m--------------| 8.3M/ 12M ( 66.94%) ETA     1s"
       ]
      },
      {
       "output_type": "stream",
       "stream": "stdout",
       "text": [
        "\r",
        "|\u001b[0;34m=============================\u001b[0m\u001b[0;32m>\u001b[0m-------------| 8.3M/ 12M ( 67.47%) ETA     1s"
       ]
      },
      {
       "output_type": "stream",
       "stream": "stdout",
       "text": [
        "\r",
        "|\u001b[0;34m=============================\u001b[0m\u001b[0;32m>\u001b[0m-------------| 8.4M/ 12M ( 68.00%) ETA     1s"
       ]
      },
      {
       "output_type": "stream",
       "stream": "stdout",
       "text": [
        "\r",
        "|\u001b[0;34m=============================\u001b[0m\u001b[0;32m>\u001b[0m-------------| 8.5M/ 12M ( 68.52%) ETA     1s"
       ]
      },
      {
       "output_type": "stream",
       "stream": "stdout",
       "text": [
        "\r",
        "|\u001b[0;34m=============================\u001b[0m\u001b[0;32m>\u001b[0m-------------| 8.5M/ 12M ( 69.05%) ETA     1s"
       ]
      },
      {
       "output_type": "stream",
       "stream": "stdout",
       "text": [
        "\r",
        "|\u001b[0;34m=============================\u001b[0m\u001b[0;32m>\u001b[0m-------------| 8.6M/ 12M ( 69.58%) ETA     1s"
       ]
      },
      {
       "output_type": "stream",
       "stream": "stdout",
       "text": [
        "\r",
        "|\u001b[0;34m==============================\u001b[0m\u001b[0;32m>\u001b[0m------------| 8.7M/ 12M ( 70.11%) ETA     1s"
       ]
      },
      {
       "output_type": "stream",
       "stream": "stdout",
       "text": [
        "\r",
        "|\u001b[0;34m==============================\u001b[0m\u001b[0;32m>\u001b[0m------------| 8.7M/ 12M ( 70.63%) ETA     1s"
       ]
      },
      {
       "output_type": "stream",
       "stream": "stdout",
       "text": [
        "\r",
        "|\u001b[0;34m==============================\u001b[0m\u001b[0;32m>\u001b[0m------------| 8.8M/ 12M ( 71.16%) ETA     1s"
       ]
      },
      {
       "output_type": "stream",
       "stream": "stdout",
       "text": [
        "\r",
        "|\u001b[0;34m==============================\u001b[0m\u001b[0;32m>\u001b[0m------------| 8.9M/ 12M ( 71.69%) ETA     1s"
       ]
      },
      {
       "output_type": "stream",
       "stream": "stdout",
       "text": [
        "\r",
        "|\u001b[0;34m===============================\u001b[0m\u001b[0;32m>\u001b[0m-----------| 8.9M/ 12M ( 72.21%) ETA     1s"
       ]
      },
      {
       "output_type": "stream",
       "stream": "stdout",
       "text": [
        "\r",
        "|\u001b[0;34m===============================\u001b[0m\u001b[0;32m>\u001b[0m-----------| 9.0M/ 12M ( 72.74%) ETA     1s"
       ]
      },
      {
       "output_type": "stream",
       "stream": "stdout",
       "text": [
        "\r",
        "|\u001b[0;34m===============================\u001b[0m\u001b[0;32m>\u001b[0m-----------| 9.1M/ 12M ( 73.27%) ETA     1s"
       ]
      },
      {
       "output_type": "stream",
       "stream": "stdout",
       "text": [
        "\r",
        "|\u001b[0;34m===============================\u001b[0m\u001b[0;32m>\u001b[0m-----------| 9.1M/ 12M ( 73.80%) ETA     1s"
       ]
      },
      {
       "output_type": "stream",
       "stream": "stdout",
       "text": [
        "\r",
        "|\u001b[0;34m===============================\u001b[0m\u001b[0;32m>\u001b[0m-----------| 9.2M/ 12M ( 74.32%) ETA     1s"
       ]
      },
      {
       "output_type": "stream",
       "stream": "stdout",
       "text": [
        "\r",
        "|\u001b[0;34m================================\u001b[0m\u001b[0;32m>\u001b[0m----------| 9.3M/ 12M ( 74.85%) ETA     1s"
       ]
      },
      {
       "output_type": "stream",
       "stream": "stdout",
       "text": [
        "\r",
        "|\u001b[0;34m================================\u001b[0m\u001b[0;32m>\u001b[0m----------| 9.3M/ 12M ( 75.38%) ETA     1s"
       ]
      },
      {
       "output_type": "stream",
       "stream": "stdout",
       "text": [
        "\r",
        "|\u001b[0;34m================================\u001b[0m\u001b[0;32m>\u001b[0m----------| 9.4M/ 12M ( 75.90%) ETA     1s"
       ]
      },
      {
       "output_type": "stream",
       "stream": "stdout",
       "text": [
        "\r",
        "|\u001b[0;34m================================\u001b[0m\u001b[0;32m>\u001b[0m----------| 9.5M/ 12M ( 76.43%) ETA     1s"
       ]
      },
      {
       "output_type": "stream",
       "stream": "stdout",
       "text": [
        "\r",
        "|\u001b[0;34m=================================\u001b[0m\u001b[0;32m>\u001b[0m---------| 9.5M/ 12M ( 76.96%) ETA     1s"
       ]
      },
      {
       "output_type": "stream",
       "stream": "stdout",
       "text": [
        "\r",
        "|\u001b[0;34m=================================\u001b[0m\u001b[0;32m>\u001b[0m---------| 9.6M/ 12M ( 77.48%) ETA     1s"
       ]
      },
      {
       "output_type": "stream",
       "stream": "stdout",
       "text": [
        "\r",
        "|\u001b[0;34m=================================\u001b[0m\u001b[0;32m>\u001b[0m---------| 9.6M/ 12M ( 78.01%) ETA     1s"
       ]
      },
      {
       "output_type": "stream",
       "stream": "stdout",
       "text": [
        "\r",
        "|\u001b[0;34m=================================\u001b[0m\u001b[0;32m>\u001b[0m---------| 9.7M/ 12M ( 78.54%) ETA     1s"
       ]
      },
      {
       "output_type": "stream",
       "stream": "stdout",
       "text": [
        "\r",
        "|\u001b[0;34m=================================\u001b[0m\u001b[0;32m>\u001b[0m---------| 9.8M/ 12M ( 79.07%) ETA     1s"
       ]
      },
      {
       "output_type": "stream",
       "stream": "stdout",
       "text": [
        "\r",
        "|\u001b[0;34m==================================\u001b[0m\u001b[0;32m>\u001b[0m--------| 9.8M/ 12M ( 79.59%) ETA     1s"
       ]
      },
      {
       "output_type": "stream",
       "stream": "stdout",
       "text": [
        "\r",
        "|\u001b[0;34m==================================\u001b[0m\u001b[0;32m>\u001b[0m--------| 9.9M/ 12M ( 80.12%) ETA     1s"
       ]
      },
      {
       "output_type": "stream",
       "stream": "stdout",
       "text": [
        "\r",
        "|\u001b[0;34m==================================\u001b[0m\u001b[0;32m>\u001b[0m--------|  10M/ 12M ( 80.65%) ETA     0s"
       ]
      },
      {
       "output_type": "stream",
       "stream": "stdout",
       "text": [
        "\r",
        "|\u001b[0;34m==================================\u001b[0m\u001b[0;32m>\u001b[0m--------|  10M/ 12M ( 81.17%) ETA     0s"
       ]
      },
      {
       "output_type": "stream",
       "stream": "stdout",
       "text": [
        "\r",
        "|\u001b[0;34m===================================\u001b[0m\u001b[0;32m>\u001b[0m-------|  10M/ 12M ( 81.70%) ETA     0s"
       ]
      },
      {
       "output_type": "stream",
       "stream": "stdout",
       "text": [
        "\r",
        "|\u001b[0;34m===================================\u001b[0m\u001b[0;32m>\u001b[0m-------|  10M/ 12M ( 82.23%) ETA     0s"
       ]
      },
      {
       "output_type": "stream",
       "stream": "stdout",
       "text": [
        "\r",
        "|\u001b[0;34m===================================\u001b[0m\u001b[0;32m>\u001b[0m-------|  10M/ 12M ( 82.76%) ETA     0s"
       ]
      },
      {
       "output_type": "stream",
       "stream": "stdout",
       "text": [
        "\r",
        "|\u001b[0;34m===================================\u001b[0m\u001b[0;32m>\u001b[0m-------|  10M/ 12M ( 83.28%) ETA     0s"
       ]
      },
      {
       "output_type": "stream",
       "stream": "stdout",
       "text": [
        "\r",
        "|\u001b[0;34m====================================\u001b[0m\u001b[0;32m>\u001b[0m------|  10M/ 12M ( 83.81%) ETA     0s"
       ]
      },
      {
       "output_type": "stream",
       "stream": "stdout",
       "text": [
        "\r",
        "|\u001b[0;34m====================================\u001b[0m\u001b[0;32m>\u001b[0m------|  10M/ 12M ( 84.34%) ETA     0s"
       ]
      },
      {
       "output_type": "stream",
       "stream": "stdout",
       "text": [
        "\r",
        "|\u001b[0;34m====================================\u001b[0m\u001b[0;32m>\u001b[0m------|  10M/ 12M ( 84.86%) ETA     0s"
       ]
      },
      {
       "output_type": "stream",
       "stream": "stdout",
       "text": [
        "\r",
        "|\u001b[0;34m====================================\u001b[0m\u001b[0;32m>\u001b[0m------|  10M/ 12M ( 85.39%) ETA     0s"
       ]
      },
      {
       "output_type": "stream",
       "stream": "stdout",
       "text": [
        "\r",
        "|\u001b[0;34m====================================\u001b[0m\u001b[0;32m>\u001b[0m------|  10M/ 12M ( 85.92%) ETA     0s"
       ]
      },
      {
       "output_type": "stream",
       "stream": "stdout",
       "text": [
        "\r",
        "|\u001b[0;34m=====================================\u001b[0m\u001b[0;32m>\u001b[0m-----|  10M/ 12M ( 86.45%) ETA     0s"
       ]
      },
      {
       "output_type": "stream",
       "stream": "stdout",
       "text": [
        "\r",
        "|\u001b[0;34m=====================================\u001b[0m\u001b[0;32m>\u001b[0m-----|  10M/ 12M ( 86.97%) ETA     0s"
       ]
      },
      {
       "output_type": "stream",
       "stream": "stdout",
       "text": [
        "\r",
        "|\u001b[0;34m=====================================\u001b[0m\u001b[0;32m>\u001b[0m-----|  10M/ 12M ( 87.50%) ETA     0s"
       ]
      },
      {
       "output_type": "stream",
       "stream": "stdout",
       "text": [
        "\r",
        "|\u001b[0;34m=====================================\u001b[0m\u001b[0;32m>\u001b[0m-----|  10M/ 12M ( 88.03%) ETA     0s"
       ]
      },
      {
       "output_type": "stream",
       "stream": "stdout",
       "text": [
        "\r",
        "|\u001b[0;34m======================================\u001b[0m\u001b[0;32m>\u001b[0m----|  11M/ 12M ( 88.55%) ETA     0s"
       ]
      },
      {
       "output_type": "stream",
       "stream": "stdout",
       "text": [
        "\r",
        "|\u001b[0;34m======================================\u001b[0m\u001b[0;32m>\u001b[0m----|  11M/ 12M ( 89.08%) ETA     0s"
       ]
      },
      {
       "output_type": "stream",
       "stream": "stdout",
       "text": [
        "\r",
        "|\u001b[0;34m======================================\u001b[0m\u001b[0;32m>\u001b[0m----|  11M/ 12M ( 89.61%) ETA     0s"
       ]
      },
      {
       "output_type": "stream",
       "stream": "stdout",
       "text": [
        "\r",
        "|\u001b[0;34m======================================\u001b[0m\u001b[0;32m>\u001b[0m----|  11M/ 12M ( 90.14%) ETA     0s"
       ]
      },
      {
       "output_type": "stream",
       "stream": "stdout",
       "text": [
        "\r",
        "|\u001b[0;34m======================================\u001b[0m\u001b[0;32m>\u001b[0m----|  11M/ 12M ( 90.66%) ETA     0s"
       ]
      },
      {
       "output_type": "stream",
       "stream": "stdout",
       "text": [
        "\r",
        "|\u001b[0;34m=======================================\u001b[0m\u001b[0;32m>\u001b[0m---|  11M/ 12M ( 91.19%) ETA     0s"
       ]
      },
      {
       "output_type": "stream",
       "stream": "stdout",
       "text": [
        "\r",
        "|\u001b[0;34m=======================================\u001b[0m\u001b[0;32m>\u001b[0m---|  11M/ 12M ( 91.72%) ETA     0s"
       ]
      },
      {
       "output_type": "stream",
       "stream": "stdout",
       "text": [
        "\r",
        "|\u001b[0;34m=======================================\u001b[0m\u001b[0;32m>\u001b[0m---|  11M/ 12M ( 92.24%) ETA     0s"
       ]
      },
      {
       "output_type": "stream",
       "stream": "stdout",
       "text": [
        "\r",
        "|\u001b[0;34m=======================================\u001b[0m\u001b[0;32m>\u001b[0m---|  11M/ 12M ( 92.77%) ETA     0s"
       ]
      },
      {
       "output_type": "stream",
       "stream": "stdout",
       "text": [
        "\r",
        "|\u001b[0;34m========================================\u001b[0m\u001b[0;32m>\u001b[0m--|  11M/ 12M ( 93.30%) ETA     0s"
       ]
      },
      {
       "output_type": "stream",
       "stream": "stdout",
       "text": [
        "\r",
        "|\u001b[0;34m========================================\u001b[0m\u001b[0;32m>\u001b[0m--|  11M/ 12M ( 93.83%) ETA     0s"
       ]
      },
      {
       "output_type": "stream",
       "stream": "stdout",
       "text": [
        "\r",
        "|\u001b[0;34m========================================\u001b[0m\u001b[0;32m>\u001b[0m--|  11M/ 12M ( 94.35%) ETA     0s"
       ]
      },
      {
       "output_type": "stream",
       "stream": "stdout",
       "text": [
        "\r",
        "|\u001b[0;34m========================================\u001b[0m\u001b[0;32m>\u001b[0m--|  11M/ 12M ( 94.88%) ETA     0s"
       ]
      },
      {
       "output_type": "stream",
       "stream": "stdout",
       "text": [
        "\r",
        "|\u001b[0;34m=========================================\u001b[0m\u001b[0;32m>\u001b[0m-|  11M/ 12M ( 95.41%) ETA     0s"
       ]
      },
      {
       "output_type": "stream",
       "stream": "stdout",
       "text": [
        "\r",
        "|\u001b[0;34m=========================================\u001b[0m\u001b[0;32m>\u001b[0m-|  11M/ 12M ( 95.93%) ETA     0s"
       ]
      },
      {
       "output_type": "stream",
       "stream": "stdout",
       "text": [
        "\r",
        "|\u001b[0;34m=========================================\u001b[0m\u001b[0;32m>\u001b[0m-|  11M/ 12M ( 96.46%) ETA     0s"
       ]
      },
      {
       "output_type": "stream",
       "stream": "stdout",
       "text": [
        "\r",
        "|\u001b[0;34m=========================================\u001b[0m\u001b[0;32m>\u001b[0m-|  12M/ 12M ( 96.99%) ETA     0s"
       ]
      },
      {
       "output_type": "stream",
       "stream": "stdout",
       "text": [
        "\r",
        "|\u001b[0;34m=========================================\u001b[0m\u001b[0;32m>\u001b[0m-|  12M/ 12M ( 97.52%) ETA     0s"
       ]
      },
      {
       "output_type": "stream",
       "stream": "stdout",
       "text": [
        "\r",
        "|\u001b[0;34m==========================================\u001b[0m\u001b[0;32m>\u001b[0m|  12M/ 12M ( 98.04%) ETA     0s"
       ]
      },
      {
       "output_type": "stream",
       "stream": "stdout",
       "text": [
        "\r",
        "|\u001b[0;34m==========================================\u001b[0m\u001b[0;32m>\u001b[0m|  12M/ 12M ( 98.57%) ETA     0s"
       ]
      },
      {
       "output_type": "stream",
       "stream": "stdout",
       "text": [
        "\r",
        "|\u001b[0;34m==========================================\u001b[0m\u001b[0;32m>\u001b[0m|  12M/ 12M ( 99.10%) ETA     0s"
       ]
      },
      {
       "output_type": "stream",
       "stream": "stdout",
       "text": [
        "\r",
        "|\u001b[0;34m==========================================\u001b[0m\u001b[0;32m>\u001b[0m|  12M/ 12M ( 99.62%) ETA     0s"
       ]
      },
      {
       "output_type": "stream",
       "stream": "stdout",
       "text": [
        "\r",
        "|\u001b[0;34m===========================================\u001b[0m|  12M/ 12M (100.00%)         5s"
       ]
      },
      {
       "output_type": "stream",
       "stream": "stdout",
       "text": [
        "\r",
        "|\u001b[0;34m===========================================\u001b[0m|  12M/ 12M (100.00%)         5s"
       ]
      },
      {
       "output_type": "stream",
       "stream": "stdout",
       "text": [
        "\n"
       ]
      },
      {
       "output_type": "stream",
       "stream": "stdout",
       "text": [
        "Unpacking: aia.lev1.193A_2013-09-21T16_00_06.84Z.image_lev1.fits\n"
       ]
      }
     ],
     "prompt_number": 75
    }
   ],
   "metadata": {}
  }
 ]
}