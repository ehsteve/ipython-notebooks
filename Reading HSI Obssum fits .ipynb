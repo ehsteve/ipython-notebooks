{
 "metadata": {
  "name": "",
  "signature": "sha256:9e0cf73d209c2551a19feb6f9cb72d39c37ada70904ac3453e9a8ba23f03c36d"
 },
 "nbformat": 3,
 "nbformat_minor": 0,
 "worksheets": [
  {
   "cells": [
    {
     "cell_type": "code",
     "collapsed": false,
     "input": [
      "%pylab inline"
     ],
     "language": "python",
     "metadata": {},
     "outputs": [
      {
       "output_type": "stream",
       "stream": "stdout",
       "text": [
        "Populating the interactive namespace from numpy and matplotlib\n"
       ]
      },
      {
       "output_type": "stream",
       "stream": "stderr",
       "text": [
        "WARNING: pylab import has clobbered these variables: ['datetime']\n",
        "`%matplotlib` prevents importing * from pylab and numpy\n"
       ]
      }
     ],
     "prompt_number": 87
    },
    {
     "cell_type": "code",
     "collapsed": false,
     "input": [
      "from astropy.io import fits as pyfits"
     ],
     "language": "python",
     "metadata": {},
     "outputs": [],
     "prompt_number": 1
    },
    {
     "cell_type": "code",
     "collapsed": false,
     "input": [
      "file = '/Users/schriste/Downloads/hsi_obssumm_20131217_012.fits'"
     ],
     "language": "python",
     "metadata": {},
     "outputs": [],
     "prompt_number": 2
    },
    {
     "cell_type": "code",
     "collapsed": false,
     "input": [
      "fits = pyfits.open(fpyfits)"
     ],
     "language": "python",
     "metadata": {},
     "outputs": [],
     "prompt_number": 3
    },
    {
     "cell_type": "code",
     "collapsed": false,
     "input": [
      "fits[0].header"
     ],
     "language": "python",
     "metadata": {},
     "outputs": [
      {
       "metadata": {},
       "output_type": "pyout",
       "prompt_number": 4,
       "text": [
        "SIMPLE  =                    T /Written by IDL:  Tue Dec 17 10:28:40 2013       \n",
        "BITPIX  =                    8 /                                                \n",
        "NAXIS   =                    0 /                                                \n",
        "EXTEND  =                    T /File contains extensions                        \n",
        "DATE    = '2013-12-17'         /                                                \n",
        "ORIGIN  = 'sundog  '           /Usually the CPU used to generate the file       \n",
        "OBSERVER= 'hessiops'           /Usually the name of the user who generated the f\n",
        "TELESCOP= 'HESSI   '           /The High Energy Solar Spectroscopic Imager      \n",
        "OBJECT  = 'Sun     '           /                                                \n",
        "DATE_OBS= '2013-12-17T00:00:00.000' /                                           \n",
        "DATE_END= '2013-12-17T11:37:40.000' /                                           "
       ]
      }
     ],
     "prompt_number": 4
    },
    {
     "cell_type": "code",
     "collapsed": false,
     "input": [
      "fits[1].header"
     ],
     "language": "python",
     "metadata": {},
     "outputs": [
      {
       "metadata": {},
       "output_type": "pyout",
       "prompt_number": 5,
       "text": [
        "XTENSION= 'BINTABLE'           /Written by IDL:  Tue Dec 17 10:28:40 2013       \n",
        "BITPIX  =                    8 /                                                \n",
        "NAXIS   =                    2 /Binary table                                    \n",
        "NAXIS1  =                   84 /Number of bytes per row                         \n",
        "NAXIS2  =                    1 /Number of rows                                  \n",
        "PCOUNT  =                    0 /Random parameter count                          \n",
        "GCOUNT  =                    1 /Group count                                     \n",
        "TFIELDS =                    3 /Number of columns                               \n",
        "EXTNAME = 'HESSI OBS SUMMARY ID TABLE' /Extension name                          \n",
        "TFORM1  = '1I      '           /Integer*2 (short integer)                       \n",
        "TTYPE1  = 'VERSION NUMBER'     /Label for column 1                              \n",
        "TFORM2  = '80A     '           /Character string                                \n",
        "TTYPE2  = 'OBS SUMMARY ID'     /Label for column 2                              \n",
        "TFORM3  = '1I      '           /Integer*2 (short integer)                       \n",
        "TTYPE3  = 'INFO VERSION NUMBER' /Label for column 3                             "
       ]
      }
     ],
     "prompt_number": 5
    },
    {
     "cell_type": "code",
     "collapsed": false,
     "input": [
      "fits[2].header"
     ],
     "language": "python",
     "metadata": {},
     "outputs": [
      {
       "metadata": {},
       "output_type": "pyout",
       "prompt_number": 6,
       "text": [
        "XTENSION= 'BINTABLE'           /Written by IDL:  Tue Dec 17 10:28:40 2013       \n",
        "BITPIX  =                    8 /                                                \n",
        "NAXIS   =                    2 /Binary table                                    \n",
        "NAXIS1  =                  164 /Number of bytes per row                         \n",
        "NAXIS2  =                    1 /Number of rows                                  \n",
        "PCOUNT  =                    0 /Random parameter count                          \n",
        "GCOUNT  =                    1 /Group count                                     \n",
        "TFIELDS =                    4 /Number of columns                               \n",
        "EXTNAME = 'HSI_OBSSUMMINFO'    /Extension name                                  \n",
        "TFORM1  = '80A     '           /Character string                                \n",
        "TTYPE1  = 'SUMMARY_START_TIME' /Label for column 1                              \n",
        "TFORM2  = '80A     '           /Character string                                \n",
        "TTYPE2  = 'SUMMARY_END_TIME'   /Label for column 2                              \n",
        "TFORM3  = '1I      '           /Integer*2 (short integer)                       \n",
        "TTYPE3  = 'SIMULATED_DATA'     /Label for column 3                              \n",
        "TFORM4  = '1I      '           /Integer*2 (short integer)                       \n",
        "TTYPE4  = 'CONCAT_FLAG'        /Label for column 4                              "
       ]
      }
     ],
     "prompt_number": 6
    },
    {
     "cell_type": "code",
     "collapsed": false,
     "input": [
      "fits[3].header"
     ],
     "language": "python",
     "metadata": {},
     "outputs": [
      {
       "metadata": {},
       "output_type": "pyout",
       "prompt_number": 7,
       "text": [
        "XTENSION= 'BINTABLE'           /Written by IDL:  Tue Dec 17 10:28:40 2013       \n",
        "BITPIX  =                    8 /                                                \n",
        "NAXIS   =                    2 /Binary table                                    \n",
        "NAXIS1  =                  200 /Number of bytes per row                         \n",
        "NAXIS2  =                    1 /Number of rows                                  \n",
        "PCOUNT  =                    0 /Random parameter count                          \n",
        "GCOUNT  =                    1 /Group count                                     \n",
        "TFIELDS =                   11 /Number of columns                               \n",
        "EXTNAME = 'HSI_FILEDB'         /Extension name                                  \n",
        "TFORM1  = '1I      '           /Integer*2 (short integer)                       \n",
        "TTYPE1  = 'VERSION '           /Label for column 1                              \n",
        "TFORM2  = '80A     '           /Character string                                \n",
        "TTYPE2  = 'FILE_ID '           /Label for column 2                              \n",
        "TFORM3  = '1J      '           /Integer*4 (long integer)                        \n",
        "TTYPE3  = 'ORBIT_START'        /Label for column 3                              \n",
        "TFORM4  = '1J      '           /Integer*4 (long integer)                        \n",
        "TTYPE4  = 'ORBIT_END'          /Label for column 4                              \n",
        "TFORM5  = '1D      '           /Real*8 (double precision)                       \n",
        "TTYPE5  = 'START_TIME'         /Label for column 5                              \n",
        "TFORM6  = '1D      '           /Real*8 (double precision)                       \n",
        "TTYPE6  = 'END_TIME'           /Label for column 6                              \n",
        "TFORM7  = '1I      '           /Integer*2 (short integer)                       \n",
        "TTYPE7  = 'STATUS_FLAG'        /Label for column 7                              \n",
        "TFORM8  = '1J      '           /Integer*4 (long integer)                        \n",
        "TTYPE8  = 'NPACKETS'           /Label for column 8                              \n",
        "TFORM9  = '1E      '           /Real*4 (floating point)                         \n",
        "TTYPE9  = 'CLOCK_DRIFT_START'  /Label for column 9                              \n",
        "TFORM10 = '1E      '           /Real*4 (floating point)                         \n",
        "TTYPE10 = 'CLOCK_DRIFT_END'    /Label for column 10                             \n",
        "TFORM11 = '80A     '           /Character string                                \n",
        "TTYPE11 = 'DATA_SOURCE'        /Label for column 11                             "
       ]
      }
     ],
     "prompt_number": 7
    },
    {
     "cell_type": "code",
     "collapsed": false,
     "input": [
      "parse_time(fits[3].data['START_TIME'][0])"
     ],
     "language": "python",
     "metadata": {},
     "outputs": [
      {
       "metadata": {},
       "output_type": "pyout",
       "prompt_number": 58,
       "text": [
        "datetime.datetime(2013, 12, 17, 0, 0)"
       ]
      }
     ],
     "prompt_number": 58
    },
    {
     "cell_type": "code",
     "collapsed": false,
     "input": [
      "parse_time(fits[3].data['END_TIME'][0])"
     ],
     "language": "python",
     "metadata": {},
     "outputs": [
      {
       "metadata": {},
       "output_type": "pyout",
       "prompt_number": 59,
       "text": [
        "datetime.datetime(2013, 12, 17, 11, 37, 40)"
       ]
      }
     ],
     "prompt_number": 59
    },
    {
     "cell_type": "code",
     "collapsed": false,
     "input": [
      "fits[4].header"
     ],
     "language": "python",
     "metadata": {},
     "outputs": [
      {
       "metadata": {},
       "output_type": "pyout",
       "prompt_number": 8,
       "text": [
        "XTENSION= 'BINTABLE'           /Written by IDL:  Tue Dec 17 10:28:40 2013       \n",
        "BITPIX  =                    8 /                                                \n",
        "NAXIS   =                    2 /Binary table                                    \n",
        "NAXIS1  =                   86 /Number of bytes per row                         \n",
        "NAXIS2  =                    1 /Number of rows                                  \n",
        "PCOUNT  =                    0 /Random parameter count                          \n",
        "GCOUNT  =                    1 /Group count                                     \n",
        "TFIELDS =                    4 /Number of columns                               \n",
        "EXTNAME = 'HESSI OBS SUMMARY RATE ID TABLE' /Extension name                     \n",
        "TFORM1  = '1I      '           /Integer*2 (short integer)                       \n",
        "TTYPE1  = 'VERSION NUMBER'     /Label for column 1                              \n",
        "TFORM2  = '80A     '           /Character string                                \n",
        "TTYPE2  = 'ID STRING'          /Label for column 2                              \n",
        "TFORM3  = '1I      '           /Integer*2 (short integer)                       \n",
        "TTYPE3  = 'INFO VERSION NUMBER' /Label for column 3                             \n",
        "TFORM4  = '1I      '           /Integer*2 (short integer)                       \n",
        "TTYPE4  = 'DATA VERSION NUMBER' /Label for column 4                             "
       ]
      }
     ],
     "prompt_number": 8
    },
    {
     "cell_type": "code",
     "collapsed": false,
     "input": [
      "fits[4].data['ID STRING']"
     ],
     "language": "python",
     "metadata": {},
     "outputs": [
      {
       "metadata": {},
       "output_type": "pyout",
       "prompt_number": 93,
       "text": [
        "chararray(['HSI_OBS_SUMM_RATE: 2013-12-17T00:00:00.000 TO 2013-12-17T11:37:40.000'], \n",
        "      dtype='|S80')"
       ]
      }
     ],
     "prompt_number": 93
    },
    {
     "cell_type": "code",
     "collapsed": false,
     "input": [
      "fits[5].header"
     ],
     "language": "python",
     "metadata": {},
     "outputs": [
      {
       "metadata": {},
       "output_type": "pyout",
       "prompt_number": 9,
       "text": [
        "XTENSION= 'BINTABLE'           /Written by IDL:  Tue Dec 17 10:28:40 2013       \n",
        "BITPIX  =                    8 /                                                \n",
        "NAXIS   =                    2 /Binary table                                    \n",
        "NAXIS1  =                  876 /Number of bytes per row                         \n",
        "NAXIS2  =                    1 /Number of rows                                  \n",
        "PCOUNT  =                    0 /Random parameter count                          \n",
        "GCOUNT  =                    1 /Group count                                     \n",
        "TFIELDS =                    8 /Number of columns                               \n",
        "EXTNAME = 'HSI_OBSSUMMRATEINFO' /Extension name                                 \n",
        "TFORM1  = '1D      '           /Real*8 (double precision)                       \n",
        "TTYPE1  = 'UT_REF  '           /Label for column 1                              \n",
        "TFORM2  = '18B     '           /Integer*1 (byte)                                \n",
        "TTYPE2  = 'SEG_INDEX_MASK'     /Label for column 2                              \n",
        "TFORM3  = '1J      '           /Integer*4 (long integer)                        \n",
        "TTYPE3  = 'N_TIME_INTV'        /Label for column 3                              \n",
        "TFORM4  = '1E      '           /Real*4 (floating point)                         \n",
        "TTYPE4  = 'TIME_INTV'          /Label for column 4                              \n",
        "TFORM5  = '1I      '           /Integer*2 (short integer)                       \n",
        "TTYPE5  = 'N_ENERGY_BANDS'     /Label for column 5                              \n",
        "TFORM6  = '10E     '           /Real*4 (floating point)                         \n",
        "TTYPE6  = 'ENERGY_EDGES'       /Label for column 6                              \n",
        "TFORM7  = '80A     '           /Character string                                \n",
        "TTYPE7  = 'DIM1_UNIT'          /Label for column 7                              \n",
        "TFORM8  = '720A    '           /Character string                                \n",
        "TTYPE8  = 'DIM1_IDS'           /Label for column 8                              \n",
        "TDIM8   = '(80,9)  '           /Array dimensions for column 8                   "
       ]
      }
     ],
     "prompt_number": 9
    },
    {
     "cell_type": "code",
     "collapsed": false,
     "input": [
      "fits[5].data.columns"
     ],
     "language": "python",
     "metadata": {},
     "outputs": [
      {
       "metadata": {},
       "output_type": "pyout",
       "prompt_number": 10,
       "text": [
        "ColDefs(\n",
        "    name = 'UT_REF'; format = '1D'\n",
        "    name = 'SEG_INDEX_MASK'; format = '18B'\n",
        "    name = 'N_TIME_INTV'; format = '1J'\n",
        "    name = 'TIME_INTV'; format = '1E'\n",
        "    name = 'N_ENERGY_BANDS'; format = '1I'\n",
        "    name = 'ENERGY_EDGES'; format = '10E'\n",
        "    name = 'DIM1_UNIT'; format = '80A'\n",
        "    name = 'DIM1_IDS'; format = '720A'; dim = '(80,9)'\n",
        ")"
       ]
      }
     ],
     "prompt_number": 10
    },
    {
     "cell_type": "code",
     "collapsed": false,
     "input": [
      "fits[5].data['UT_REF'][0]"
     ],
     "language": "python",
     "metadata": {},
     "outputs": [
      {
       "metadata": {},
       "output_type": "pyout",
       "prompt_number": 52,
       "text": [
        "1103241600.0"
       ]
      }
     ],
     "prompt_number": 52
    },
    {
     "cell_type": "code",
     "collapsed": false,
     "input": [
      "fits[5].data['TIME_INTV'][0]"
     ],
     "language": "python",
     "metadata": {},
     "outputs": [
      {
       "metadata": {},
       "output_type": "pyout",
       "prompt_number": 53,
       "text": [
        "4.0"
       ]
      }
     ],
     "prompt_number": 53
    },
    {
     "cell_type": "code",
     "collapsed": false,
     "input": [
      "fits[5].data['N_TIME_INTV'][0]"
     ],
     "language": "python",
     "metadata": {},
     "outputs": [
      {
       "metadata": {},
       "output_type": "pyout",
       "prompt_number": 55,
       "text": [
        "10465"
       ]
      }
     ],
     "prompt_number": 55
    },
    {
     "cell_type": "code",
     "collapsed": false,
     "input": [
      "file"
     ],
     "language": "python",
     "metadata": {},
     "outputs": [
      {
       "metadata": {},
       "output_type": "pyout",
       "prompt_number": 12,
       "text": [
        "'/Users/schriste/Downloads/hsi_obssumm_20131217_012.fits'"
       ]
      }
     ],
     "prompt_number": 12
    },
    {
     "cell_type": "code",
     "collapsed": false,
     "input": [
      "from sunpy.time import parse_time"
     ],
     "language": "python",
     "metadata": {},
     "outputs": [],
     "prompt_number": 13
    },
    {
     "cell_type": "code",
     "collapsed": false,
     "input": [
      "fits[5].data['UT_REF'][0]"
     ],
     "language": "python",
     "metadata": {},
     "outputs": [
      {
       "metadata": {},
       "output_type": "pyout",
       "prompt_number": 50,
       "text": [
        "1103241600.0"
       ]
      }
     ],
     "prompt_number": 50
    },
    {
     "cell_type": "markdown",
     "metadata": {},
     "source": [
      "start time"
     ]
    },
    {
     "cell_type": "code",
     "collapsed": false,
     "input": [
      "parse_time(fits[5].data['UT_REF'][0])"
     ],
     "language": "python",
     "metadata": {},
     "outputs": [
      {
       "metadata": {},
       "output_type": "pyout",
       "prompt_number": 51,
       "text": [
        "datetime.datetime(2013, 12, 17, 0, 0)"
       ]
      }
     ],
     "prompt_number": 51
    },
    {
     "cell_type": "markdown",
     "metadata": {},
     "source": [
      "end time (calculated)"
     ]
    },
    {
     "cell_type": "code",
     "collapsed": false,
     "input": [
      "parse_time(fits[5].data['UT_REF'][0] + fits[5].data['TIME_INTV'][0] * fits[5].data['N_TIME_INTV'][0])"
     ],
     "language": "python",
     "metadata": {},
     "outputs": [
      {
       "metadata": {},
       "output_type": "pyout",
       "prompt_number": 56,
       "text": [
        "datetime.datetime(2013, 12, 17, 11, 37, 40)"
       ]
      }
     ],
     "prompt_number": 56
    },
    {
     "cell_type": "markdown",
     "metadata": {},
     "source": [
      "end time (as declared)"
     ]
    },
    {
     "cell_type": "code",
     "collapsed": false,
     "input": [
      "parse_time(fits[3].data['END_TIME'][0])"
     ],
     "language": "python",
     "metadata": {},
     "outputs": [
      {
       "metadata": {},
       "output_type": "pyout",
       "prompt_number": 60,
       "text": [
        "datetime.datetime(2013, 12, 17, 11, 37, 40)"
       ]
      }
     ],
     "prompt_number": 60
    },
    {
     "cell_type": "code",
     "collapsed": false,
     "input": [
      "fits[3].data['START_TIME']"
     ],
     "language": "python",
     "metadata": {},
     "outputs": [
      {
       "metadata": {},
       "output_type": "pyout",
       "prompt_number": 15,
       "text": [
        "array([  1.10324160e+09])"
       ]
      }
     ],
     "prompt_number": 15
    },
    {
     "cell_type": "code",
     "collapsed": false,
     "input": [
      "fits[2].data['SUMMARY_START_TIME']\n",
      "''.join(fits[2].data['SUMMARY_START_TIME'])"
     ],
     "language": "python",
     "metadata": {},
     "outputs": [
      {
       "metadata": {},
       "output_type": "pyout",
       "prompt_number": 46,
       "text": [
        "'2013-12-17T00:00:00.000'"
       ]
      }
     ],
     "prompt_number": 46
    },
    {
     "cell_type": "code",
     "collapsed": false,
     "input": [
      "parse_time(''.join(fits[2].data['SUMMARY_START_TIME']))"
     ],
     "language": "python",
     "metadata": {},
     "outputs": [
      {
       "metadata": {},
       "output_type": "pyout",
       "prompt_number": 47,
       "text": [
        "datetime.datetime(2013, 12, 17, 0, 0)"
       ]
      }
     ],
     "prompt_number": 47
    },
    {
     "cell_type": "code",
     "collapsed": false,
     "input": [
      "from pandas import date_range"
     ],
     "language": "python",
     "metadata": {},
     "outputs": [],
     "prompt_number": 61
    },
    {
     "cell_type": "code",
     "collapsed": false,
     "input": [
      "start_time = parse_time(fits[5].data['UT_REF'][0])\n",
      "end_time = parse_time(fits[3].data['END_TIME'][0])\n",
      "n = fits[5].data['N_TIME_INTV'][0]"
     ],
     "language": "python",
     "metadata": {},
     "outputs": [],
     "prompt_number": 63
    },
    {
     "cell_type": "code",
     "collapsed": false,
     "input": [
      "time_array = date_range(start=start_time, periods=n, freq='4s')"
     ],
     "language": "python",
     "metadata": {},
     "outputs": [],
     "prompt_number": 76
    },
    {
     "cell_type": "code",
     "collapsed": false,
     "input": [
      "time_array.shape"
     ],
     "language": "python",
     "metadata": {},
     "outputs": [
      {
       "metadata": {},
       "output_type": "pyout",
       "prompt_number": 77,
       "text": [
        "(10465,)"
       ]
      }
     ],
     "prompt_number": 77
    },
    {
     "cell_type": "code",
     "collapsed": false,
     "input": [
      "fits[6].data.columns"
     ],
     "language": "python",
     "metadata": {},
     "outputs": [
      {
       "metadata": {},
       "output_type": "pyout",
       "prompt_number": 78,
       "text": [
        "ColDefs(\n",
        "    name = 'COUNTRATE'; format = '9B'\n",
        ")"
       ]
      }
     ],
     "prompt_number": 78
    },
    {
     "cell_type": "code",
     "collapsed": false,
     "input": [
      "fits[6].data['COUNTRATE']"
     ],
     "language": "python",
     "metadata": {},
     "outputs": [
      {
       "metadata": {},
       "output_type": "pyout",
       "prompt_number": 79,
       "text": [
        "array([[24, 17, 10, ..., 30, 26,  1],\n",
        "       [26, 17, 12, ..., 29, 26,  1],\n",
        "       [24, 16,  9, ..., 30, 25,  0],\n",
        "       ..., \n",
        "       [ 5, 11,  8, ..., 31, 28,  0],\n",
        "       [ 6, 10,  8, ..., 31, 27,  1],\n",
        "       [ 4, 11,  8, ..., 31, 28,  1]], dtype=uint8)"
       ]
      }
     ],
     "prompt_number": 79
    },
    {
     "cell_type": "code",
     "collapsed": false,
     "input": [
      "fits[6].data['COUNTRATE'].shape"
     ],
     "language": "python",
     "metadata": {},
     "outputs": [
      {
       "metadata": {},
       "output_type": "pyout",
       "prompt_number": 80,
       "text": [
        "(10465, 9)"
       ]
      }
     ],
     "prompt_number": 80
    },
    {
     "cell_type": "code",
     "collapsed": false,
     "input": [
      "import pandas as pd"
     ],
     "language": "python",
     "metadata": {},
     "outputs": [],
     "prompt_number": 81
    },
    {
     "cell_type": "code",
     "collapsed": false,
     "input": [
      "fits[6].data['COUNTRATE'][:,0].shape"
     ],
     "language": "python",
     "metadata": {},
     "outputs": [
      {
       "metadata": {},
       "output_type": "pyout",
       "prompt_number": 82,
       "text": [
        "(10465,)"
       ]
      }
     ],
     "prompt_number": 82
    },
    {
     "cell_type": "code",
     "collapsed": false,
     "input": [
      "det0 = fits[6].data['COUNTRATE'][:,0]"
     ],
     "language": "python",
     "metadata": {},
     "outputs": [],
     "prompt_number": 40
    },
    {
     "cell_type": "code",
     "collapsed": false,
     "input": [
      "data = pd.DataFrame(fits[6].data['COUNTRATE'], index=time_array, columns=['Det1', 'Det2', 'Det3', 'Det4', 'Det5', 'Det6', 'Det7', 'Det8', 'Det9'])"
     ],
     "language": "python",
     "metadata": {},
     "outputs": [],
     "prompt_number": 94
    },
    {
     "cell_type": "code",
     "collapsed": false,
     "input": [
      "data"
     ],
     "language": "python",
     "metadata": {},
     "outputs": [
      {
       "html": [
        "<div style=\"max-height:1000px;max-width:1500px;overflow:auto;\">\n",
        "<table border=\"1\" class=\"dataframe\">\n",
        "  <thead>\n",
        "    <tr style=\"text-align: right;\">\n",
        "      <th></th>\n",
        "      <th>Det1</th>\n",
        "      <th>Det2</th>\n",
        "      <th>Det3</th>\n",
        "      <th>Det4</th>\n",
        "      <th>Det5</th>\n",
        "      <th>Det6</th>\n",
        "      <th>Det7</th>\n",
        "      <th>Det8</th>\n",
        "      <th>Det9</th>\n",
        "    </tr>\n",
        "  </thead>\n",
        "  <tbody>\n",
        "    <tr>\n",
        "      <th>2013-12-17 00:00:00</th>\n",
        "      <td> 24</td>\n",
        "      <td> 17</td>\n",
        "      <td> 10</td>\n",
        "      <td> 11</td>\n",
        "      <td> 13</td>\n",
        "      <td> 23</td>\n",
        "      <td> 30</td>\n",
        "      <td> 26</td>\n",
        "      <td> 1</td>\n",
        "    </tr>\n",
        "    <tr>\n",
        "      <th>2013-12-17 00:00:04</th>\n",
        "      <td> 26</td>\n",
        "      <td> 17</td>\n",
        "      <td> 12</td>\n",
        "      <td> 12</td>\n",
        "      <td> 13</td>\n",
        "      <td> 25</td>\n",
        "      <td> 29</td>\n",
        "      <td> 26</td>\n",
        "      <td> 1</td>\n",
        "    </tr>\n",
        "    <tr>\n",
        "      <th>2013-12-17 00:00:08</th>\n",
        "      <td> 24</td>\n",
        "      <td> 16</td>\n",
        "      <td>  9</td>\n",
        "      <td>  9</td>\n",
        "      <td> 12</td>\n",
        "      <td> 23</td>\n",
        "      <td> 30</td>\n",
        "      <td> 25</td>\n",
        "      <td> 0</td>\n",
        "    </tr>\n",
        "    <tr>\n",
        "      <th>2013-12-17 00:00:12</th>\n",
        "      <td> 24</td>\n",
        "      <td> 16</td>\n",
        "      <td> 10</td>\n",
        "      <td> 12</td>\n",
        "      <td> 11</td>\n",
        "      <td> 23</td>\n",
        "      <td> 29</td>\n",
        "      <td> 25</td>\n",
        "      <td> 1</td>\n",
        "    </tr>\n",
        "    <tr>\n",
        "      <th>2013-12-17 00:00:16</th>\n",
        "      <td> 25</td>\n",
        "      <td> 16</td>\n",
        "      <td> 11</td>\n",
        "      <td> 11</td>\n",
        "      <td> 12</td>\n",
        "      <td> 24</td>\n",
        "      <td> 30</td>\n",
        "      <td> 25</td>\n",
        "      <td> 1</td>\n",
        "    </tr>\n",
        "    <tr>\n",
        "      <th>2013-12-17 00:00:20</th>\n",
        "      <td> 26</td>\n",
        "      <td> 17</td>\n",
        "      <td> 10</td>\n",
        "      <td> 10</td>\n",
        "      <td> 13</td>\n",
        "      <td> 24</td>\n",
        "      <td> 30</td>\n",
        "      <td> 26</td>\n",
        "      <td> 1</td>\n",
        "    </tr>\n",
        "    <tr>\n",
        "      <th>2013-12-17 00:00:24</th>\n",
        "      <td> 23</td>\n",
        "      <td> 16</td>\n",
        "      <td>  9</td>\n",
        "      <td> 10</td>\n",
        "      <td> 12</td>\n",
        "      <td> 22</td>\n",
        "      <td> 30</td>\n",
        "      <td> 25</td>\n",
        "      <td> 1</td>\n",
        "    </tr>\n",
        "    <tr>\n",
        "      <th>2013-12-17 00:00:28</th>\n",
        "      <td> 24</td>\n",
        "      <td> 16</td>\n",
        "      <td>  9</td>\n",
        "      <td> 10</td>\n",
        "      <td> 12</td>\n",
        "      <td> 22</td>\n",
        "      <td> 29</td>\n",
        "      <td> 26</td>\n",
        "      <td> 1</td>\n",
        "    </tr>\n",
        "    <tr>\n",
        "      <th>2013-12-17 00:00:32</th>\n",
        "      <td> 25</td>\n",
        "      <td> 16</td>\n",
        "      <td>  9</td>\n",
        "      <td> 10</td>\n",
        "      <td> 11</td>\n",
        "      <td> 23</td>\n",
        "      <td> 30</td>\n",
        "      <td> 25</td>\n",
        "      <td> 0</td>\n",
        "    </tr>\n",
        "    <tr>\n",
        "      <th>2013-12-17 00:00:36</th>\n",
        "      <td> 24</td>\n",
        "      <td> 17</td>\n",
        "      <td> 10</td>\n",
        "      <td> 10</td>\n",
        "      <td> 12</td>\n",
        "      <td> 25</td>\n",
        "      <td> 28</td>\n",
        "      <td> 25</td>\n",
        "      <td> 1</td>\n",
        "    </tr>\n",
        "    <tr>\n",
        "      <th>2013-12-17 00:00:40</th>\n",
        "      <td> 25</td>\n",
        "      <td> 16</td>\n",
        "      <td>  9</td>\n",
        "      <td> 11</td>\n",
        "      <td> 12</td>\n",
        "      <td> 23</td>\n",
        "      <td> 29</td>\n",
        "      <td> 25</td>\n",
        "      <td> 1</td>\n",
        "    </tr>\n",
        "    <tr>\n",
        "      <th>2013-12-17 00:00:44</th>\n",
        "      <td> 23</td>\n",
        "      <td> 16</td>\n",
        "      <td>  8</td>\n",
        "      <td> 10</td>\n",
        "      <td> 12</td>\n",
        "      <td> 23</td>\n",
        "      <td> 30</td>\n",
        "      <td> 25</td>\n",
        "      <td> 1</td>\n",
        "    </tr>\n",
        "    <tr>\n",
        "      <th>2013-12-17 00:00:48</th>\n",
        "      <td> 23</td>\n",
        "      <td> 16</td>\n",
        "      <td>  9</td>\n",
        "      <td>  9</td>\n",
        "      <td> 11</td>\n",
        "      <td> 22</td>\n",
        "      <td> 29</td>\n",
        "      <td> 24</td>\n",
        "      <td> 1</td>\n",
        "    </tr>\n",
        "    <tr>\n",
        "      <th>2013-12-17 00:00:52</th>\n",
        "      <td> 24</td>\n",
        "      <td> 16</td>\n",
        "      <td> 11</td>\n",
        "      <td> 10</td>\n",
        "      <td> 13</td>\n",
        "      <td> 24</td>\n",
        "      <td> 29</td>\n",
        "      <td> 24</td>\n",
        "      <td> 1</td>\n",
        "    </tr>\n",
        "    <tr>\n",
        "      <th>2013-12-17 00:00:56</th>\n",
        "      <td> 25</td>\n",
        "      <td> 17</td>\n",
        "      <td> 11</td>\n",
        "      <td>  9</td>\n",
        "      <td> 12</td>\n",
        "      <td> 23</td>\n",
        "      <td> 30</td>\n",
        "      <td> 25</td>\n",
        "      <td> 1</td>\n",
        "    </tr>\n",
        "    <tr>\n",
        "      <th>2013-12-17 00:01:00</th>\n",
        "      <td> 24</td>\n",
        "      <td> 16</td>\n",
        "      <td> 10</td>\n",
        "      <td> 11</td>\n",
        "      <td> 11</td>\n",
        "      <td> 23</td>\n",
        "      <td> 29</td>\n",
        "      <td> 26</td>\n",
        "      <td> 0</td>\n",
        "    </tr>\n",
        "    <tr>\n",
        "      <th>2013-12-17 00:01:04</th>\n",
        "      <td> 25</td>\n",
        "      <td> 17</td>\n",
        "      <td> 10</td>\n",
        "      <td> 10</td>\n",
        "      <td> 12</td>\n",
        "      <td> 23</td>\n",
        "      <td> 28</td>\n",
        "      <td> 25</td>\n",
        "      <td> 1</td>\n",
        "    </tr>\n",
        "    <tr>\n",
        "      <th>2013-12-17 00:01:08</th>\n",
        "      <td> 24</td>\n",
        "      <td> 16</td>\n",
        "      <td>  9</td>\n",
        "      <td> 10</td>\n",
        "      <td> 12</td>\n",
        "      <td> 22</td>\n",
        "      <td> 29</td>\n",
        "      <td> 25</td>\n",
        "      <td> 1</td>\n",
        "    </tr>\n",
        "    <tr>\n",
        "      <th>2013-12-17 00:01:12</th>\n",
        "      <td> 25</td>\n",
        "      <td> 17</td>\n",
        "      <td> 10</td>\n",
        "      <td> 10</td>\n",
        "      <td> 12</td>\n",
        "      <td> 23</td>\n",
        "      <td> 28</td>\n",
        "      <td> 25</td>\n",
        "      <td> 1</td>\n",
        "    </tr>\n",
        "    <tr>\n",
        "      <th>2013-12-17 00:01:16</th>\n",
        "      <td> 23</td>\n",
        "      <td> 16</td>\n",
        "      <td> 11</td>\n",
        "      <td> 10</td>\n",
        "      <td> 13</td>\n",
        "      <td> 22</td>\n",
        "      <td> 28</td>\n",
        "      <td> 25</td>\n",
        "      <td> 1</td>\n",
        "    </tr>\n",
        "    <tr>\n",
        "      <th>2013-12-17 00:01:20</th>\n",
        "      <td> 25</td>\n",
        "      <td> 16</td>\n",
        "      <td> 10</td>\n",
        "      <td> 10</td>\n",
        "      <td> 13</td>\n",
        "      <td> 22</td>\n",
        "      <td> 29</td>\n",
        "      <td> 25</td>\n",
        "      <td> 1</td>\n",
        "    </tr>\n",
        "    <tr>\n",
        "      <th>2013-12-17 00:01:24</th>\n",
        "      <td> 23</td>\n",
        "      <td> 16</td>\n",
        "      <td> 10</td>\n",
        "      <td> 11</td>\n",
        "      <td> 13</td>\n",
        "      <td> 22</td>\n",
        "      <td> 30</td>\n",
        "      <td> 25</td>\n",
        "      <td> 1</td>\n",
        "    </tr>\n",
        "    <tr>\n",
        "      <th>2013-12-17 00:01:28</th>\n",
        "      <td> 26</td>\n",
        "      <td> 17</td>\n",
        "      <td>  9</td>\n",
        "      <td> 11</td>\n",
        "      <td> 13</td>\n",
        "      <td> 24</td>\n",
        "      <td> 30</td>\n",
        "      <td> 25</td>\n",
        "      <td> 1</td>\n",
        "    </tr>\n",
        "    <tr>\n",
        "      <th>2013-12-17 00:01:32</th>\n",
        "      <td> 26</td>\n",
        "      <td> 17</td>\n",
        "      <td>  9</td>\n",
        "      <td> 10</td>\n",
        "      <td> 13</td>\n",
        "      <td> 23</td>\n",
        "      <td> 29</td>\n",
        "      <td> 25</td>\n",
        "      <td> 0</td>\n",
        "    </tr>\n",
        "    <tr>\n",
        "      <th>2013-12-17 00:01:36</th>\n",
        "      <td> 24</td>\n",
        "      <td> 16</td>\n",
        "      <td>  8</td>\n",
        "      <td> 10</td>\n",
        "      <td> 10</td>\n",
        "      <td> 23</td>\n",
        "      <td> 29</td>\n",
        "      <td> 25</td>\n",
        "      <td> 1</td>\n",
        "    </tr>\n",
        "    <tr>\n",
        "      <th>2013-12-17 00:01:40</th>\n",
        "      <td> 24</td>\n",
        "      <td> 16</td>\n",
        "      <td>  9</td>\n",
        "      <td> 10</td>\n",
        "      <td> 12</td>\n",
        "      <td> 23</td>\n",
        "      <td> 30</td>\n",
        "      <td> 26</td>\n",
        "      <td> 1</td>\n",
        "    </tr>\n",
        "    <tr>\n",
        "      <th>2013-12-17 00:01:44</th>\n",
        "      <td> 22</td>\n",
        "      <td> 16</td>\n",
        "      <td>  9</td>\n",
        "      <td>  8</td>\n",
        "      <td> 11</td>\n",
        "      <td> 22</td>\n",
        "      <td> 27</td>\n",
        "      <td> 25</td>\n",
        "      <td> 1</td>\n",
        "    </tr>\n",
        "    <tr>\n",
        "      <th>2013-12-17 00:01:48</th>\n",
        "      <td> 24</td>\n",
        "      <td> 16</td>\n",
        "      <td>  9</td>\n",
        "      <td> 11</td>\n",
        "      <td> 12</td>\n",
        "      <td> 22</td>\n",
        "      <td> 28</td>\n",
        "      <td> 25</td>\n",
        "      <td> 1</td>\n",
        "    </tr>\n",
        "    <tr>\n",
        "      <th>2013-12-17 00:01:52</th>\n",
        "      <td> 24</td>\n",
        "      <td> 17</td>\n",
        "      <td> 10</td>\n",
        "      <td> 11</td>\n",
        "      <td> 12</td>\n",
        "      <td> 23</td>\n",
        "      <td> 28</td>\n",
        "      <td> 26</td>\n",
        "      <td> 1</td>\n",
        "    </tr>\n",
        "    <tr>\n",
        "      <th>2013-12-17 00:01:56</th>\n",
        "      <td> 23</td>\n",
        "      <td> 16</td>\n",
        "      <td>  9</td>\n",
        "      <td> 10</td>\n",
        "      <td> 12</td>\n",
        "      <td> 23</td>\n",
        "      <td> 29</td>\n",
        "      <td> 26</td>\n",
        "      <td> 1</td>\n",
        "    </tr>\n",
        "    <tr>\n",
        "      <th>2013-12-17 00:02:00</th>\n",
        "      <td> 24</td>\n",
        "      <td> 16</td>\n",
        "      <td>  8</td>\n",
        "      <td>  9</td>\n",
        "      <td> 11</td>\n",
        "      <td> 23</td>\n",
        "      <td> 29</td>\n",
        "      <td> 25</td>\n",
        "      <td> 1</td>\n",
        "    </tr>\n",
        "    <tr>\n",
        "      <th>2013-12-17 00:02:04</th>\n",
        "      <td> 24</td>\n",
        "      <td> 16</td>\n",
        "      <td>  9</td>\n",
        "      <td> 11</td>\n",
        "      <td> 11</td>\n",
        "      <td> 22</td>\n",
        "      <td> 29</td>\n",
        "      <td> 25</td>\n",
        "      <td> 0</td>\n",
        "    </tr>\n",
        "    <tr>\n",
        "      <th>2013-12-17 00:02:08</th>\n",
        "      <td> 24</td>\n",
        "      <td> 15</td>\n",
        "      <td> 10</td>\n",
        "      <td> 10</td>\n",
        "      <td> 12</td>\n",
        "      <td> 23</td>\n",
        "      <td> 30</td>\n",
        "      <td> 24</td>\n",
        "      <td> 1</td>\n",
        "    </tr>\n",
        "    <tr>\n",
        "      <th>2013-12-17 00:02:12</th>\n",
        "      <td> 25</td>\n",
        "      <td> 16</td>\n",
        "      <td>  9</td>\n",
        "      <td> 10</td>\n",
        "      <td> 12</td>\n",
        "      <td> 23</td>\n",
        "      <td> 29</td>\n",
        "      <td> 25</td>\n",
        "      <td> 1</td>\n",
        "    </tr>\n",
        "    <tr>\n",
        "      <th>2013-12-17 00:02:16</th>\n",
        "      <td> 24</td>\n",
        "      <td> 16</td>\n",
        "      <td>  9</td>\n",
        "      <td> 10</td>\n",
        "      <td> 12</td>\n",
        "      <td> 23</td>\n",
        "      <td> 29</td>\n",
        "      <td> 25</td>\n",
        "      <td> 1</td>\n",
        "    </tr>\n",
        "    <tr>\n",
        "      <th>2013-12-17 00:02:20</th>\n",
        "      <td> 24</td>\n",
        "      <td> 15</td>\n",
        "      <td>  9</td>\n",
        "      <td> 10</td>\n",
        "      <td> 12</td>\n",
        "      <td> 23</td>\n",
        "      <td> 28</td>\n",
        "      <td> 25</td>\n",
        "      <td> 1</td>\n",
        "    </tr>\n",
        "    <tr>\n",
        "      <th>2013-12-17 00:02:24</th>\n",
        "      <td> 25</td>\n",
        "      <td> 16</td>\n",
        "      <td>  9</td>\n",
        "      <td>  9</td>\n",
        "      <td> 12</td>\n",
        "      <td> 22</td>\n",
        "      <td> 29</td>\n",
        "      <td> 25</td>\n",
        "      <td> 1</td>\n",
        "    </tr>\n",
        "    <tr>\n",
        "      <th>2013-12-17 00:02:28</th>\n",
        "      <td> 24</td>\n",
        "      <td> 15</td>\n",
        "      <td> 10</td>\n",
        "      <td> 11</td>\n",
        "      <td> 11</td>\n",
        "      <td> 23</td>\n",
        "      <td> 28</td>\n",
        "      <td> 25</td>\n",
        "      <td> 1</td>\n",
        "    </tr>\n",
        "    <tr>\n",
        "      <th>2013-12-17 00:02:32</th>\n",
        "      <td> 23</td>\n",
        "      <td> 16</td>\n",
        "      <td>  8</td>\n",
        "      <td>  9</td>\n",
        "      <td> 12</td>\n",
        "      <td> 23</td>\n",
        "      <td> 29</td>\n",
        "      <td> 25</td>\n",
        "      <td> 1</td>\n",
        "    </tr>\n",
        "    <tr>\n",
        "      <th>2013-12-17 00:02:36</th>\n",
        "      <td> 25</td>\n",
        "      <td> 17</td>\n",
        "      <td> 10</td>\n",
        "      <td> 11</td>\n",
        "      <td> 12</td>\n",
        "      <td> 23</td>\n",
        "      <td> 29</td>\n",
        "      <td> 25</td>\n",
        "      <td> 1</td>\n",
        "    </tr>\n",
        "    <tr>\n",
        "      <th>2013-12-17 00:02:40</th>\n",
        "      <td> 24</td>\n",
        "      <td> 15</td>\n",
        "      <td>  9</td>\n",
        "      <td> 11</td>\n",
        "      <td> 12</td>\n",
        "      <td> 23</td>\n",
        "      <td> 28</td>\n",
        "      <td> 24</td>\n",
        "      <td> 1</td>\n",
        "    </tr>\n",
        "    <tr>\n",
        "      <th>2013-12-17 00:02:44</th>\n",
        "      <td> 25</td>\n",
        "      <td> 17</td>\n",
        "      <td> 10</td>\n",
        "      <td> 10</td>\n",
        "      <td> 12</td>\n",
        "      <td> 23</td>\n",
        "      <td> 29</td>\n",
        "      <td> 25</td>\n",
        "      <td> 1</td>\n",
        "    </tr>\n",
        "    <tr>\n",
        "      <th>2013-12-17 00:02:48</th>\n",
        "      <td> 25</td>\n",
        "      <td> 17</td>\n",
        "      <td>  9</td>\n",
        "      <td> 10</td>\n",
        "      <td> 11</td>\n",
        "      <td> 23</td>\n",
        "      <td> 29</td>\n",
        "      <td> 25</td>\n",
        "      <td> 0</td>\n",
        "    </tr>\n",
        "    <tr>\n",
        "      <th>2013-12-17 00:02:52</th>\n",
        "      <td> 24</td>\n",
        "      <td> 15</td>\n",
        "      <td> 10</td>\n",
        "      <td>  8</td>\n",
        "      <td> 11</td>\n",
        "      <td> 22</td>\n",
        "      <td> 28</td>\n",
        "      <td> 25</td>\n",
        "      <td> 1</td>\n",
        "    </tr>\n",
        "    <tr>\n",
        "      <th>2013-12-17 00:02:56</th>\n",
        "      <td> 24</td>\n",
        "      <td> 16</td>\n",
        "      <td>  9</td>\n",
        "      <td> 10</td>\n",
        "      <td> 12</td>\n",
        "      <td> 22</td>\n",
        "      <td> 30</td>\n",
        "      <td> 24</td>\n",
        "      <td> 0</td>\n",
        "    </tr>\n",
        "    <tr>\n",
        "      <th>2013-12-17 00:03:00</th>\n",
        "      <td> 23</td>\n",
        "      <td> 16</td>\n",
        "      <td> 11</td>\n",
        "      <td>  9</td>\n",
        "      <td> 11</td>\n",
        "      <td> 23</td>\n",
        "      <td> 28</td>\n",
        "      <td> 25</td>\n",
        "      <td> 1</td>\n",
        "    </tr>\n",
        "    <tr>\n",
        "      <th>2013-12-17 00:03:04</th>\n",
        "      <td> 25</td>\n",
        "      <td> 16</td>\n",
        "      <td>  9</td>\n",
        "      <td> 10</td>\n",
        "      <td> 12</td>\n",
        "      <td> 22</td>\n",
        "      <td> 29</td>\n",
        "      <td> 25</td>\n",
        "      <td> 1</td>\n",
        "    </tr>\n",
        "    <tr>\n",
        "      <th>2013-12-17 00:03:08</th>\n",
        "      <td> 24</td>\n",
        "      <td> 16</td>\n",
        "      <td>  9</td>\n",
        "      <td>  9</td>\n",
        "      <td> 11</td>\n",
        "      <td> 22</td>\n",
        "      <td> 27</td>\n",
        "      <td> 25</td>\n",
        "      <td> 1</td>\n",
        "    </tr>\n",
        "    <tr>\n",
        "      <th>2013-12-17 00:03:12</th>\n",
        "      <td> 24</td>\n",
        "      <td> 16</td>\n",
        "      <td>  9</td>\n",
        "      <td> 11</td>\n",
        "      <td> 12</td>\n",
        "      <td> 22</td>\n",
        "      <td> 29</td>\n",
        "      <td> 24</td>\n",
        "      <td> 1</td>\n",
        "    </tr>\n",
        "    <tr>\n",
        "      <th>2013-12-17 00:03:16</th>\n",
        "      <td> 25</td>\n",
        "      <td> 17</td>\n",
        "      <td>  9</td>\n",
        "      <td> 11</td>\n",
        "      <td> 12</td>\n",
        "      <td> 23</td>\n",
        "      <td> 29</td>\n",
        "      <td> 25</td>\n",
        "      <td> 1</td>\n",
        "    </tr>\n",
        "    <tr>\n",
        "      <th>2013-12-17 00:03:20</th>\n",
        "      <td> 26</td>\n",
        "      <td> 17</td>\n",
        "      <td> 10</td>\n",
        "      <td>  9</td>\n",
        "      <td> 11</td>\n",
        "      <td> 23</td>\n",
        "      <td> 29</td>\n",
        "      <td> 25</td>\n",
        "      <td> 1</td>\n",
        "    </tr>\n",
        "    <tr>\n",
        "      <th>2013-12-17 00:03:24</th>\n",
        "      <td> 23</td>\n",
        "      <td> 16</td>\n",
        "      <td> 10</td>\n",
        "      <td> 10</td>\n",
        "      <td> 12</td>\n",
        "      <td> 24</td>\n",
        "      <td> 28</td>\n",
        "      <td> 26</td>\n",
        "      <td> 1</td>\n",
        "    </tr>\n",
        "    <tr>\n",
        "      <th>2013-12-17 00:03:28</th>\n",
        "      <td> 24</td>\n",
        "      <td> 16</td>\n",
        "      <td>  9</td>\n",
        "      <td>  9</td>\n",
        "      <td> 12</td>\n",
        "      <td> 23</td>\n",
        "      <td> 28</td>\n",
        "      <td> 25</td>\n",
        "      <td> 0</td>\n",
        "    </tr>\n",
        "    <tr>\n",
        "      <th>2013-12-17 00:03:32</th>\n",
        "      <td> 23</td>\n",
        "      <td> 16</td>\n",
        "      <td>  9</td>\n",
        "      <td>  9</td>\n",
        "      <td> 11</td>\n",
        "      <td> 22</td>\n",
        "      <td> 27</td>\n",
        "      <td> 25</td>\n",
        "      <td> 1</td>\n",
        "    </tr>\n",
        "    <tr>\n",
        "      <th>2013-12-17 00:03:36</th>\n",
        "      <td> 24</td>\n",
        "      <td> 17</td>\n",
        "      <td> 11</td>\n",
        "      <td>  9</td>\n",
        "      <td> 12</td>\n",
        "      <td> 22</td>\n",
        "      <td> 28</td>\n",
        "      <td> 25</td>\n",
        "      <td> 0</td>\n",
        "    </tr>\n",
        "    <tr>\n",
        "      <th>2013-12-17 00:03:40</th>\n",
        "      <td> 23</td>\n",
        "      <td> 15</td>\n",
        "      <td>  8</td>\n",
        "      <td>  9</td>\n",
        "      <td> 12</td>\n",
        "      <td> 22</td>\n",
        "      <td> 28</td>\n",
        "      <td> 25</td>\n",
        "      <td> 1</td>\n",
        "    </tr>\n",
        "    <tr>\n",
        "      <th>2013-12-17 00:03:44</th>\n",
        "      <td> 25</td>\n",
        "      <td> 16</td>\n",
        "      <td>  9</td>\n",
        "      <td> 10</td>\n",
        "      <td> 12</td>\n",
        "      <td> 22</td>\n",
        "      <td> 30</td>\n",
        "      <td> 24</td>\n",
        "      <td> 1</td>\n",
        "    </tr>\n",
        "    <tr>\n",
        "      <th>2013-12-17 00:03:48</th>\n",
        "      <td> 24</td>\n",
        "      <td> 16</td>\n",
        "      <td>  9</td>\n",
        "      <td> 11</td>\n",
        "      <td> 11</td>\n",
        "      <td> 22</td>\n",
        "      <td> 28</td>\n",
        "      <td> 24</td>\n",
        "      <td> 1</td>\n",
        "    </tr>\n",
        "    <tr>\n",
        "      <th>2013-12-17 00:03:52</th>\n",
        "      <td> 25</td>\n",
        "      <td> 16</td>\n",
        "      <td>  8</td>\n",
        "      <td> 10</td>\n",
        "      <td> 11</td>\n",
        "      <td> 22</td>\n",
        "      <td> 27</td>\n",
        "      <td> 25</td>\n",
        "      <td> 1</td>\n",
        "    </tr>\n",
        "    <tr>\n",
        "      <th>2013-12-17 00:03:56</th>\n",
        "      <td> 25</td>\n",
        "      <td> 16</td>\n",
        "      <td>  9</td>\n",
        "      <td> 10</td>\n",
        "      <td> 11</td>\n",
        "      <td> 22</td>\n",
        "      <td> 29</td>\n",
        "      <td> 25</td>\n",
        "      <td> 1</td>\n",
        "    </tr>\n",
        "    <tr>\n",
        "      <th></th>\n",
        "      <td>...</td>\n",
        "      <td>...</td>\n",
        "      <td>...</td>\n",
        "      <td>...</td>\n",
        "      <td>...</td>\n",
        "      <td>...</td>\n",
        "      <td>...</td>\n",
        "      <td>...</td>\n",
        "      <td>...</td>\n",
        "    </tr>\n",
        "  </tbody>\n",
        "</table>\n",
        "<p>10465 rows \u00d7 9 columns</p>\n",
        "</div>"
       ],
       "metadata": {},
       "output_type": "pyout",
       "prompt_number": 95,
       "text": [
        "                     Det1  Det2  Det3  Det4  Det5  Det6  Det7  Det8  Det9\n",
        "2013-12-17 00:00:00    24    17    10    11    13    23    30    26     1\n",
        "2013-12-17 00:00:04    26    17    12    12    13    25    29    26     1\n",
        "2013-12-17 00:00:08    24    16     9     9    12    23    30    25     0\n",
        "2013-12-17 00:00:12    24    16    10    12    11    23    29    25     1\n",
        "2013-12-17 00:00:16    25    16    11    11    12    24    30    25     1\n",
        "2013-12-17 00:00:20    26    17    10    10    13    24    30    26     1\n",
        "2013-12-17 00:00:24    23    16     9    10    12    22    30    25     1\n",
        "2013-12-17 00:00:28    24    16     9    10    12    22    29    26     1\n",
        "2013-12-17 00:00:32    25    16     9    10    11    23    30    25     0\n",
        "2013-12-17 00:00:36    24    17    10    10    12    25    28    25     1\n",
        "2013-12-17 00:00:40    25    16     9    11    12    23    29    25     1\n",
        "2013-12-17 00:00:44    23    16     8    10    12    23    30    25     1\n",
        "2013-12-17 00:00:48    23    16     9     9    11    22    29    24     1\n",
        "2013-12-17 00:00:52    24    16    11    10    13    24    29    24     1\n",
        "2013-12-17 00:00:56    25    17    11     9    12    23    30    25     1\n",
        "2013-12-17 00:01:00    24    16    10    11    11    23    29    26     0\n",
        "2013-12-17 00:01:04    25    17    10    10    12    23    28    25     1\n",
        "2013-12-17 00:01:08    24    16     9    10    12    22    29    25     1\n",
        "2013-12-17 00:01:12    25    17    10    10    12    23    28    25     1\n",
        "2013-12-17 00:01:16    23    16    11    10    13    22    28    25     1\n",
        "2013-12-17 00:01:20    25    16    10    10    13    22    29    25     1\n",
        "2013-12-17 00:01:24    23    16    10    11    13    22    30    25     1\n",
        "2013-12-17 00:01:28    26    17     9    11    13    24    30    25     1\n",
        "2013-12-17 00:01:32    26    17     9    10    13    23    29    25     0\n",
        "2013-12-17 00:01:36    24    16     8    10    10    23    29    25     1\n",
        "2013-12-17 00:01:40    24    16     9    10    12    23    30    26     1\n",
        "2013-12-17 00:01:44    22    16     9     8    11    22    27    25     1\n",
        "2013-12-17 00:01:48    24    16     9    11    12    22    28    25     1\n",
        "2013-12-17 00:01:52    24    17    10    11    12    23    28    26     1\n",
        "2013-12-17 00:01:56    23    16     9    10    12    23    29    26     1\n",
        "2013-12-17 00:02:00    24    16     8     9    11    23    29    25     1\n",
        "2013-12-17 00:02:04    24    16     9    11    11    22    29    25     0\n",
        "2013-12-17 00:02:08    24    15    10    10    12    23    30    24     1\n",
        "2013-12-17 00:02:12    25    16     9    10    12    23    29    25     1\n",
        "2013-12-17 00:02:16    24    16     9    10    12    23    29    25     1\n",
        "2013-12-17 00:02:20    24    15     9    10    12    23    28    25     1\n",
        "2013-12-17 00:02:24    25    16     9     9    12    22    29    25     1\n",
        "2013-12-17 00:02:28    24    15    10    11    11    23    28    25     1\n",
        "2013-12-17 00:02:32    23    16     8     9    12    23    29    25     1\n",
        "2013-12-17 00:02:36    25    17    10    11    12    23    29    25     1\n",
        "2013-12-17 00:02:40    24    15     9    11    12    23    28    24     1\n",
        "2013-12-17 00:02:44    25    17    10    10    12    23    29    25     1\n",
        "2013-12-17 00:02:48    25    17     9    10    11    23    29    25     0\n",
        "2013-12-17 00:02:52    24    15    10     8    11    22    28    25     1\n",
        "2013-12-17 00:02:56    24    16     9    10    12    22    30    24     0\n",
        "2013-12-17 00:03:00    23    16    11     9    11    23    28    25     1\n",
        "2013-12-17 00:03:04    25    16     9    10    12    22    29    25     1\n",
        "2013-12-17 00:03:08    24    16     9     9    11    22    27    25     1\n",
        "2013-12-17 00:03:12    24    16     9    11    12    22    29    24     1\n",
        "2013-12-17 00:03:16    25    17     9    11    12    23    29    25     1\n",
        "2013-12-17 00:03:20    26    17    10     9    11    23    29    25     1\n",
        "2013-12-17 00:03:24    23    16    10    10    12    24    28    26     1\n",
        "2013-12-17 00:03:28    24    16     9     9    12    23    28    25     0\n",
        "2013-12-17 00:03:32    23    16     9     9    11    22    27    25     1\n",
        "2013-12-17 00:03:36    24    17    11     9    12    22    28    25     0\n",
        "2013-12-17 00:03:40    23    15     8     9    12    22    28    25     1\n",
        "2013-12-17 00:03:44    25    16     9    10    12    22    30    24     1\n",
        "2013-12-17 00:03:48    24    16     9    11    11    22    28    24     1\n",
        "2013-12-17 00:03:52    25    16     8    10    11    22    27    25     1\n",
        "2013-12-17 00:03:56    25    16     9    10    11    22    29    25     1\n",
        "                      ...   ...   ...   ...   ...   ...   ...   ...   ...\n",
        "\n",
        "[10465 rows x 9 columns]"
       ]
      }
     ],
     "prompt_number": 95
    },
    {
     "cell_type": "code",
     "collapsed": false,
     "input": [
      "data.plot()"
     ],
     "language": "python",
     "metadata": {},
     "outputs": [
      {
       "metadata": {},
       "output_type": "pyout",
       "prompt_number": 96,
       "text": [
        "<matplotlib.axes.AxesSubplot at 0x1083cae10>"
       ]
      },
      {
       "metadata": {},
       "output_type": "display_data",
       "png": "[encoded data removed]",
       "text": [
        "<matplotlib.figure.Figure at 0x10843b710>"
       ]
      }
     ],
     "prompt_number": 96
    },
    {
     "cell_type": "code",
     "collapsed": false,
     "input": [
      "fits[7].header"
     ],
     "language": "python",
     "metadata": {},
     "outputs": [
      {
       "metadata": {},
       "output_type": "pyout",
       "prompt_number": 41,
       "text": [
        "XTENSION= 'BINTABLE'           /Written by IDL:  Tue Dec 17 10:28:41 2013       \n",
        "BITPIX  =                    8 /                                                \n",
        "NAXIS   =                    2 /Binary table                                    \n",
        "NAXIS1  =                   86 /Number of bytes per row                         \n",
        "NAXIS2  =                    1 /Number of rows                                  \n",
        "PCOUNT  =                    0 /Random parameter count                          \n",
        "GCOUNT  =                    1 /Group count                                     \n",
        "TFIELDS =                    4 /Number of columns                               \n",
        "EXTNAME = 'HESSI MOD VARIANCE ID TABLE' /Extension name                         \n",
        "TFORM1  = '1I      '           /Integer*2 (short integer)                       \n",
        "TTYPE1  = 'VERSION NUMBER'     /Label for column 1                              \n",
        "TFORM2  = '80A     '           /Character string                                \n",
        "TTYPE2  = 'ID STRING'          /Label for column 2                              \n",
        "TFORM3  = '1I      '           /Integer*2 (short integer)                       \n",
        "TTYPE3  = 'INFO VERSION NUMBER' /Label for column 3                             \n",
        "TFORM4  = '1I      '           /Integer*2 (short integer)                       \n",
        "TTYPE4  = 'DATA VERSION NUMBER' /Label for column 4                             "
       ]
      }
     ],
     "prompt_number": 41
    },
    {
     "cell_type": "code",
     "collapsed": false,
     "input": [
      "fits[8].header"
     ],
     "language": "python",
     "metadata": {},
     "outputs": [
      {
       "metadata": {},
       "output_type": "pyout",
       "prompt_number": 42,
       "text": [
        "XTENSION= 'BINTABLE'           /Written by IDL:  Tue Dec 17 10:28:41 2013       \n",
        "BITPIX  =                    8 /                                                \n",
        "NAXIS   =                    2 /Binary table                                    \n",
        "NAXIS1  =                  266 /Number of bytes per row                         \n",
        "NAXIS2  =                    1 /Number of rows                                  \n",
        "PCOUNT  =                    0 /Random parameter count                          \n",
        "GCOUNT  =                    1 /Group count                                     \n",
        "TFIELDS =                    7 /Number of columns                               \n",
        "EXTNAME = 'HSI_MODVARIANCEINFO' /Extension name                                 \n",
        "TFORM1  = '1D      '           /Real*8 (double precision)                       \n",
        "TTYPE1  = 'UT_REF  '           /Label for column 1                              \n",
        "TFORM2  = '1J      '           /Integer*4 (long integer)                        \n",
        "TTYPE2  = 'N_TIME_INTV'        /Label for column 2                              \n",
        "TFORM3  = '1E      '           /Real*4 (floating point)                         \n",
        "TTYPE3  = 'TIME_INTV'          /Label for column 3                              \n",
        "TFORM4  = '1I      '           /Integer*2 (short integer)                       \n",
        "TTYPE4  = 'VARIANCE_NBIN'      /Label for column 4                              \n",
        "TFORM5  = '2E      '           /Real*4 (floating point)                         \n",
        "TTYPE5  = 'ENERGY_EDGES'       /Label for column 5                              \n",
        "TFORM6  = '80A     '           /Character string                                \n",
        "TTYPE6  = 'DIM1_UNIT'          /Label for column 6                              \n",
        "TFORM7  = '160A    '           /Character string                                \n",
        "TTYPE7  = 'DIM1_IDS'           /Label for column 7                              \n",
        "TDIM7   = '(80,2)  '           /Array dimensions for column 7                   "
       ]
      }
     ],
     "prompt_number": 42
    },
    {
     "cell_type": "code",
     "collapsed": false,
     "input": [
      "fits[9].header"
     ],
     "language": "python",
     "metadata": {},
     "outputs": [
      {
       "metadata": {},
       "output_type": "pyout",
       "prompt_number": 43,
       "text": [
        "XTENSION= 'BINTABLE'           /Written by IDL:  Tue Dec 17 10:28:41 2013       \n",
        "BITPIX  =                    8 /                                                \n",
        "NAXIS   =                    2 /Binary table                                    \n",
        "NAXIS1  =                    2 /Number of bytes per row                         \n",
        "NAXIS2  =                10465 /Number of rows                                  \n",
        "PCOUNT  =                    0 /Random parameter count                          \n",
        "GCOUNT  =                    1 /Group count                                     \n",
        "TFIELDS =                    1 /Number of columns                               \n",
        "EXTNAME = 'HSI_MODVARIANCEDATA' /Extension name                                 \n",
        "TFORM1  = '2B      '           /Integer*1 (byte)                                \n",
        "TTYPE1  = 'MOD_VARIANCE'       /Label for column 1                              "
       ]
      }
     ],
     "prompt_number": 43
    },
    {
     "cell_type": "code",
     "collapsed": false,
     "input": [],
     "language": "python",
     "metadata": {},
     "outputs": []
    }
   ],
   "metadata": {}
  }
 ]
}