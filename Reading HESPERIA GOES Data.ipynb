{
 "metadata": {
  "name": "",
  "signature": "sha256:565d8dc0b9f6295f053a3b1c3441dabb713bac63f11fe18738f9429e786d697d"
 },
 "nbformat": 3,
 "nbformat_minor": 0,
 "worksheets": [
  {
   "cells": [
    {
     "cell_type": "code",
     "collapsed": false,
     "input": [
      "file = '/Users/schriste/Downloads/go06940108.fits'"
     ],
     "language": "python",
     "metadata": {},
     "outputs": [],
     "prompt_number": 1
    },
    {
     "cell_type": "code",
     "collapsed": false,
     "input": [
      "from matplotlib import pyplot as plt"
     ],
     "language": "python",
     "metadata": {},
     "outputs": [],
     "prompt_number": 2
    },
    {
     "cell_type": "code",
     "collapsed": false,
     "input": [
      "%pylab inline"
     ],
     "language": "python",
     "metadata": {},
     "outputs": [
      {
       "output_type": "stream",
       "stream": "stdout",
       "text": [
        "Populating the interactive namespace from numpy and matplotlib\n"
       ]
      }
     ],
     "prompt_number": 3
    },
    {
     "cell_type": "code",
     "collapsed": false,
     "input": [
      "from numpy import nan"
     ],
     "language": "python",
     "metadata": {},
     "outputs": [],
     "prompt_number": 4
    },
    {
     "cell_type": "code",
     "collapsed": false,
     "input": [
      "import pandas as pd"
     ],
     "language": "python",
     "metadata": {},
     "outputs": [
      {
       "output_type": "stream",
       "stream": "stderr",
       "text": [
        "/Users/schriste/anaconda/lib/python2.7/site-packages/pytz/__init__.py:29: UserWarning: Module _imaging was already imported from /Users/schriste/anaconda/lib/python2.7/site-packages/PIL/_imaging.so, but /Users/schriste/.local/lib/python2.7/site-packages is being added to sys.path\n",
        "  from pkg_resources import resource_stream\n"
       ]
      }
     ],
     "prompt_number": 5
    },
    {
     "cell_type": "code",
     "collapsed": false,
     "input": [
      "from astropy.io import fits as pyfits"
     ],
     "language": "python",
     "metadata": {},
     "outputs": [],
     "prompt_number": 6
    },
    {
     "cell_type": "code",
     "collapsed": false,
     "input": [
      "from sunpy.time import parse_time"
     ],
     "language": "python",
     "metadata": {},
     "outputs": [],
     "prompt_number": 7
    },
    {
     "cell_type": "code",
     "collapsed": false,
     "input": [
      "from datetime import timedelta"
     ],
     "language": "python",
     "metadata": {},
     "outputs": [],
     "prompt_number": 8
    },
    {
     "cell_type": "code",
     "collapsed": false,
     "input": [
      "fits = pyfits.open(file)"
     ],
     "language": "python",
     "metadata": {},
     "outputs": [],
     "prompt_number": 9
    },
    {
     "cell_type": "code",
     "collapsed": false,
     "input": [
      "fits[0].header"
     ],
     "language": "python",
     "metadata": {},
     "outputs": [
      {
       "metadata": {},
       "output_type": "pyout",
       "prompt_number": 10,
       "text": [
        "SIMPLE  =                    T / Written by IDL:   9-Jan-1994 02:01:38.00       \n",
        "EXTEND  =                    T / FITS file contains extensions                  \n",
        "NUMEXT  =                    2 / no. of extensions in file                      \n",
        "BITPIX  =                  -32 / IEEE single precision floating point           \n",
        "NAXIS   =                    2 / no. of dimensions in array                     \n",
        "NAXIS1  =                28236 / no. of time intervals                          \n",
        "NAXIS2  =                    3 / time, X-ray long, X-ray short                  \n",
        "DATE-OBS= '08/01/94 '          / UT date of first observation (DD/MM/YY)        \n",
        "TIME-OBS= '0000:01 '           / time of first observation (HHMM:SS)            \n",
        "TIMEZERO=          473990400.0 / DATE-OBS in seconds from 79/1/1,0              \n",
        "DATE-END= '08/01/94 '          / UT date of last observation (DD/MM/YY)         \n",
        "TIME-OBS= '2359:58 '           / time of last observation (HHMM:SS)             \n",
        "TELESCOP= 'GOES 6   '          / spacecraft                                     \n",
        "INSTRUME= 'X-ray Detector'                                                      \n",
        "OBJECT  = 'Sun'                                                                 \n",
        "ORIGIN  = 'SDAC/GSFC '         / written by Solar DAC at GSFC                   \n",
        "DATE    = '09/01/94'           / file creation date (DD/MM/YY)                  \n",
        "                                                                                \n",
        "CTYPE1  = 'seconds '     / seconds into DATE-OBS of 3s interval (see comments)  \n",
        "CTYPE2  = 'watts / m^2'  / in 1. - 8. Angstrom band                             \n",
        "CTYPE3  = 'watts / m^2'  / in .5 - 4. Angstrom band                             \n",
        "COMMENT = 'Energy band information given in extension 1'                        \n",
        "COMMENT = 'Status word information given in extension 2'                        \n",
        "COMMENT = 'Times given are usually 2-3 seconds after start time of interval.'   \n",
        "COMMENT = 'Can't be more exact due to analog filtering of data with time '      \n",
        "COMMENT = 'constant of 6-10 seconds.'                                           \n",
        "COMMENT = 'Flux value of -99999.0 means no data.'                               \n",
        "COMMENT = 'Reference: Solar X-Ray Measurements from SMS-1, SMS-2, and GOES-1;'  \n",
        "COMMENT = 'Information for Data Users.  Donnelly et al,  June 1977.'            \n",
        "COMMENT = 'NOAA TM ERL SEL-48'                                                  \n",
        "COMMENT = 'Reference: SMS GOES Space Environment Monitor Subsystem,'            \n",
        "COMMENT = 'Grubb, Dec 75, NOAA, Technical Memorandum ERL SEL-42.'               \n",
        "COMMENT = 'Reference: Expresions to Determine Temperatures and Emission'        \n",
        "COMMENT = 'Measures for Solar X-ray events from GOES Measurements.'             \n",
        "COMMENT = 'Thomas et al, 1985, Solar Physics 95, pp 323-329.'                   "
       ]
      }
     ],
     "prompt_number": 10
    },
    {
     "cell_type": "code",
     "collapsed": false,
     "input": [
      "fits[0].data"
     ],
     "language": "python",
     "metadata": {},
     "outputs": [
      {
       "metadata": {},
       "output_type": "pyout",
       "prompt_number": 11,
       "text": [
        "array([[  1.41406250e+00,   4.47656250e+00,   7.53125000e+00, ...,\n",
        "          8.63920625e+04,   8.63951250e+04,   8.63981797e+04],\n",
        "       [  6.19950015e-07,   6.16847046e-07,   6.23053040e-07, ...,\n",
        "          4.33770026e-07,   4.30667029e-07,   4.24461007e-07],\n",
        "       [  5.13070031e-09,   5.41100009e-09,   5.41100009e-09, ...,\n",
        "          3.16860005e-09,   3.16860005e-09,   1.76710002e-09]], dtype=float32)"
       ]
      }
     ],
     "prompt_number": 11
    },
    {
     "cell_type": "code",
     "collapsed": false,
     "input": [
      "seconds = fits[0].data[0]"
     ],
     "language": "python",
     "metadata": {},
     "outputs": [],
     "prompt_number": 12
    },
    {
     "cell_type": "code",
     "collapsed": false,
     "input": [
      "header = fits[0].header\n",
      "header['TIMEZERO']"
     ],
     "language": "python",
     "metadata": {},
     "outputs": [
      {
       "metadata": {},
       "output_type": "pyout",
       "prompt_number": 13,
       "text": [
        "473990400.0"
       ]
      }
     ],
     "prompt_number": 13
    },
    {
     "cell_type": "code",
     "collapsed": false,
     "input": [
      "parse_time(fits[0].header['TIMEZERO'])"
     ],
     "language": "python",
     "metadata": {},
     "outputs": [
      {
       "metadata": {},
       "output_type": "pyout",
       "prompt_number": 14,
       "text": [
        "datetime.datetime(1994, 1, 8, 0, 0)"
       ]
      }
     ],
     "prompt_number": 14
    },
    {
     "cell_type": "code",
     "collapsed": false,
     "input": [
      "start_time = parse_time(fits[0].header['TIMEZERO'])"
     ],
     "language": "python",
     "metadata": {},
     "outputs": [],
     "prompt_number": 15
    },
    {
     "cell_type": "code",
     "collapsed": false,
     "input": [
      "(seconds[0] - np.floor(seconds[0])) * 1e6"
     ],
     "language": "python",
     "metadata": {},
     "outputs": [
      {
       "metadata": {},
       "output_type": "pyout",
       "prompt_number": 16,
       "text": [
        "414062.5"
       ]
      }
     ],
     "prompt_number": 16
    },
    {
     "cell_type": "code",
     "collapsed": false,
     "input": [
      "times = [start_time + timedelta(seconds = int(np.floor(s)), microseconds = int((s - np.floor(s))*1e6)) for s in seconds]"
     ],
     "language": "python",
     "metadata": {},
     "outputs": [],
     "prompt_number": 17
    },
    {
     "cell_type": "code",
     "collapsed": false,
     "input": [
      "times[-1]"
     ],
     "language": "python",
     "metadata": {},
     "outputs": [
      {
       "metadata": {},
       "output_type": "pyout",
       "prompt_number": 18,
       "text": [
        "datetime.datetime(1994, 1, 8, 23, 59, 58, 179687)"
       ]
      }
     ],
     "prompt_number": 18
    },
    {
     "cell_type": "code",
     "collapsed": false,
     "input": [
      "xrsb = fits[0].data[1]"
     ],
     "language": "python",
     "metadata": {},
     "outputs": [],
     "prompt_number": 19
    },
    {
     "cell_type": "code",
     "collapsed": false,
     "input": [
      "xrsa = fits[0].data[2]"
     ],
     "language": "python",
     "metadata": {},
     "outputs": [],
     "prompt_number": 20
    },
    {
     "cell_type": "code",
     "collapsed": false,
     "input": [
      "xrsb[xrsb == -99999] = nan"
     ],
     "language": "python",
     "metadata": {},
     "outputs": [],
     "prompt_number": 21
    },
    {
     "cell_type": "code",
     "collapsed": false,
     "input": [
      "xrsa[xrsa == -99999] = nan"
     ],
     "language": "python",
     "metadata": {},
     "outputs": [],
     "prompt_number": 22
    },
    {
     "cell_type": "code",
     "collapsed": false,
     "input": [
      "newxrsa = xrsa.byteswap().newbyteorder()\n",
      "newxrsb = xrsb.byteswap().newbyteorder()"
     ],
     "language": "python",
     "metadata": {},
     "outputs": [],
     "prompt_number": 23
    },
    {
     "cell_type": "code",
     "collapsed": false,
     "input": [
      "d = {'xrsa': newxrsa, 'xrsb': newxrsb}"
     ],
     "language": "python",
     "metadata": {},
     "outputs": [],
     "prompt_number": 24
    },
    {
     "cell_type": "code",
     "collapsed": false,
     "input": [
      "goes = pd.DataFrame(d, index=times)"
     ],
     "language": "python",
     "metadata": {},
     "outputs": [],
     "prompt_number": 25
    },
    {
     "cell_type": "code",
     "collapsed": false,
     "input": [
      "plt.figure()"
     ],
     "language": "python",
     "metadata": {},
     "outputs": [
      {
       "metadata": {},
       "output_type": "pyout",
       "prompt_number": 26,
       "text": [
        "<matplotlib.figure.Figure at 0x107da1b90>"
       ]
      },
      {
       "metadata": {},
       "output_type": "display_data",
       "text": [
        "<matplotlib.figure.Figure at 0x107da1b90>"
       ]
      }
     ],
     "prompt_number": 26
    },
    {
     "cell_type": "code",
     "collapsed": false,
     "input": [
      "goes.plot()"
     ],
     "language": "python",
     "metadata": {},
     "outputs": [
      {
       "metadata": {},
       "output_type": "pyout",
       "prompt_number": 27,
       "text": [
        "<matplotlib.axes.AxesSubplot at 0x107a86650>"
       ]
      },
      {
       "metadata": {},
       "output_type": "display_data",
       "png": "[encoded data removed]",
       "text": [
        "<matplotlib.figure.Figure at 0x103816590>"
       ]
      }
     ],
     "prompt_number": 27
    },
    {
     "cell_type": "code",
     "collapsed": false,
     "input": [
      "file = '/Users/schriste/sunpy/data/go1020010303.fits'"
     ],
     "language": "python",
     "metadata": {},
     "outputs": [],
     "prompt_number": 28
    },
    {
     "cell_type": "code",
     "collapsed": false,
     "input": [
      "fits = pyfits.open(file)"
     ],
     "language": "python",
     "metadata": {},
     "outputs": [],
     "prompt_number": 29
    },
    {
     "cell_type": "code",
     "collapsed": false,
     "input": [
      "fits[0].header"
     ],
     "language": "python",
     "metadata": {},
     "outputs": [
      {
       "metadata": {},
       "output_type": "pyout",
       "prompt_number": 30,
       "text": [
        "SIMPLE  =                    T /Written by IDL:  Sun Mar  4 02:01:17 2001       \n",
        "BITPIX  =                    8 /                                                \n",
        "NAXIS   =                    0 /                                                \n",
        "EXTEND  =                    T /File contains extensions                        \n",
        "DATE    = '04/03/2001'         /file creation date                              \n",
        "NUMEXT  =                    3 /no. of extensions in file                       \n",
        "TELESCOP= 'GOES 10 '           /spacecraft                                      \n",
        "INSTRUME= 'X-ray Detector'     /                                                \n",
        "OBJECT  = 'Sun     '           /                                                \n",
        "ORIGIN  = 'SDAC/GSFC'          /written by Solar DAC at GSFC                    \n",
        "DATE-OBS= '03/03/2001'         /date of first obs.(DD/MM/YYYY)                  \n",
        "TIME-OBS= '00:00:00.000'       /UT time of first obs.(HH:MM:SS.XXX)             \n",
        "DATE-END= '03/03/2001'         /date of last obs.(DD/MM/YYYY)                   \n",
        "TIME-END= '23:59:57.000'       /UT time of last obs.(HH:MM:SS.XXX)              \n",
        "COMMENT Energy band information given in extension 1                            \n",
        "COMMENT Fluxes information given in extension 2                                 \n",
        "COMMENT Status word information given in extension 3                            \n",
        "COMMENT Ref.: Solar X-Ray Measurements from SMS-1, SMS-2, and GOES-1;           \n",
        "COMMENT Information for Data Users. Donnelly et al,  June 1977.                 \n",
        "COMMENT NOAA TM ERL SEL-48                                                      \n",
        "COMMENT Ref.: SMS GOES Space Environment Monitor Subsystem,                     \n",
        "COMMENT Grubb, Dec 75, NOAA, Technical Memorandum ERL SEL-42.                   \n",
        "COMMENT Ref.:Expresions to Determine Temperatures and Emission                  \n",
        "COMMENT Measures for Solar X-ray events from GOES Measurements.                 \n",
        "COMMENT Thomas et al, 1985, Solar Physics 95, pp 323-329.                       "
       ]
      }
     ],
     "prompt_number": 30
    },
    {
     "cell_type": "code",
     "collapsed": false,
     "input": [
      "fits[0].data"
     ],
     "language": "python",
     "metadata": {},
     "outputs": [],
     "prompt_number": 31
    },
    {
     "cell_type": "code",
     "collapsed": false,
     "input": [
      "fits[1].data"
     ],
     "language": "python",
     "metadata": {},
     "outputs": [
      {
       "metadata": {},
       "output_type": "pyout",
       "prompt_number": 32,
       "text": [
        "FITS_rec([(array([[ 1. ,  8. ],\n",
        "       [ 0.5,  4. ]], dtype=float32))], \n",
        "      dtype=[('EDGES', '>f4', (4,))])"
       ]
      }
     ],
     "prompt_number": 32
    },
    {
     "cell_type": "code",
     "collapsed": false,
     "input": [
      "fits[1].data[0]"
     ],
     "language": "python",
     "metadata": {},
     "outputs": [
      {
       "metadata": {},
       "output_type": "pyout",
       "prompt_number": 33,
       "text": [
        "(array([[ 1. ,  8. ],\n",
        "       [ 0.5,  4. ]], dtype=float32))"
       ]
      }
     ],
     "prompt_number": 33
    },
    {
     "cell_type": "code",
     "collapsed": false,
     "input": [
      "fits[2].data[0]"
     ],
     "language": "python",
     "metadata": {},
     "outputs": [
      {
       "metadata": {},
       "output_type": "pyout",
       "prompt_number": 34,
       "text": [
        "(array([  0.00000000e+00,   3.00000000e+00,   6.00000000e+00, ...,\n",
        "         8.63910000e+04,   8.63940000e+04,   8.63970000e+04]), array([[  4.48046450e-07,   7.11692794e-09],\n",
        "       [  4.48046450e-07,   7.11692838e-09],\n",
        "       [  4.48048951e-07,   7.11701320e-09],\n",
        "       ..., \n",
        "       [  6.33750631e-07,   1.65856786e-08],\n",
        "       [  6.33743582e-07,   1.65854406e-08],\n",
        "       [  6.33743582e-07,   1.65854406e-08]], dtype=float32))"
       ]
      }
     ],
     "prompt_number": 34
    },
    {
     "cell_type": "code",
     "collapsed": false,
     "input": [
      "file = '/Users/schriste/sunpy/data/go1220040303.fits'"
     ],
     "language": "python",
     "metadata": {},
     "outputs": [],
     "prompt_number": 35
    },
    {
     "cell_type": "code",
     "collapsed": false,
     "input": [
      "fits = pyfits.open(file)"
     ],
     "language": "python",
     "metadata": {},
     "outputs": [],
     "prompt_number": 36
    },
    {
     "cell_type": "code",
     "collapsed": false,
     "input": [
      "fits[0].header"
     ],
     "language": "python",
     "metadata": {},
     "outputs": [
      {
       "metadata": {},
       "output_type": "pyout",
       "prompt_number": 37,
       "text": [
        "SIMPLE  =                    T /Written by IDL:  Mon Aug  2 12:11:13 2004       \n",
        "BITPIX  =                    8 /                                                \n",
        "NAXIS   =                    0 /                                                \n",
        "EXTEND  =                    T /File contains extensions                        \n",
        "DATE    = '02/08/2004'         /file creation date                              \n",
        "NUMEXT  =                    3 /no. of extensions in file                       \n",
        "TELESCOP= 'GOES 12 '           /spacecraft                                      \n",
        "INSTRUME= 'X-ray Detector'     /                                                \n",
        "OBJECT  = 'Sun     '           /                                                \n",
        "ORIGIN  = 'SDAC/GSFC'          /written by Solar DAC at GSFC                    \n",
        "DATE-OBS= '03/03/2004'         /date of first obs.(DD/MM/YYYY)                  \n",
        "TIME-OBS= '00:00:00.000'       /UT time of first obs.(HH:MM:SS.XXX)             \n",
        "DATE-END= '03/03/2004'         /date of last obs.(DD/MM/YYYY)                   \n",
        "TIME-END= '23:59:57.000'       /UT time of last obs.(HH:MM:SS.XXX)              \n",
        "COMMENT Energy band information given in extension 1                            \n",
        "COMMENT Fluxes information given in extension 2                                 \n",
        "COMMENT Status word information given in extension 3                            \n",
        "COMMENT Ref.: Solar X-Ray Measurements from SMS-1, SMS-2, and GOES-1;           \n",
        "COMMENT Information for Data Users. Donnelly et al,  June 1977.                 \n",
        "COMMENT NOAA TM ERL SEL-48                                                      \n",
        "COMMENT Ref.: SMS GOES Space Environment Monitor Subsystem,                     \n",
        "COMMENT Grubb, Dec 75, NOAA, Technical Memorandum ERL SEL-42.                   \n",
        "COMMENT Ref.:Expresions to Determine Temperatures and Emission                  \n",
        "COMMENT Measures for Solar X-ray events from GOES Measurements.                 \n",
        "COMMENT Thomas et al, 1985, Solar Physics 95, pp 323-329.                       "
       ]
      }
     ],
     "prompt_number": 37
    },
    {
     "cell_type": "code",
     "collapsed": false,
     "input": [
      "file = '/Users/schriste/sunpy/data/go1520130303.fits'"
     ],
     "language": "python",
     "metadata": {},
     "outputs": [],
     "prompt_number": 38
    },
    {
     "cell_type": "code",
     "collapsed": false,
     "input": [
      "fits = pyfits.open(file)"
     ],
     "language": "python",
     "metadata": {},
     "outputs": [],
     "prompt_number": 39
    },
    {
     "cell_type": "code",
     "collapsed": false,
     "input": [
      "fits[0].header"
     ],
     "language": "python",
     "metadata": {},
     "outputs": [
      {
       "metadata": {},
       "output_type": "pyout",
       "prompt_number": 40,
       "text": [
        "SIMPLE  =                    T /Written by IDL:  Fri Mar  8 15:15:17 2013       \n",
        "BITPIX  =                    8 /                                                \n",
        "NAXIS   =                    0 /                                                \n",
        "EXTEND  =                    T /File contains extensions                        \n",
        "DATE    = '08/03/2013'         /file creation date                              \n",
        "NUMEXT  =                    3 /no. of extensions in file                       \n",
        "TELESCOP= 'GOES 15 '           /spacecraft                                      \n",
        "INSTRUME= 'X-ray Detector'     /                                                \n",
        "OBJECT  = 'Sun     '           /                                                \n",
        "ORIGIN  = 'SDAC/GSFC'          /written by Solar DAC at GSFC                    \n",
        "DATE-OBS= '03/03/2013'         /date of first obs.(DD/MM/YYYY)                  \n",
        "TIME-OBS= '00:00:00.000'       /UT time of first obs.(HH:MM:SS.XXX)             \n",
        "DATE-END= '03/03/2013'         /date of last obs.(DD/MM/YYYY)                   \n",
        "TIME-END= '23:59:56.329'       /UT time of last obs.(HH:MM:SS.XXX)              \n",
        "COMMENT Energy band information given in extension 1                            \n",
        "COMMENT Fluxes information given in extension 2                                 \n",
        "COMMENT Status word information given in extension 3                            \n",
        "COMMENT Ref.: Solar X-Ray Measurements from SMS-1, SMS-2, and GOES-1;           \n",
        "COMMENT Information for Data Users. Donnelly et al,  June 1977.                 \n",
        "COMMENT NOAA TM ERL SEL-48                                                      \n",
        "COMMENT Ref.: SMS GOES Space Environment Monitor Subsystem,                     \n",
        "COMMENT Grubb, Dec 75, NOAA, Technical Memorandum ERL SEL-42.                   \n",
        "COMMENT Ref.:Expresions to Determine Temperatures and Emission                  \n",
        "COMMENT Measures for Solar X-ray events from GOES Measurements.                 \n",
        "COMMENT Thomas et al, 1985, Solar Physics 95, pp 323-329.                       "
       ]
      }
     ],
     "prompt_number": 40
    },
    {
     "cell_type": "code",
     "collapsed": false,
     "input": [
      "fits[1].header"
     ],
     "language": "python",
     "metadata": {},
     "outputs": [
      {
       "metadata": {},
       "output_type": "pyout",
       "prompt_number": 41,
       "text": [
        "XTENSION= 'BINTABLE'           /Written by IDL:  Fri Mar  8 15:15:17 2013       \n",
        "BITPIX  =                    8 /                                                \n",
        "NAXIS   =                    2 /Binary table                                    \n",
        "NAXIS1  =                   16 /Number of bytes per row                         \n",
        "NAXIS2  =                    1 /Number of rows                                  \n",
        "PCOUNT  =                    0 /Random parameter count                          \n",
        "GCOUNT  =                    1 /Group count                                     \n",
        "TFIELDS =                    1 /Number of columns                               \n",
        "EXTNAME = 'EDGES   '           /name of this binary extension                   \n",
        "DATE    = '08/03/2013'         /file creation date                              \n",
        "TELESCOP= 'GOES 15 '           /spacecraft                                      \n",
        "INSTRUME= 'X-ray Detector'     /                                                \n",
        "OBJECT  = 'Sun     '           /                                                \n",
        "ORIGIN  = 'SDAC/GSFC'          /written by Solar DAC at GSFC                    \n",
        "TFORM1  = '4E      '           /Real*4 (floating point)                         \n",
        "TTYPE1  = 'EDGES   '           /Label for column 1                              \n",
        "TDIM1   = '(2,2)   '           /Array dimensions for column 1                   \n",
        "TUNIT1  = 'angstrom'           /Units of column 1                               "
       ]
      }
     ],
     "prompt_number": 41
    },
    {
     "cell_type": "code",
     "collapsed": false,
     "input": [
      "fits[2].data[0][0]"
     ],
     "language": "python",
     "metadata": {},
     "outputs": [
      {
       "metadata": {},
       "output_type": "pyout",
       "prompt_number": 42,
       "text": [
        "array([ -1.57100010e+00,   4.74999905e-01,   2.52499986e+00, ...,\n",
        "         8.63922350e+04,   8.63942820e+04,   8.63963290e+04])"
       ]
      }
     ],
     "prompt_number": 42
    },
    {
     "cell_type": "code",
     "collapsed": false,
     "input": [
      "fits[1].data"
     ],
     "language": "python",
     "metadata": {},
     "outputs": [
      {
       "metadata": {},
       "output_type": "pyout",
       "prompt_number": 43,
       "text": [
        "FITS_rec([(array([[ 1. ,  8. ],\n",
        "       [ 0.5,  4. ]], dtype=float32))], \n",
        "      dtype=[('EDGES', '>f4', (4,))])"
       ]
      }
     ],
     "prompt_number": 43
    },
    {
     "cell_type": "code",
     "collapsed": false,
     "input": [
      "fits[2].header"
     ],
     "language": "python",
     "metadata": {},
     "outputs": [
      {
       "metadata": {},
       "output_type": "pyout",
       "prompt_number": 44,
       "text": [
        "XTENSION= 'BINTABLE'           /Written by IDL:  Fri Mar  8 15:15:17 2013       \n",
        "BITPIX  =                    8 /                                                \n",
        "NAXIS   =                    2 /Binary table                                    \n",
        "NAXIS1  =               670112 /Number of bytes per row                         \n",
        "NAXIS2  =                    1 /Number of rows                                  \n",
        "PCOUNT  =                    0 /Random parameter count                          \n",
        "GCOUNT  =                    1 /Group count                                     \n",
        "TFIELDS =                    2 /Number of columns                               \n",
        "MJDREF  =                43874 /MJD for reference file                          \n",
        "TIMESYS = 'MJD     '           /The time system is MJD                          \n",
        "TIMEUNIT= 's       '           /Unit for TSTART and TSTOP                       \n",
        "TIMEZERO=                56354 /Time zero off-set                               \n",
        "TSTART  =       -1.57100009918 /Observation start time                          \n",
        "TSTOP   =        86396.3290000 /Observation stop time                           \n",
        "EXTNAME = 'FLUXES  '           /name of this binary extension                   \n",
        "DATE    = '08/03/2013'         /file creation date                              \n",
        "TELESCOP= 'GOES 15 '           /spacecraft                                      \n",
        "INSTRUME= 'X-ray Detector'     /                                                \n",
        "OBJECT  = 'Sun     '           /                                                \n",
        "ORIGIN  = 'SDAC/GSFC'          /written by Solar DAC at GSFC                    \n",
        "TFORM1  = '41882D  '           /Real*8 (double precision)                       \n",
        "TTYPE1  = 'TIME    '           /Label for column 1                              \n",
        "TUNIT1  = 's       '           /Units of column 1                               \n",
        "TFORM2  = '83764E  '           /Real*4 (floating point)                         \n",
        "TTYPE2  = 'FLUX    '           /Label for column 2                              \n",
        "TDIM2   = '(2,41882)'          /Array dimensions for column 2                   \n",
        "TUNIT2  = 'W /m**2 '           /Units of column 2                               \n",
        "COMMENT Times given for GOES < 13 are usually 2-3 seconds after start time of.  \n",
        "COMMENT interval.  Can not be more exact due to analog filtering of data with ti\n",
        "COMMENT constant of 6-10 seconds.                                               \n",
        "COMMENT GOES 13,14,15 times are the center of the 2.048s exposure interval      \n",
        "COMMENT Flux value of -99999.0 means no data.                                   "
       ]
      }
     ],
     "prompt_number": 44
    },
    {
     "cell_type": "code",
     "collapsed": false,
     "input": [
      "len(fits)"
     ],
     "language": "python",
     "metadata": {},
     "outputs": [
      {
       "metadata": {},
       "output_type": "pyout",
       "prompt_number": 45,
       "text": [
        "4"
       ]
      }
     ],
     "prompt_number": 45
    },
    {
     "cell_type": "code",
     "collapsed": false,
     "input": [
      "start_time = datetime.datetime.strptime(fits[0].header['DATE-OBS'], '%d/%m/%Y')"
     ],
     "language": "python",
     "metadata": {},
     "outputs": [],
     "prompt_number": 46
    },
    {
     "cell_type": "code",
     "collapsed": false,
     "input": [
      "seconds = fits[2].data[0][0]"
     ],
     "language": "python",
     "metadata": {},
     "outputs": [],
     "prompt_number": 47
    },
    {
     "cell_type": "code",
     "collapsed": false,
     "input": [
      "data = fits[2].data"
     ],
     "language": "python",
     "metadata": {},
     "outputs": [],
     "prompt_number": 48
    },
    {
     "cell_type": "code",
     "collapsed": false,
     "input": [
      "data.columns"
     ],
     "language": "python",
     "metadata": {},
     "outputs": [
      {
       "metadata": {},
       "output_type": "pyout",
       "prompt_number": 49,
       "text": [
        "ColDefs(\n",
        "    name = 'TIME'; format = '41882D'; unit = 's'\n",
        "    name = 'FLUX'; format = '83764E'; unit = 'W /m**2'; dim = '(2,41882)'\n",
        ")"
       ]
      }
     ],
     "prompt_number": 49
    },
    {
     "cell_type": "code",
     "collapsed": false,
     "input": [
      "data['FLUX'][:,:,0]"
     ],
     "language": "python",
     "metadata": {},
     "outputs": [
      {
       "metadata": {},
       "output_type": "pyout",
       "prompt_number": 50,
       "text": [
        "array([[  3.67089996e-07,   3.74959995e-07,   3.69709994e-07, ...,\n",
        "          2.96259998e-07,   2.96259998e-07,   2.98890001e-07]], dtype=float32)"
       ]
      }
     ],
     "prompt_number": 50
    },
    {
     "cell_type": "code",
     "collapsed": false,
     "input": [
      "header"
     ],
     "language": "python",
     "metadata": {},
     "outputs": [
      {
       "metadata": {},
       "output_type": "pyout",
       "prompt_number": 51,
       "text": [
        "SIMPLE  =                    T / Written by IDL:   9-Jan-1994 02:01:38.00       \n",
        "EXTEND  =                    T / FITS file contains extensions                  \n",
        "NUMEXT  =                    2 / no. of extensions in file                      \n",
        "BITPIX  =                  -32 / IEEE single precision floating point           \n",
        "NAXIS   =                    2 / no. of dimensions in array                     \n",
        "NAXIS1  =                28236 / no. of time intervals                          \n",
        "NAXIS2  =                    3 / time, X-ray long, X-ray short                  \n",
        "DATE-OBS= '08/01/94 '          / UT date of first observation (DD/MM/YY)        \n",
        "TIME-OBS= '0000:01 '           / time of first observation (HHMM:SS)            \n",
        "TIMEZERO=          473990400.0 / DATE-OBS in seconds from 79/1/1,0              \n",
        "DATE-END= '08/01/94 '          / UT date of last observation (DD/MM/YY)         \n",
        "TIME-OBS= '2359:58 '           / time of last observation (HHMM:SS)             \n",
        "TELESCOP= 'GOES 6   '          / spacecraft                                     \n",
        "INSTRUME= 'X-ray Detector'                                                      \n",
        "OBJECT  = 'Sun'                                                                 \n",
        "ORIGIN  = 'SDAC/GSFC '         / written by Solar DAC at GSFC                   \n",
        "DATE    = '09/01/94'           / file creation date (DD/MM/YY)                  \n",
        "                                                                                \n",
        "CTYPE1  = 'seconds '     / seconds into DATE-OBS of 3s interval (see comments)  \n",
        "CTYPE2  = 'watts / m^2'  / in 1. - 8. Angstrom band                             \n",
        "CTYPE3  = 'watts / m^2'  / in .5 - 4. Angstrom band                             \n",
        "COMMENT = 'Energy band information given in extension 1'                        \n",
        "COMMENT = 'Status word information given in extension 2'                        \n",
        "COMMENT = 'Times given are usually 2-3 seconds after start time of interval.'   \n",
        "COMMENT = 'Can't be more exact due to analog filtering of data with time '      \n",
        "COMMENT = 'constant of 6-10 seconds.'                                           \n",
        "COMMENT = 'Flux value of -99999.0 means no data.'                               \n",
        "COMMENT = 'Reference: Solar X-Ray Measurements from SMS-1, SMS-2, and GOES-1;'  \n",
        "COMMENT = 'Information for Data Users.  Donnelly et al,  June 1977.'            \n",
        "COMMENT = 'NOAA TM ERL SEL-48'                                                  \n",
        "COMMENT = 'Reference: SMS GOES Space Environment Monitor Subsystem,'            \n",
        "COMMENT = 'Grubb, Dec 75, NOAA, Technical Memorandum ERL SEL-42.'               \n",
        "COMMENT = 'Reference: Expresions to Determine Temperatures and Emission'        \n",
        "COMMENT = 'Measures for Solar X-ray events from GOES Measurements.'             \n",
        "COMMENT = 'Thomas et al, 1985, Solar Physics 95, pp 323-329.'                   "
       ]
      }
     ],
     "prompt_number": 51
    },
    {
     "cell_type": "code",
     "collapsed": false,
     "input": [
      "datetime.datetime.strptime(fits[0].header['DATE-OBS'], '%d/%m/%Y')"
     ],
     "language": "python",
     "metadata": {},
     "outputs": [
      {
       "metadata": {},
       "output_type": "pyout",
       "prompt_number": 52,
       "text": [
        "datetime.datetime(2013, 3, 3, 0, 0)"
       ]
      }
     ],
     "prompt_number": 52
    },
    {
     "cell_type": "code",
     "collapsed": false,
     "input": [
      "seconds_from_start = fits[2].data['TIME']"
     ],
     "language": "python",
     "metadata": {},
     "outputs": [],
     "prompt_number": 53
    },
    {
     "cell_type": "code",
     "collapsed": false,
     "input": [
      "seconds_from_start[0]"
     ],
     "language": "python",
     "metadata": {},
     "outputs": [
      {
       "metadata": {},
       "output_type": "pyout",
       "prompt_number": 54,
       "text": [
        "array([ -1.57100010e+00,   4.74999905e-01,   2.52499986e+00, ...,\n",
        "         8.63922350e+04,   8.63942820e+04,   8.63963290e+04])"
       ]
      }
     ],
     "prompt_number": 54
    },
    {
     "cell_type": "code",
     "collapsed": false,
     "input": [
      "fits[2].data['FLUX'][:,:,1]"
     ],
     "language": "python",
     "metadata": {},
     "outputs": [
      {
       "metadata": {},
       "output_type": "pyout",
       "prompt_number": 63,
       "text": [
        "array([[  3.83099996e-09,   2.71649991e-09,   2.71649991e-09, ...,\n",
        "          6.05990014e-09,   6.05990014e-09,   6.05990014e-09]], dtype=float32)"
       ]
      }
     ],
     "prompt_number": 63
    },
    {
     "cell_type": "code",
     "collapsed": false,
     "input": [
      "xrsb = fits[2].data['FLUX'][:,:,0][0]"
     ],
     "language": "python",
     "metadata": {},
     "outputs": [],
     "prompt_number": 89
    },
    {
     "cell_type": "code",
     "collapsed": false,
     "input": [
      "xrsa = fits[2].data['FLUX'][:,:,1][0]"
     ],
     "language": "python",
     "metadata": {},
     "outputs": [],
     "prompt_number": 90
    },
    {
     "cell_type": "code",
     "collapsed": false,
     "input": [
      "xrsb[xrsb == -99999] = nan"
     ],
     "language": "python",
     "metadata": {},
     "outputs": [],
     "prompt_number": 91
    },
    {
     "cell_type": "code",
     "collapsed": false,
     "input": [
      "print(len(xrsb))"
     ],
     "language": "python",
     "metadata": {},
     "outputs": [
      {
       "output_type": "stream",
       "stream": "stdout",
       "text": [
        "41882\n"
       ]
      }
     ],
     "prompt_number": 92
    },
    {
     "cell_type": "code",
     "collapsed": false,
     "input": [
      "xrsb[0]"
     ],
     "language": "python",
     "metadata": {},
     "outputs": [
      {
       "metadata": {},
       "output_type": "pyout",
       "prompt_number": 93,
       "text": [
        "3.6709e-07"
       ]
      }
     ],
     "prompt_number": 93
    },
    {
     "cell_type": "code",
     "collapsed": false,
     "input": [
      "newxrsb = xrsb.byteswap().newbyteorder()"
     ],
     "language": "python",
     "metadata": {},
     "outputs": [],
     "prompt_number": 81
    },
    {
     "cell_type": "code",
     "collapsed": false,
     "input": [
      "newxrsa.shape"
     ],
     "language": "python",
     "metadata": {},
     "outputs": [
      {
       "metadata": {},
       "output_type": "pyout",
       "prompt_number": 82,
       "text": [
        "(1, 41882)"
       ]
      }
     ],
     "prompt_number": 82
    },
    {
     "cell_type": "code",
     "collapsed": false,
     "input": [
      "file = '/Users/schriste/sunpy/data/go1020080325.fits'\n",
      "fits = pyfits.open(file)"
     ],
     "language": "python",
     "metadata": {},
     "outputs": [],
     "prompt_number": 128
    },
    {
     "cell_type": "code",
     "collapsed": false,
     "input": [
      "fits[0].header"
     ],
     "language": "python",
     "metadata": {},
     "outputs": [
      {
       "metadata": {},
       "output_type": "pyout",
       "prompt_number": 129,
       "text": [
        "SIMPLE  =                    T /Written by IDL:  Wed Mar 26 01:01:49 2008       \n",
        "BITPIX  =                    8 /                                                \n",
        "NAXIS   =                    0 /                                                \n",
        "EXTEND  =                    T /File contains extensions                        \n",
        "DATE    = '26/03/2008'         /file creation date                              \n",
        "NUMEXT  =                    3 /no. of extensions in file                       \n",
        "TELESCOP= 'GOES 10 '           /spacecraft                                      \n",
        "INSTRUME= 'X-ray Detector'     /                                                \n",
        "OBJECT  = 'Sun     '           /                                                \n",
        "ORIGIN  = 'SDAC/GSFC'          /written by Solar DAC at GSFC                    \n",
        "DATE-OBS= '25/03/2008'         /date of first obs.(DD/MM/YYYY)                  \n",
        "TIME-OBS= '00:00:00.000'       /UT time of first obs.(HH:MM:SS.XXX)             \n",
        "DATE-END= '25/03/2008'         /date of last obs.(DD/MM/YYYY)                   \n",
        "TIME-END= '23:59:57.000'       /UT time of last obs.(HH:MM:SS.XXX)              \n",
        "COMMENT Energy band information given in extension 1                            \n",
        "COMMENT Fluxes information given in extension 2                                 \n",
        "COMMENT Status word information given in extension 3                            \n",
        "COMMENT Ref.: Solar X-Ray Measurements from SMS-1, SMS-2, and GOES-1;           \n",
        "COMMENT Information for Data Users. Donnelly et al,  June 1977.                 \n",
        "COMMENT NOAA TM ERL SEL-48                                                      \n",
        "COMMENT Ref.: SMS GOES Space Environment Monitor Subsystem,                     \n",
        "COMMENT Grubb, Dec 75, NOAA, Technical Memorandum ERL SEL-42.                   \n",
        "COMMENT Ref.:Expresions to Determine Temperatures and Emission                  \n",
        "COMMENT Measures for Solar X-ray events from GOES Measurements.                 \n",
        "COMMENT Thomas et al, 1985, Solar Physics 95, pp 323-329.                       "
       ]
      }
     ],
     "prompt_number": 129
    },
    {
     "cell_type": "code",
     "collapsed": false,
     "input": [
      "fits[1].header"
     ],
     "language": "python",
     "metadata": {},
     "outputs": [
      {
       "metadata": {},
       "output_type": "pyout",
       "prompt_number": 130,
       "text": [
        "XTENSION= 'BINTABLE'           /Written by IDL:  Wed Mar 26 01:01:50 2008       \n",
        "BITPIX  =                    8 /                                                \n",
        "NAXIS   =                    2 /Binary table                                    \n",
        "NAXIS1  =                   16 /Number of bytes per row                         \n",
        "NAXIS2  =                    1 /Number of rows                                  \n",
        "PCOUNT  =                    0 /Random parameter count                          \n",
        "GCOUNT  =                    1 /Group count                                     \n",
        "TFIELDS =                    1 /Number of columns                               \n",
        "EXTNAME = 'EDGES   '           /name of this binary extension                   \n",
        "DATE    = '26/03/2008'         /file creation date                              \n",
        "TELESCOP= 'GOES 10 '           /spacecraft                                      \n",
        "INSTRUME= 'X-ray Detector'     /                                                \n",
        "OBJECT  = 'Sun     '           /                                                \n",
        "ORIGIN  = 'SDAC/GSFC'          /written by Solar DAC at GSFC                    \n",
        "TFORM1  = '4E      '           /Real*4 (floating point)                         \n",
        "TTYPE1  = 'EDGES   '           /Label for column 1                              \n",
        "TDIM1   = '(2,2)   '           /Array dimensions for column 1                   \n",
        "TUNIT1  = 'angstrom'           /Units of column 1                               "
       ]
      }
     ],
     "prompt_number": 130
    },
    {
     "cell_type": "code",
     "collapsed": false,
     "input": [
      "fits[2].header"
     ],
     "language": "python",
     "metadata": {},
     "outputs": [
      {
       "metadata": {},
       "output_type": "pyout",
       "prompt_number": 131,
       "text": [
        "XTENSION= 'BINTABLE'           /Written by IDL:  Wed Mar 26 01:01:50 2008       \n",
        "BITPIX  =                    8 /                                                \n",
        "NAXIS   =                    2 /Binary table                                    \n",
        "NAXIS1  =               459808 /Number of bytes per row                         \n",
        "NAXIS2  =                    1 /Number of rows                                  \n",
        "PCOUNT  =                    0 /Random parameter count                          \n",
        "GCOUNT  =                    1 /Group count                                     \n",
        "TFIELDS =                    2 /Number of columns                               \n",
        "MJDREF  =                43874 /MJD for reference file                          \n",
        "TIMESYS = 'MJD     '           /The time system is MJD                          \n",
        "TIMEUNIT= 's       '           /Unit for TSTART and TSTOP                       \n",
        "TIMEZERO=                54550 /Time zero off-set                               \n",
        "TSTART  =            0.0000000 /Observation start time                          \n",
        "TSTOP   =            86397.000 /Observation stop time                           \n",
        "EXTNAME = 'FLUXES  '           /name of this binary extension                   \n",
        "DATE    = '26/03/2008'         /file creation date                              \n",
        "TELESCOP= 'GOES 10 '           /spacecraft                                      \n",
        "INSTRUME= 'X-ray Detector'     /                                                \n",
        "OBJECT  = 'Sun     '           /                                                \n",
        "ORIGIN  = 'SDAC/GSFC'          /written by Solar DAC at GSFC                    \n",
        "TFORM1  = '28738D  '           /Real*8 (double precision)                       \n",
        "TTYPE1  = 'TIME    '           /Label for column 1                              \n",
        "TUNIT1  = 's       '           /Units of column 1                               \n",
        "TFORM2  = '57476E  '           /Real*4 (floating point)                         \n",
        "TTYPE2  = 'FLUX    '           /Label for column 2                              \n",
        "TDIM2   = '(2,28738)'          /Array dimensions for column 2                   \n",
        "TUNIT2  = 'W /m**2 '           /Units of column 2                               \n",
        "COMMENT Times given are usually 2-3 seconds after start time of interval.       \n",
        "COMMENT Can not be more exact due to analog filtering of data with time         \n",
        "COMMENT constant of 6-10 seconds.                                               \n",
        "COMMENT Flux value of -99999.0 means no data.                                   "
       ]
      }
     ],
     "prompt_number": 131
    },
    {
     "cell_type": "code",
     "collapsed": false,
     "input": [
      "fits[2].data['TIME'][0]"
     ],
     "language": "python",
     "metadata": {},
     "outputs": [
      {
       "metadata": {},
       "output_type": "pyout",
       "prompt_number": 132,
       "text": [
        "array([  0.00000000e+00,   3.00000000e+00,   6.00000000e+00, ...,\n",
        "         8.63910000e+04,   8.63940000e+04,   8.63970000e+04])"
       ]
      }
     ],
     "prompt_number": 132
    },
    {
     "cell_type": "code",
     "collapsed": false,
     "input": [
      "fits[2].data['FLUX'][0][:,0]"
     ],
     "language": "python",
     "metadata": {},
     "outputs": [
      {
       "metadata": {},
       "output_type": "pyout",
       "prompt_number": 140,
       "text": [
        "array([  1.50519008e-06,   1.51598488e-06,  -9.99990000e+04, ...,\n",
        "         3.53115695e-07,   3.53455249e-07,   3.53506607e-07], dtype=float32)"
       ]
      }
     ],
     "prompt_number": 140
    },
    {
     "cell_type": "code",
     "collapsed": false,
     "input": [
      "file = '/Users/schriste/sunpy/data/go09980303.fits'\n",
      "fits = pyfits.open(file)"
     ],
     "language": "python",
     "metadata": {},
     "outputs": [],
     "prompt_number": 138
    },
    {
     "cell_type": "code",
     "collapsed": false,
     "input": [
      "fits[2].data['FLUX'].shape"
     ],
     "language": "python",
     "metadata": {},
     "outputs": [
      {
       "metadata": {},
       "output_type": "pyout",
       "prompt_number": 139,
       "text": [
        "(1, 28800, 2)"
       ]
      }
     ],
     "prompt_number": 139
    },
    {
     "cell_type": "code",
     "collapsed": false,
     "input": [],
     "language": "python",
     "metadata": {},
     "outputs": []
    }
   ],
   "metadata": {}
  }
 ]
}